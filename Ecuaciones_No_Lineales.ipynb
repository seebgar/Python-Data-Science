{
 "cells": [
  {
   "cell_type": "code",
   "execution_count": 2,
   "metadata": {},
   "outputs": [
    {
     "name": "stdout",
     "output_type": "stream",
     "text": [
      "1.3228756555323*(0.0177961562802217*xx**(-0.8) + 0.642857142857143*xx*sin(3.0*xx) - 0.214285714285714*cos(3.0*xx))*(0.177961562802217*xx**0.2 - 0.428571428571429*xx*cos(3.0*xx) + 1)**(-0.5)\n",
      "<function _lambdifygenerated at 0x7f83f1d33050>\n"
     ]
    },
    {
     "data": {
      "text/plain": [
       "<Figure size 432x288 with 0 Axes>"
      ]
     },
     "metadata": {},
     "output_type": "display_data"
    }
   ],
   "source": [
    "import sympy as sym\n",
    "import struct\n",
    "%matplotlib inline\n",
    "import matplotlib.pyplot as plt\n",
    "import numpy as np\n",
    "\n",
    "# metodo punto fijo\n",
    "xx = sym.Symbol(\"xx\")\n",
    "gg1 = ((1.0/4.0) * (sym.sqrt(3*xx) ** (2.0/5.0) - (xx*3.0) * sym.cos(3.0*xx) + 7)) ** (0.5)\n",
    "dgg1 = gg1.diff()\n",
    "print(dgg1)\n",
    "\n",
    "#dgg1 = sym.Derivative(gg1, xx)\n",
    "#print(dgg1.doit())\n",
    "\n",
    "dgg1fun = sym.lambdify(xx, dgg1, \"numpy\")\n",
    "print(dgg1fun)\n",
    "\n",
    "plt.figure()\n",
    "\n",
    "def f1(x):\n",
    "    return -(x ** 0.25) + np.sin(3.5 * x) + 4.0 * (x ** 0.5) + \\\n",
    "           2 * x - 5"
   ]
  },
  {
   "cell_type": "code",
   "execution_count": null,
   "metadata": {},
   "outputs": [],
   "source": []
  }
 ],
 "metadata": {
  "kernelspec": {
   "display_name": "Python 3",
   "language": "python",
   "name": "python3"
  },
  "language_info": {
   "codemirror_mode": {
    "name": "ipython",
    "version": 3
   },
   "file_extension": ".py",
   "mimetype": "text/x-python",
   "name": "python",
   "nbconvert_exporter": "python",
   "pygments_lexer": "ipython3",
   "version": "3.7.4"
  }
 },
 "nbformat": 4,
 "nbformat_minor": 4
}
