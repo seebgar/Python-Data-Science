{
 "cells": [
  {
   "cell_type": "markdown",
   "metadata": {},
   "source": [
    "https://stackoverflow.com/questions/37383381/understanding-offset-k-method-of-representing-negative-integers"
   ]
  },
  {
   "cell_type": "markdown",
   "metadata": {},
   "source": [
    "If we have numbers ranging from -8 to +8 we can remove the sign by adding 8 to all of or numbers. The numbers would then be 0 to +16. It is rather like shifting the scale (as in converting Celsius to Kelvin) to obtain only positive values.\n",
    "\n",
    "This representation allows operations on the biased numbers to be the same as for unsigned integers, but actually represents both positive and negative values.\n",
    "\n",
    "This method is called by several names - Excess-K, also called offset binary or biased representation, uses a fixed value K as a biasing value.\n",
    "\n",
    "A value is represented by the unsigned number which is K greater than the intended value.\n",
    "\n",
    "Biased representations are now primarily used for the exponent of floating-point numbers. The IEEE floating-point standard defines the exponent field of a single-precision (32-bit) number as an 8-bit excess-127 field.\n",
    "\n",
    "To understand More clearly the two examples below:\n",
    "\n",
    "## Example:1\n",
    "4-bit Pattern\n",
    "<br/>\n",
    "**0110** \n",
    "<br/>\n",
    "the digit/column value of the most significant bit is 8, so 4 bit patterns are referred to as an Excess (8) notation.\n",
    "<br/>\n",
    "<br/>\n",
    "To convert this example find the sum value of the entire pattern as though a standard binary number:\n",
    "\n",
    "=(0 x 8) + (1 x 4) + (1 x 2) + (0 x 1 ) \n",
    "=0      +   4      +   2     +   0\n",
    "=6 \n",
    "<br/>\n",
    "<br/>\n",
    "Then subtract the excess value,8, from the sum, (6 - 8)\n",
    "<br/>\n",
    "The result is a signed value, **-2**.\n",
    "\n",
    "## Example 2\n",
    "5-bit pattern\n",
    "<br/>\n",
    "**11110**\n",
    "<br/>\n",
    "the digit/column value of the most significant bit is 16, so 5-bit patterns are referred to as an Excess (16) notation.\n",
    "<br/>\n",
    "To convert this example find the sum value of the entire pattern as though a standard binary number:\n",
    "<br/>\n",
    "<br/>\n",
    "(1x16) + (1x8) + (1x4) + (1x2) + (0x1)\n",
    "= 16   +    8  +   4   +   2   +   0\n",
    "= 30\n",
    "\n",
    "\n",
    "<br/>\n",
    "\n",
    "Then subtract the current excess value, 16, from the sum, (30 - 16)\n",
    "<br/>\n",
    "The result is a signed value, **+ 14**.\n",
    "<br/>\n",
    "Hope it will clear the logic behind and understand that sign bit of 0 represents the negative sign and 1 represents the non-negative sign to denote a signed value"
   ]
  },
  {
   "cell_type": "markdown",
   "metadata": {},
   "source": [
    "## Decimal"
   ]
  },
  {
   "cell_type": "markdown",
   "metadata": {},
   "source": [
    "Tomar el binario a2 y hacerle flip al bit más a la izquierda\n",
    "<br/>\n",
    "N = 3 "
   ]
  },
  {
   "cell_type": "markdown",
   "metadata": {},
   "source": [
    "3 => a2: 011 => offset: 111\n",
    "<br/>\n",
    "2 => a2: 010 => offset: 110\n",
    "<br/>\n",
    "1 => a2: 001 => offset: 101\n",
    "<br/>\n",
    "0 => a2: 000 => offset: 100\n",
    "<br/>\n",
    "-1 => a2: 011 => offset: 011\n",
    "<br/>\n",
    "...\n",
    "<br/>\n",
    "-4 => a2: 100 => offset: 000"
   ]
  },
  {
   "cell_type": "markdown",
   "metadata": {},
   "source": [
    "### Ejercicios"
   ]
  },
  {
   "cell_type": "markdown",
   "metadata": {},
   "source": [
    "N bits = 8\n",
    "<br/>\n",
    "Posibles numeros = 2^8 = 256\n",
    "<br/>\n",
    "Rango entre [-128, 127]"
   ]
  },
  {
   "cell_type": "code",
   "execution_count": 25,
   "metadata": {},
   "outputs": [],
   "source": [
    "\n",
    "def offset(N, numero):\n",
    "    if numero >= 0:\n",
    "        a2 = format(numero, 'b')\n",
    "        a2_str = a2.rjust(N, \"0\")\n",
    "        a2_arr = [x for x in a2_str]\n",
    "        a2_arr[0] = \"1\"\n",
    "        print(\"\".join(a2_arr))\n",
    "    else:\n",
    "        n = (2 ** N) - abs(numero)\n",
    "        a2 = format(n, 'b')\n",
    "        a2_v2 = [x for x in a2]\n",
    "        a2_v2[0] = \"0\"\n",
    "        print(\"\".join(a2_v2).rjust(N, \"0\"))\n",
    "\n"
   ]
  },
  {
   "cell_type": "code",
   "execution_count": 27,
   "metadata": {},
   "outputs": [
    {
     "name": "stdout",
     "output_type": "stream",
     "text": [
      "3 offset 111\n",
      "2 offset 110\n",
      "1 offset 101\n",
      "0 offset 100\n",
      "-1 offset 011\n",
      "-2 offset 010\n",
      "-3 offset 001\n",
      "-4 offset 000\n"
     ]
    }
   ],
   "source": [
    "N = 3\n",
    "numeros = [3,2,1,0,-1,-2,-3,-4]\n",
    "for x in numeros:\n",
    "    print(x, end=\" offset \")\n",
    "    offset(N, x)"
   ]
  },
  {
   "cell_type": "code",
   "execution_count": 1,
   "metadata": {},
   "outputs": [
    {
     "name": "stdout",
     "output_type": "stream",
     "text": [
      "{'0': '0000', '1': '0001', '2': '0010', '3': '0011', '4': '0100', '5': '0101', '6': '0110', '7': '0111', '8': '1000', '9': '1001', 'a': '1010', 'b': '1011', 'c': '1100', 'd': '1101', 'e': '1110', 'f': '1111'}\n",
      "hex:  0x1.9915b573eab36p+4\n",
      "index p:  17\n",
      "hex 1->p:  1.9915b573eab36\n",
      " ** loop\n",
      "0001 :: . :: 1001 :: 1001 :: 0001 :: 0101 :: 1011 :: 0101 :: 0111 :: 0011 :: 1110 :: 1010 :: 1011 :: 0011 :: 0110 :: \n",
      " ** end loop\n",
      "dict 0001.1001100100010101101101010111001111101010101100110110\n",
      "p+\n",
      "100\n",
      "sripped:  1.100110010001010110110101011100111110101010110011011\n",
      "1.100110010001010110110101011100111110101010110011011p+100\n",
      "25.5678\n"
     ]
    }
   ],
   "source": [
    "##\n",
    "hex2bin = dict('{:x} {:04b}'.format(x,x).split() for x in range(16))\n",
    "bin2hex = dict('{:b} {:x}'.format(x,x).split() for x in range(16))\n",
    "\n",
    "print(hex2bin)\n",
    "\n",
    "def float_dec2bin(d):\n",
    "    neg = False\n",
    "    if d < 0:\n",
    "        d = -d\n",
    "        neg = True\n",
    "    hx = float(d).hex()\n",
    "    print(\"hex: \", hx)\n",
    "    \n",
    "    p = hx.index('p')\n",
    "    print(\"index p: \", p)\n",
    "    bn = ''.join(hex2bin.get(char, char) for char in hx[2:p])\n",
    "    print(\"hex 1->p: \", hx[2:p])\n",
    "  \n",
    "    print(\" ** loop\")\n",
    "    for char in hx[2:p]:\n",
    "        print(hex2bin.get(char, char), end=\" :: \")\n",
    "    print()\n",
    "    print(\" ** end loop\")\n",
    "    print(\"dict\", bn)\n",
    "    print(hx[p:p+2])\n",
    "    print(bin(int(hx[p+2:]))[2:])\n",
    "    print(\"sripped: \", bn.strip('0'))\n",
    "    return (('-' if neg else '') + bn.strip('0') + hx[p:p+2] + bin(int(hx[p+2:]))[2:])\n",
    "    \n",
    "    \n",
    "def float_bin2dec(bn):\n",
    "    neg = False\n",
    "    if bn[0] == '-':\n",
    "        bn = bn[1:]\n",
    "        neg = True\n",
    "    dp = bn.index('.')\n",
    "    extra0 = '0' * (4 - (dp % 4))\n",
    "    bn2 = extra0 + bn\n",
    "    dp = bn2.index('.')\n",
    "    p = bn2.index('p')\n",
    "    hx = ''.join(bin2hex.get(bn2[i:min(i+4, p)].lstrip('0'), bn2[i])\n",
    "                 for i in range(0, dp+1, 4))\n",
    "    bn3 = bn2[dp+1:p]\n",
    "    extra0 = '0' * (4 - (len(bn3) % 4))\n",
    "    bn4 = bn3 + extra0\n",
    "    hx += ''.join(bin2hex.get(bn4[i:i+4].lstrip('0'))\n",
    "                  for i in range(0, len(bn4), 4))\n",
    "    hx = (('-' if neg else '') + '0x' + hx + bn2[p:p+2]\n",
    "          + str(int('0b' + bn2[p+2:], 2)))\n",
    "    return float.fromhex(hx)\n",
    "\n",
    "x = 25.5678\n",
    "y = float_dec2bin(x)\n",
    "print(y)\n",
    "print(float_bin2dec(y))"
   ]
  },
  {
   "cell_type": "code",
   "execution_count": null,
   "metadata": {},
   "outputs": [],
   "source": []
  }
 ],
 "metadata": {
  "kernelspec": {
   "display_name": "Python 3",
   "language": "python",
   "name": "python3"
  },
  "language_info": {
   "codemirror_mode": {
    "name": "ipython",
    "version": 3
   },
   "file_extension": ".py",
   "mimetype": "text/x-python",
   "name": "python",
   "nbconvert_exporter": "python",
   "pygments_lexer": "ipython3",
   "version": "3.7.4"
  }
 },
 "nbformat": 4,
 "nbformat_minor": 4
}
