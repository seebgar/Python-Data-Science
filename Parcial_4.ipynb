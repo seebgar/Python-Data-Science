{
 "cells": [
  {
   "cell_type": "markdown",
   "metadata": {},
   "source": [
    "# PARCIAL PUNTO 2\n",
    "Solución de ecuaciones no lineales multivariable"
   ]
  },
  {
   "cell_type": "code",
   "execution_count": 31,
   "metadata": {},
   "outputs": [
    {
     "data": {
      "text/plain": [
       "<Figure size 432x288 with 0 Axes>"
      ]
     },
     "metadata": {},
     "output_type": "display_data"
    },
    {
     "data": {
      "image/png": "[encoded data removed]",
      "text/plain": [
       "<Figure size 864x360 with 1 Axes>"
      ]
     },
     "metadata": {
      "needs_background": "light"
     },
     "output_type": "display_data"
    }
   ],
   "source": [
    "import numpy as np\n",
    "import matplotlib.pyplot as plt\n",
    "\n",
    "\"\"\"\n",
    "Grafica e intersección para hallar intervalo.\n",
    "\"\"\"\n",
    "\n",
    "# definicion de la funcion f1 como ejemplo\n",
    "def F1(x1, x2):\n",
    "    return (-2 * (x2 ** (1.0/5.0))) + (x1 * x2) + (0.5 * np.cos(-3.0 * x1))\n",
    "\n",
    "def F2(x1, x2):\n",
    "    return 0.5 * (x2 ** (1.0/4.0)) + 5.0 * (np.exp(x1 ** (1.0/2.0))) - 17.0\n",
    "\n",
    "\n",
    "\n",
    "# grafico de lineas de entorno\n",
    "x1 = np.arange(0.1, 3.0, 0.1)\n",
    "x2 = np.arange(0.1, 3.0, 0.1)\n",
    "\n",
    "# matriz con la combinación de todos los valores\n",
    "X1, X2 = np.meshgrid(x1, x2)\n",
    "\n",
    "# graph\n",
    "plt.figure()\n",
    "plt.figure(figsize=(12,5))\n",
    "\n",
    "# f1\n",
    "C1 = plt.contour(X1, X2, F1(X1, X2), [0.0] , colors='b') # [0.0]  para graficar interseccion == nivel 0\n",
    "plt.clabel(C1, fontsize=10)\n",
    "\n",
    "# f2\n",
    "C2 = plt.contour(X1, X2, F2(X1, X2), [0.0] , colors='r')\n",
    "plt.clabel(C2, fontsize=10)\n",
    "\n",
    "plt.xlabel(\"x1\")\n",
    "plt.ylabel(\"x2\")\n",
    "plt.grid(True)\n",
    "plt.show()\n",
    "\n",
    "# observar la intersección en 0 de la línea azul y la roja\n",
    "# nos interesa el intervarlo para x1 y x2 donde se intersectan en 0"
   ]
  },
  {
   "cell_type": "code",
   "execution_count": 35,
   "metadata": {},
   "outputs": [
    {
     "name": "stdout",
     "output_type": "stream",
     "text": [
      "Multivariables - raiz x1: 1.41471758\n",
      "Multivariables - raiz x2: 1.73856583\n",
      "Multivariables - iteraciones: 4\n"
     ]
    }
   ],
   "source": [
    "\"\"\"\n",
    "Solución de sistemas de ecuaciones no-lineales multivariables\n",
    "\"\"\"\n",
    "\n",
    "# Matriz Jacobiana \n",
    "\"\"\"\n",
    "| df1x1  df1x2 |\n",
    "|              |\n",
    "| df2x1  df2x2 |\n",
    "\"\"\"\n",
    "def jacobiano(x1, x2):\n",
    "    # de la forma mas estupida, se deben saber las derivadas de las funciones\n",
    "    A = np.zeros([2, 2])\n",
    "    A[0, 0] = x2 - 1.5 * np.sin(3.0 * x1)\n",
    "    A[0, 1] = x1 - (0.4 / (x2 ** 0.8))\n",
    "    A[1, 0] = (2.5 * np.exp(x1 ** 0.5)) / (x1 ** 0.5)\n",
    "    A[1, 1] = (0.125) / (x2 ** 0.75)\n",
    "    return A\n",
    "\n",
    "# puntos iniciales, se toman como aquellos cercanos a la interseccion en 0 vistos en la anterior grafica\n",
    "x1io = 1.1\n",
    "x2io = 1.2\n",
    "\n",
    "# tolerancias de siempre\n",
    "tol_x = 10**-10\n",
    "tol_y = 10**-10\n",
    "\n",
    "# iteraciones\n",
    "itr = 0\n",
    "\n",
    "# busqueda de la raiz\n",
    "while True:\n",
    "    itr += 1\n",
    "    \n",
    "    # matriz jacobaino A ; Ax = b\n",
    "    A = jacobiano(x1io, x2io)\n",
    "    \n",
    "    # vector b ; ax = b\n",
    "    b = np.zeros([2, 1])\n",
    "    b[0] = -F1(x1io, x2io)\n",
    "    b[1] = -F2(x1io, x2io)\n",
    "    \n",
    "    # solucionar Ax = b ; se puede utilizar Gauss, Gauss-Jordan o numpy linalg solve\n",
    "    delta_x = np.linalg.solve(A, b)\n",
    "    \n",
    "    # raiz candidata haciendo xi = xi-1 + deltax\n",
    "    x1 = np.float(x1io + delta_x[0])\n",
    "    x2 = np.float(x2io + delta_x[1]) \n",
    "    \n",
    "    # evalucion de criterios de paradas\n",
    "    if np.abs(x1 - x1io) <= tol_x and np.abs(x2 - x2io) <= tol_x: \n",
    "        break\n",
    "    if np.abs(F1(x1, x2)) <= tol_y and np.abs(F2(x1, x2)) <= tol_y:\n",
    "        break\n",
    "        \n",
    "    # actualizacion de los puntos inciales\n",
    "    x1io = x1\n",
    "    x2io = x2\n",
    "\n",
    "# soluciones\n",
    "print(f\"Multivariables - raiz x1: {x1:0.8f}\")\n",
    "print(f\"Multivariables - raiz x2: {x2:0.8f}\")\n",
    "print(f\"Multivariables - iteraciones: {itr}\")"
   ]
  },
  {
   "cell_type": "markdown",
   "metadata": {},
   "source": [
    "# PARCIAL PUNTO 1 Interpolación por Splines Cúbicos\n",
    "Construcción de sub-polinomios a partir de un conjunto de puntos."
   ]
  },
  {
   "cell_type": "code",
   "execution_count": 24,
   "metadata": {},
   "outputs": [
    {
     "name": "stdout",
     "output_type": "stream",
     "text": [
      "[1990. 1991. 1993. 1995. 1998. 2001. 2002. 2005. 2009. 2012. 2014. 2017.]\n",
      "\n",
      "[10.62 10.63 10.5  10.44  9.89  9.1   9.02  9.19  9.06  8.79  8.59  8.3 ]\n",
      "\n",
      "Año\t           Natural            \t          Not-a-knot          \t           Clamped            \t\n",
      "1994\t              10.47422962\t              10.47558553\t              10.47339936\t\n",
      "1999\t               9.59222920\t               9.59238999\t               9.59212176\t\n",
      "2004\t               9.11878391\t               9.11877653\t               9.11856458\t\n",
      "2007\t               9.19090603\t               9.19098422\t               9.19214220\t\n",
      "2011\t               8.88553793\t               8.88531076\t               8.88210236\t\n"
     ]
    },
    {
     "data": {
      "text/plain": [
       "<Figure size 432x288 with 0 Axes>"
      ]
     },
     "metadata": {},
     "output_type": "display_data"
    },
    {
     "data": {
      "image/png": "[encoded data removed]",
      "text/plain": [
       "<Figure size 1008x504 with 1 Axes>"
      ]
     },
     "metadata": {
      "needs_background": "light"
     },
     "output_type": "display_data"
    }
   ],
   "source": [
    "\n",
    "\"\"\"\n",
    "PUNTO 1\n",
    "\"\"\"\n",
    "\n",
    "\n",
    "import numpy as np\n",
    "import matplotlib.pyplot as plt\n",
    "##\n",
    "import scipy.interpolate as interpol\n",
    "import struct\n",
    "\n",
    "x_file_name = \"data_x_smoke.bin\"\n",
    "y_file_name = \"data_y_smoke.bin\"\n",
    "\n",
    "valores_x = []\n",
    "valores_y = []\n",
    "\n",
    "with open(x_file_name, 'rb') as f:\n",
    "    x = f.read()\n",
    "    valores_x = np.array(struct.unpack(\"d\"*int(len(x)/8), x))  # double\n",
    "    \n",
    "with open(y_file_name, 'rb') as f:\n",
    "    y = f.read()\n",
    "    valores_y = np.array(struct.unpack(\"d\"*int(len(y)/8), y)) \n",
    "    \n",
    "# Puntos conocidos\n",
    "Xi = np.array(valores_x)\n",
    "Yi = np.array(valores_y)\n",
    "\n",
    "print(Xi)\n",
    "print(\"\")\n",
    "print(Yi)\n",
    "\n",
    "\n",
    "# Splines Natural :: segunda derivada a cero en los puntos extremos\n",
    "f1Nat = interpol.CubicSpline(Xi, Yi, bc_type=\"natural\")\n",
    "\n",
    "# Splines Not - a - knot :: igualdad de terceras drivadas en el segundo y penultimo punto. (se necesitan al menos 4 puntos)\n",
    "f1Nak = interpol.CubicSpline(Xi, Yi, bc_type=\"not-a-knot\")\n",
    "\n",
    "# Splines Clamped, con valor k=0 :: primera derivada en los puntos extremos igual a un valor definido k\n",
    "f1Clam = interpol.CubicSpline(Xi, Yi, bc_type=\"clamped\")\n",
    "\n",
    "\"\"\"\n",
    "Gráfica de polinomios resultantes\n",
    "\"\"\"\n",
    "\n",
    "# rango\n",
    "Xp = np.arange(Xi[0], Xi[-1],  1)\n",
    "\n",
    "plt.figure()\n",
    "plt.figure(figsize=(14,7))\n",
    "\n",
    "plt.plot(Xi, Yi, 'sr')\n",
    "\n",
    "plt.plot(Xp, f1Nat(Xp), '--b')\n",
    "plt.plot(Xp, f1Nak(Xp), '--m')\n",
    "plt.plot(Xp, f1Clam(Xp), '--g')\n",
    "\n",
    "plt.xlim([1985, 2022])\n",
    "plt.ylim([8, 11])\n",
    "\n",
    "plt.xlabel(\"x\")\n",
    "plt.ylabel(\"y\")\n",
    "\n",
    "plt.legend([\"Conocidos\", \"Natural\", \"Not-a-Knot\", \"Clamped\"])\n",
    "plt.grid(1)\n",
    "\n",
    "###\n",
    "\n",
    "valores_pregunta = [1994, 1999, 2004, 2007, 2011]\n",
    "\n",
    "print()\n",
    "print(\"Año\\t{:^30s}\\t{:^30s}\\t{:^30s}\\t\".format(\"Natural\", \"Not-a-knot\", \"Clamped\"))\n",
    "for i in valores_pregunta:\n",
    "    print(\"{:d}\\t{: 25.08f}\\t{: 25.08f}\\t{: 25.08f}\\t\".format(i, f1Nat(i), f1Nak(i), f1Clam(i) ))\n",
    "    \n",
    "    \n",
    "    \n"
   ]
  },
  {
   "cell_type": "code",
   "execution_count": null,
   "metadata": {},
   "outputs": [],
   "source": []
  },
  {
   "cell_type": "code",
   "execution_count": null,
   "metadata": {},
   "outputs": [],
   "source": []
  },
  {
   "cell_type": "code",
   "execution_count": null,
   "metadata": {},
   "outputs": [],
   "source": []
  },
  {
   "cell_type": "code",
   "execution_count": null,
   "metadata": {},
   "outputs": [],
   "source": []
  },
  {
   "cell_type": "code",
   "execution_count": null,
   "metadata": {},
   "outputs": [],
   "source": []
  },
  {
   "cell_type": "code",
   "execution_count": null,
   "metadata": {},
   "outputs": [],
   "source": []
  },
  {
   "cell_type": "code",
   "execution_count": null,
   "metadata": {},
   "outputs": [],
   "source": []
  },
  {
   "cell_type": "markdown",
   "metadata": {},
   "source": [
    "# PARCIAL PUNTO 3"
   ]
  },
  {
   "cell_type": "code",
   "execution_count": 52,
   "metadata": {},
   "outputs": [
    {
     "name": "stdout",
     "output_type": "stream",
     "text": [
      "[  2.          15.09814066 111.07974829]\n"
     ]
    },
    {
     "data": {
      "text/plain": [
       "<Figure size 432x288 with 0 Axes>"
      ]
     },
     "metadata": {},
     "output_type": "display_data"
    },
    {
     "data": {
      "image/png": "[encoded data removed]",
      "text/plain": [
       "<Figure size 864x360 with 1 Axes>"
      ]
     },
     "metadata": {
      "needs_background": "light"
     },
     "output_type": "display_data"
    }
   ],
   "source": [
    "\n",
    "\n",
    "\"\"\"\n",
    "PUNTO 3\n",
    "\"\"\"\n",
    "\n",
    "\n",
    "import numpy as np\n",
    "import matplotlib.pyplot as plt\n",
    "\n",
    "\"\"\"\n",
    "Euler Forward & RK\n",
    "\"\"\"\n",
    "\n",
    "Y0 = 2.0\n",
    "\n",
    "# funcion f(t, y) que depende unicamente de y\n",
    "def f1(t):\n",
    "    r = 0.0124125\n",
    "    M = 64\n",
    "    A = (M - Y0) / Y0\n",
    "    return M / (1 + ( A * np.exp(-r * M * t) ))\n",
    "\n",
    "# valores\n",
    "h = 1.5 # entre menor sea h, más se acerca la solución a la analítica\n",
    "To = 0.0\n",
    "Tf = 3.0\n",
    "\n",
    "# tiempo\n",
    "T = np.arange(To, Tf + h, h)\n",
    "\n",
    "# valores estimados de Y(t) en cada iteracion\n",
    "YEulerFor = np.zeros(len(T)) # forward\n",
    "YRK2 = np.zeros(len(T)) # runge kutta 2\n",
    "YRK4 = np.zeros(len(T)) # runge kutta 4\n",
    "\n",
    "# valor inicial Y(t)\n",
    "YEulerFor[0] = Y0\n",
    "YRK2[0] = Y0\n",
    "YRK4[0] = Y0\n",
    "\n",
    "# iteracion\n",
    "for i in range(1, len(T)):\n",
    "    # forward\n",
    "    YEulerFor[i] = YEulerFor[i - 1] + h * f1(YEulerFor[i-1])\n",
    "    \n",
    "    # runge kutta 2\n",
    "    k1 = f1(YRK2[i-1])\n",
    "    k2 = f1(YRK2[i - 1] + k1 * h)\n",
    "    YRK2[i] = YRK2[i-1] + (h/2.0) * (k1 + k2)\n",
    "    \n",
    "    # runge kutta 4\n",
    "    k1 = f1( YRK4[i-1])\n",
    "    k2 = f1(YRK4[i-1] + 0.5 * k1 * h)\n",
    "    k3 = f1(YRK4[i-1] + 0.5 * k2 * h)\n",
    "    k4 = f1(YRK4[i-1] + k3 * h)\n",
    "    YRK4[i] = YRK4[i-1] + (h/6.0) * (k1 + 2.0 * k2 + 2.0 * k3 + k4)\n",
    "\n",
    "\"\"\"\n",
    "Gráfica\n",
    "\"\"\"\n",
    "plt.figure()\n",
    "plt.figure(figsize=(12,5))\n",
    "\n",
    "plt.plot(T, YEulerFor, \"r\") # se va por debajo del analitico\n",
    "plt.plot(T, f1(T), \"b\") # se va por debajo del analitico\n",
    "plt.plot(T, YRK2, \"purple\") # runge kutta 2 -- se va por debajo de analitica pero por arriba de forward\n",
    "plt.plot(T, YRK4, \"green\") # runge kutta 4 -- por debajo de analitica pero mucha mas cercano al analitica que RK2\n",
    "\n",
    "plt.xlabel(\"t\", fontsize=15)\n",
    "plt.ylabel(\"Y(t)\", fontsize=15)\n",
    "plt.grid(1)\n",
    "\n",
    "\"\"\"\n",
    "Conclusión\n",
    "La solución estimada con el método de RK4\n",
    "es la que más se acerca a la obtenida\n",
    "con la solución analítica.\n",
    "\"\"\"\n",
    "\n",
    "\"\"\"\n",
    "PUNTO PARCIAL\n",
    "\"\"\"\n",
    "\n",
    "print(YEulerFor)\n"
   ]
  },
  {
   "cell_type": "code",
   "execution_count": null,
   "metadata": {},
   "outputs": [],
   "source": []
  }
 ],
 "metadata": {
  "kernelspec": {
   "display_name": "Python 3",
   "language": "python",
   "name": "python3"
  },
  "language_info": {
   "codemirror_mode": {
    "name": "ipython",
    "version": 3
   },
   "file_extension": ".py",
   "mimetype": "text/x-python",
   "name": "python",
   "nbconvert_exporter": "python",
   "pygments_lexer": "ipython3",
   "version": "3.7.4"
  }
 },
 "nbformat": 4,
 "nbformat_minor": 4
}
