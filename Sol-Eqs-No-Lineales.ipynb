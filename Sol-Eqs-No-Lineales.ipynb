{
 "cells": [
  {
   "cell_type": "code",
   "execution_count": 7,
   "metadata": {},
   "outputs": [
    {
     "data": {
      "image/png": "[encoded data removed]",
      "text/plain": [
       "<Figure size 432x288 with 1 Axes>"
      ]
     },
     "metadata": {
      "needs_background": "light"
     },
     "output_type": "display_data"
    },
    {
     "name": "stdout",
     "output_type": "stream",
     "text": [
      "1.503\n"
     ]
    }
   ],
   "source": [
    "import math\n",
    "import numpy as np\n",
    "import matplotlib.pyplot as plt\n",
    "\n",
    "def f1(x):\n",
    "    a = -1.0 * (abs(np.sqrt(3.0 * x)) ** (2.0/5.0))     \n",
    "    b = (x ** 3.0) * np.cos(3.0 * x) \n",
    "    c = 4.0 * (x ** 2.0) - 7\n",
    "    return a + b + c\n",
    "\n",
    "x = np.arange(0.0, 2.0, 0.001)\n",
    "\n",
    "plt.figure()\n",
    "plt.plot(x, f1(x))\n",
    "plt.grid(1)\n",
    "plt.show()\n",
    "\n",
    "minimo = np.argmin(np.abs(f1(x)))\n",
    "print(f\"{x[minimo]:0.3f}\")"
   ]
  },
  {
   "cell_type": "code",
   "execution_count": 9,
   "metadata": {},
   "outputs": [
    {
     "name": "stdout",
     "output_type": "stream",
     "text": [
      "Biseccion - Raíz: 1.503\n",
      "Iteraciones: 17\n"
     ]
    }
   ],
   "source": [
    "##\n",
    "\n",
    "# biseccion\n",
    "\n",
    "# intervalo - debe contener la raiz\n",
    "x0 = 1.0\n",
    "x1 = 2.0\n",
    "\n",
    "# tolerancias\n",
    "tol_x = 10 ** -5\n",
    "tol_f = tol_x\n",
    "\n",
    "# almacenar el valor\n",
    "x2_prev = x1\n",
    "\n",
    "# totaltes\n",
    "count = 0\n",
    "\n",
    "# busqueda de la raiz\n",
    "while True:\n",
    "    count += 1\n",
    "    x2 = (x0 + x1) / 2.0\n",
    "    if np.abs(x2 - x2_prev) <= tol_x: break\n",
    "    if np.abs(f1(x2)) <= tol_f: break\n",
    "    if f1(x2) * f1(x0) < 0:\n",
    "        x1 = x2\n",
    "    else:\n",
    "        x0 = x2\n",
    "    x2_prev = x2\n",
    "    if count >= 100: break # save porque este algoritmo es basura\n",
    "    \n",
    "print(f\"Biseccion - Raíz: {x2:0.3f}\")\n",
    "print(f\"Iteraciones: {count}\")"
   ]
  },
  {
   "cell_type": "code",
   "execution_count": null,
   "metadata": {},
   "outputs": [],
   "source": []
  }
 ],
 "metadata": {
  "kernelspec": {
   "display_name": "Python 3",
   "language": "python",
   "name": "python3"
  },
  "language_info": {
   "codemirror_mode": {
    "name": "ipython",
    "version": 3
   },
   "file_extension": ".py",
   "mimetype": "text/x-python",
   "name": "python",
   "nbconvert_exporter": "python",
   "pygments_lexer": "ipython3",
   "version": "3.7.4"
  }
 },
 "nbformat": 4,
 "nbformat_minor": 4
}
