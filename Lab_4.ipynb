{
 "cells": [
  {
   "cell_type": "markdown",
   "metadata": {},
   "source": [
    "# Laboratorio 4\n",
    "Sebastian Garcia 201630047"
   ]
  },
  {
   "cell_type": "code",
   "execution_count": 1,
   "metadata": {},
   "outputs": [],
   "source": [
    "def get_entero_positivo():\n",
    "    try:\n",
    "        numero = int(input(\"Numero entero: \") or \"0\")\n",
    "        if numero < 0:\n",
    "            print(\"Numero negativo no es valido.\")\n",
    "        else:\n",
    "            return numero\n",
    "    except:\n",
    "        print(\"Numero no entero es invalido.\")\n",
    "        return 0\n",
    "    return 0\n",
    "\n",
    "def get_real():\n",
    "    numero = float(input(\"Numero real: \") or \"0.0\")\n",
    "    return numero"
   ]
  },
  {
   "cell_type": "markdown",
   "metadata": {},
   "source": [
    "### Ejercicio 1\n",
    "Realice un función recursiva que permita determinar si un número entero positivo pertenece a la serie de Fibonacci."
   ]
  },
  {
   "cell_type": "code",
   "execution_count": 2,
   "metadata": {},
   "outputs": [
    {
     "name": "stdout",
     "output_type": "stream",
     "text": [
      "Numero entero: 8\n",
      "¿Esta en la secuencia de fibonacci?\n",
      "Si\n"
     ]
    }
   ],
   "source": [
    "## \n",
    "from math import sqrt\n",
    "\n",
    "def es_cuadrado(n) -> bool:\n",
    "    # caso base\n",
    "    if n < 0: return False\n",
    "    # en HEX, los cuadrados terminan en 0, 1 ,4, o 9\n",
    "    if (n & 0xf) in (0, 1, 4, 9): return sqrt(n) % 1 == 0 # si la raiz es entera\n",
    "    return False\n",
    "\n",
    "# un numero N pertenece a la serie si (5N^2 + 4) o (5N^2 – 4) es un cuadrado perfecto\n",
    "def _en_fibonacci(N, f=4) -> bool:\n",
    "    if es_cuadrado((5 * (N ** 2)) + f):\n",
    "        return True\n",
    "    elif f == -4:\n",
    "        return False\n",
    "    else:\n",
    "        return _en_fibonacci(N, f=-4)\n",
    "\n",
    "n = get_entero_positivo()\n",
    "r = \"Si\" if _en_fibonacci(n) else \"No\"\n",
    "print(f\"¿Esta en la secuencia de fibonacci?\\n{r}\")"
   ]
  },
  {
   "cell_type": "markdown",
   "metadata": {},
   "source": [
    "### Ejercicio 2\n",
    " Realice un función recursiva que permita determinar si un número entero positivo pertenece a la serie de cuadrada. (Un número pertenece a la serie cuadrada si la parte fraccionaria de su correspondiente raíz cuadrada es cero, por ejemplo: 1, 4, 9, 16, 25, 36, 49, etc., es decir, si su raíz cuadrada es un número entero)."
   ]
  },
  {
   "cell_type": "code",
   "execution_count": 3,
   "metadata": {},
   "outputs": [
    {
     "name": "stdout",
     "output_type": "stream",
     "text": [
      "Numero entero: 49\n",
      "¿Esta en la serie cuadrada?\n",
      "Si\n"
     ]
    }
   ],
   "source": [
    "## \n",
    "def _es_cuadrado( n, i=1) -> bool:\n",
    "    if ( n * 100 ) - ( i * i ) <= 0 :\n",
    "        return ( i/10 ) % 1 == 0 # es entero\n",
    "    else:\n",
    "        return _es_cuadrado(n, i + 1 );\n",
    "\n",
    "n = get_entero_positivo()\n",
    "r = \"Si\" if _es_cuadrado(n) else \"No\"\n",
    "print(f\"¿Esta en la serie cuadrada?\\n{r}\")"
   ]
  },
  {
   "cell_type": "markdown",
   "metadata": {},
   "source": [
    "### Ejercicio 3\n",
    "Escriba una función recursiva que devuelva el valor de la serie de Taylor de ex para un número real dado x y un número máximo de términos en la serie N."
   ]
  },
  {
   "cell_type": "code",
   "execution_count": 4,
   "metadata": {},
   "outputs": [
    {
     "name": "stdout",
     "output_type": "stream",
     "text": [
      "Numero real: 2.34\n",
      "Numero entero: 20\n",
      "Serie de Taylo de exponente\n",
      " 10.381236562730605\n"
     ]
    }
   ],
   "source": [
    "##\n",
    "import math\n",
    "\n",
    "def taylor_exp(x, N):\n",
    "    if N == 0: return 1\n",
    "    return (( x ** N) / math.factorial(N)) + taylor_exp(x, N - 1 )\n",
    "    \n",
    "x = get_real() # 2.34\n",
    "N = get_entero_positivo() # 20\n",
    "ty = taylor_exp(x, N) # 10.381236562730605\n",
    "print(\"Serie de Taylo de exponente\\n\", ty)"
   ]
  },
  {
   "cell_type": "markdown",
   "metadata": {},
   "source": [
    "### Ejercicio 4\n",
    " Escriba una función recursiva que devuelva el valor de la serie de Taylor del seno (sen(x)) para un número real dado x y un número máximo de términos en la serie N."
   ]
  },
  {
   "cell_type": "code",
   "execution_count": 5,
   "metadata": {},
   "outputs": [
    {
     "name": "stdout",
     "output_type": "stream",
     "text": [
      "Numero real: 2.34\n",
      "Numero entero: 5\n",
      "Serie de Taylo de seno\n",
      " 0.7184549238687695\n"
     ]
    }
   ],
   "source": [
    "##\n",
    "import math\n",
    "\n",
    "def taylor_seno(x, N):\n",
    "    if N == 0: return x\n",
    "    return (((-1.0) ** N) / (math.factorial(2.0 * N + 1.0))) * ( x ** (2.0 * N + 1.0) ) + taylor_seno(x, N-1)\n",
    "\n",
    "    \n",
    "x = get_real() # 2.34\n",
    "N = get_entero_positivo() # 5\n",
    "ty = taylor_seno(x, N) # 0.7184549238687695\n",
    "print(\"Serie de Taylo de seno\\n\", ty)"
   ]
  },
  {
   "cell_type": "markdown",
   "metadata": {},
   "source": [
    "### Ejercicio 5\n",
    "Escriba una función recursiva que devuelva el valor de la serie de Taylor del coseno (cos(x)) para un número real dado x y un número máximo de términos en la serie N."
   ]
  },
  {
   "cell_type": "code",
   "execution_count": 6,
   "metadata": {},
   "outputs": [
    {
     "name": "stdout",
     "output_type": "stream",
     "text": [
      "Numero real: 2.34\n",
      "Numero entero: 5\n",
      "Serie de Taylo de coseno\n",
      " 0.6443820614840369\n"
     ]
    }
   ],
   "source": [
    "##\n",
    "import math\n",
    "\n",
    "def taylor_coseno(x, N):\n",
    "    # condicion de parada\n",
    "    if N == 0: return x\n",
    "    return (((-1.0) ** N) / (math.factorial(2.0 * N ))) * ( x ** (2.0 * N ) ) + taylor_coseno(x, N-1)\n",
    "\n",
    "    \n",
    "x = get_real() # 2.34\n",
    "N = get_entero_positivo() # 5\n",
    "ty = taylor_coseno(x, N) # 0.6443820614840369\n",
    "print(\"Serie de Taylo de coseno\\n\", ty)"
   ]
  },
  {
   "cell_type": "markdown",
   "metadata": {},
   "source": [
    "### Ejercicio 6\n",
    "A partir de la función realizada en el punto 3, realice una curva que presente el valor estimado de ex para valores de N desde 10 hasta 1000 con pasos de 10; realice otra curva que presente el error absoluto de la serie para los mismos valores estimados de N (10:10:1000); realice otra curva que presente el error relativo de la serie para los mismos valores estimados de N (10:10:1000). Tome como valor “verdadero” (más preciso) el que devuelve la función nativa ex del lenguaje de programación."
   ]
  },
  {
   "cell_type": "code",
   "execution_count": null,
   "metadata": {},
   "outputs": [],
   "source": []
  },
  {
   "cell_type": "markdown",
   "metadata": {},
   "source": [
    "### Ejercicio 7\n",
    "Repita el punto 6 para la función realizada en el punto 4 (sen(x))."
   ]
  },
  {
   "cell_type": "code",
   "execution_count": null,
   "metadata": {},
   "outputs": [],
   "source": []
  },
  {
   "cell_type": "markdown",
   "metadata": {},
   "source": [
    "### Ejercicio 8\n",
    "Repita el punto 6 para la función realizada en el punto 5 (cos(x))."
   ]
  },
  {
   "cell_type": "code",
   "execution_count": null,
   "metadata": {},
   "outputs": [],
   "source": []
  },
  {
   "cell_type": "markdown",
   "metadata": {},
   "source": [
    "### Ejercicio 9\n",
    "Realice un programa que genere 1000 número aleatorios enteros entre -10 y 10 y los guarde un archivo binario con formato de 16 bits (int16). El archivo se debe llamar FileBinInt16.bin."
   ]
  },
  {
   "cell_type": "code",
   "execution_count": 7,
   "metadata": {},
   "outputs": [],
   "source": [
    "##\n",
    "import struct\n",
    "%matplotlib inline\n",
    "import matplotlib.pyplot as plt\n",
    "import numpy as np\n",
    "\n",
    "file_name = \"FileBinInt16.bin\"\n",
    "with open(file_name, 'wb') as f:\n",
    "    vals = np.random.randint(-10, 10, size=(1000,))\n",
    "    for val in vals:\n",
    "        f.write(struct.pack( \"<h\", int(val) ))        "
   ]
  },
  {
   "cell_type": "markdown",
   "metadata": {},
   "source": [
    "### Ejercicio 10\n",
    " Realice un programa que lea los datos guardados en el archivo creado en el punto 9 y grafique el histograma correspondiente usando 30 casillas (30 bins)."
   ]
  },
  {
   "cell_type": "code",
   "execution_count": 8,
   "metadata": {},
   "outputs": [
    {
     "data": {
      "image/png": "[encoded data removed]",
      "text/plain": [
       "<Figure size 576x396 with 1 Axes>"
      ]
     },
     "metadata": {
      "needs_background": "light"
     },
     "output_type": "display_data"
    }
   ],
   "source": [
    "##\n",
    "file_name = \"FileBinInt16.bin\"\n",
    "kwargs = dict(bins=30, alpha=0.9, histtype='stepfilled', color='#34a8eb', edgecolor='none')\n",
    "\n",
    "with open(file_name, 'rb') as f:\n",
    "    x = f.read()\n",
    "    valores = np.double(struct.unpack(\"h\"*int(len(x)/2), x)) # size short = 2B\n",
    "\n",
    "    plt.style.use('seaborn-notebook')\n",
    "    plt.hist(valores, **kwargs)\n",
    "    plt.show()"
   ]
  },
  {
   "cell_type": "markdown",
   "metadata": {},
   "source": [
    "### Ejercicio 11\n",
    "Realice un programa que genere 1000 número aleatorios reales entre -1 y 1 y los guarde un archivo binario con formato de 64 bits (double). El archivo se debe llamar FileBinDouble.bin."
   ]
  },
  {
   "cell_type": "code",
   "execution_count": 9,
   "metadata": {},
   "outputs": [],
   "source": [
    "##\n",
    "import struct\n",
    "%matplotlib inline\n",
    "import matplotlib.pyplot as plt\n",
    "import numpy as np\n",
    "\n",
    "file_name = \"FileBinDouble.bin\"\n",
    "with open(file_name, 'wb') as f:\n",
    "    vals = np.random.uniform(-1, 1, size=(1000,))\n",
    "    for val in vals:\n",
    "        f.write(struct.pack( \"d\", val ))      "
   ]
  },
  {
   "cell_type": "markdown",
   "metadata": {},
   "source": [
    "### Ejercicio 12\n",
    "Realice un programa que lea los datos guardados en el archivo creado en el punto 11 y grafique el histograma correspondiente usando 30 casillas (30 bins)."
   ]
  },
  {
   "cell_type": "code",
   "execution_count": 10,
   "metadata": {},
   "outputs": [
    {
     "data": {
      "image/png": "[encoded data removed]",
      "text/plain": [
       "<Figure size 576x396 with 1 Axes>"
      ]
     },
     "metadata": {
      "needs_background": "light"
     },
     "output_type": "display_data"
    }
   ],
   "source": [
    "##\n",
    "file_name = \"FileBinDouble.bin\"\n",
    "kwargs = dict(bins=30, alpha=0.9, histtype='stepfilled', color='#34a8eb', edgecolor='none')\n",
    "\n",
    "with open(file_name, 'rb') as f:\n",
    "    x = f.read()\n",
    "    valores = np.double(struct.unpack(\"d\"*int(len(x)/8), x)) # size double => 8B\n",
    "    plt.style.use('seaborn-notebook')\n",
    "    plt.hist(valores, **kwargs)\n",
    "    plt.show()"
   ]
  },
  {
   "cell_type": "markdown",
   "metadata": {},
   "source": [
    "### Ejercicio 13\n",
    "En el archivo binario File-214.bin se encuentran una serie de números enteros sin signo (unsigned), cada uno almacenado en 32 bits. El promedio de todos los datos es: 64023.8381.\n",
    "\n",
    "Realice un programa que lea adecuadamente todos los datos de este archivo y comprueba el valor promedio de todos los datos."
   ]
  },
  {
   "cell_type": "code",
   "execution_count": 11,
   "metadata": {},
   "outputs": [
    {
     "name": "stdout",
     "output_type": "stream",
     "text": [
      "Promedio esperado:  True\n"
     ]
    }
   ],
   "source": [
    "## \n",
    "## File-214\n",
    "\n",
    "file_name = \"File-214.bin\"\n",
    "\n",
    "with open(file_name, 'rb') as f:\n",
    "    x = f.read()\n",
    "    valores = np.double(struct.unpack(\"i\"*int(len(x)/4), x)) # size double => 8B\n",
    "    print(\"Promedio esperado: \", f'{np.mean(valores):0.4f}' == '64023.8381' )"
   ]
  },
  {
   "cell_type": "markdown",
   "metadata": {},
   "source": [
    "### Ejercicio 14\n",
    "A partir de los datos leídos de en el punto 13, realice un programa que permita determinar el número de datos que pertenecen a la serie de Fibonacci y escriba el número total de datos que pertenecen a esta serie (utilice la función realizada en el punto 1)."
   ]
  },
  {
   "cell_type": "code",
   "execution_count": 12,
   "metadata": {},
   "outputs": [
    {
     "name": "stdout",
     "output_type": "stream",
     "text": [
      "134 numeros en la serie de Fibonacci\n"
     ]
    }
   ],
   "source": [
    "##\n",
    "file_name = \"File-214.bin\"\n",
    "\n",
    "with open(file_name, 'rb') as f:\n",
    "    x = f.read()\n",
    "    valores = np.double(struct.unpack(\"i\"*int(len(x)/4), x)) # size double => 8B\n",
    "    cont = 0\n",
    "    for x in valores:\n",
    "        if _en_fibonacci(int(x)): cont += 1\n",
    "    print(f'{cont} numeros en la serie de Fibonacci')"
   ]
  },
  {
   "cell_type": "markdown",
   "metadata": {},
   "source": [
    "### Ejercicio 15\n",
    " A partir de los datos leídos de en el punto 13, realice un programa que permita determinar el número de datos que pertenecen a la serie cuadrada y escriba el número total de datos que pertenecen a esta serie (utilice la función realizada en el punto 2)."
   ]
  },
  {
   "cell_type": "code",
   "execution_count": 13,
   "metadata": {},
   "outputs": [
    {
     "name": "stdout",
     "output_type": "stream",
     "text": [
      "8 numeros en la serie cuadrada\n"
     ]
    }
   ],
   "source": [
    "##\n",
    "file_name = \"File-214.bin\"\n",
    "\n",
    "with open(file_name, 'rb') as f:\n",
    "    x = f.read()\n",
    "    valores = np.double(struct.unpack(\"i\"*int(len(x)/4), x)) # size double => 8B\n",
    "    cont = 0\n",
    "    for x in valores:\n",
    "        if es_cuadrado(int(x)): cont += 1\n",
    "    print(f'{cont} numeros en la serie cuadrada')"
   ]
  },
  {
   "cell_type": "code",
   "execution_count": null,
   "metadata": {},
   "outputs": [],
   "source": []
  }
 ],
 "metadata": {
  "kernelspec": {
   "display_name": "Python 3",
   "language": "python",
   "name": "python3"
  },
  "language_info": {
   "codemirror_mode": {
    "name": "ipython",
    "version": 3
   },
   "file_extension": ".py",
   "mimetype": "text/x-python",
   "name": "python",
   "nbconvert_exporter": "python",
   "pygments_lexer": "ipython3",
   "version": "3.7.4"
  }
 },
 "nbformat": 4,
 "nbformat_minor": 4
}
