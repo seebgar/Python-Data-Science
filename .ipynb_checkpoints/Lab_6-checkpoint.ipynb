{
 "cells": [
  {
   "cell_type": "markdown",
   "metadata": {},
   "source": [
    "# Laboratorio 6\n",
    "Sebastian Garcia 201630047"
   ]
  },
  {
   "cell_type": "code",
   "execution_count": 1,
   "metadata": {},
   "outputs": [],
   "source": [
    "##\n",
    "\n",
    "import numpy as np\n",
    "\n",
    "def get_np_matrix_sqr():\n",
    "    N = int(input(\"[N] Dimension para la matriz A: \") or \"1\")\n",
    "    arr = [[int(input(f\"({x},{y}) = \") or \"0\") for x in range(N)] for y in range(N)]\n",
    "    A = np.array(arr, float).reshape(N, N)\n",
    "    print(f\"\\n{A}\")\n",
    "    \n",
    "    print(\"\\nMatriz b:\")\n",
    "    arr = [int(input(f\"({x}) = \") or \"0\") for x in range(N)] \n",
    "    b = np.array(arr, float)\n",
    "    print(f\"\\n{b}\")\n",
    "    \n",
    "    return A, b   "
   ]
  },
  {
   "cell_type": "markdown",
   "metadata": {},
   "source": [
    "### Ejercicio 1\n",
    "Para un sistema matricial de la forma Ax=b, donde A es una matriz de coeficientes constantes de\n",
    "NxN, x un vector de incógnitas de Nx1 y b un vector contantes de Nx1, realice una función en Python\n",
    " que devuelva el vector de solución x usando el método de Gauss-Jordan con pivote parcial (por filas).\n",
    "La función debe devolver igualmente la matriz inversa A . Pruebe la función con una matriz A aleatoria (rand) de 3x3 y un vector b aleatorio de 3x1. Compare la solución encontrada con las funciones de la librería numpy del paquete linalg."
   ]
  },
  {
   "cell_type": "code",
   "execution_count": 3,
   "metadata": {},
   "outputs": [
    {
     "name": "stdout",
     "output_type": "stream",
     "text": [
      "\n",
      "    Python linalg solver:\n",
      "    [-0.5         1.          0.33333333 -2.        ]\n",
      "\n",
      "\n",
      "    Metodo Gauss Jordan:\n",
      "    [-0.5         1.          0.33333333 -2.        ]\n",
      "    \n",
      "    Matriz inversa A^-1:\n",
      "[[-0.02564103  0.12820513  0.08974359  0.06410256]\n",
      " [ 0.17948718  0.1025641  -0.12820513  0.05128205]\n",
      " [-0.52991453  0.31623932 -0.14529915 -0.00854701]\n",
      " [ 0.64102564 -0.20512821  0.25641026 -0.1025641 ]]\n",
      "\n"
     ]
    }
   ],
   "source": [
    "##\n",
    "import numpy as np\n",
    "\n",
    "\n",
    "A = np.array(\n",
    "    [[0, 2, 0, 1],\n",
    "    [2, 2, 3, 2],\n",
    "    [4, -3, 0, 1],\n",
    "    [6, 1, -6, -5],\n",
    "    ], float\n",
    ")\n",
    "b = np.array([0, -2, -7, 6], float)\n",
    "\n",
    "\n",
    "#A, b = get_np_matrix_sqr()\n",
    "\n",
    "print(f'''\n",
    "    Python linalg solver:\n",
    "    {np.linalg.solve(A, b)}\n",
    "''')\n",
    "\n",
    "def gaussJordan(A, b):\n",
    "    n = len(b)\n",
    "    inv = np.linalg.inv(A)\n",
    "    for k in range(n):\n",
    "        # pivote parcial\n",
    "        if np.fabs(A[k, k]) < 1.0e-12:\n",
    "            for i in range(k+1, n):\n",
    "                if np.fabs(A[i, k]) > np.fabs(A[k, k]):\n",
    "                    for j in range(k, n):\n",
    "                        A[k, j] , A[i, j] = A[i, j], A[k, j]\n",
    "                    b[k] , b[i] = b[i], b[k]\n",
    "                    break\n",
    "        # division\n",
    "        pivot = A[k, k]\n",
    "        for j in range(k, n):\n",
    "            A[k, j] /= pivot\n",
    "        b[k] /= pivot\n",
    "        # eliminacion\n",
    "        for i in range(n):\n",
    "            if i == k or A[i, k] == 0: continue\n",
    "            factor = A[i, k]\n",
    "            for j in range(k, n):\n",
    "                A[i, j] -= factor * A[k, j]\n",
    "            b[i] -= factor * b[k]\n",
    "            \n",
    "    return b, inv\n",
    "\n",
    "x, A = gaussJordan(A, b)\n",
    "print(f'''\n",
    "    Metodo Gauss Jordan:\n",
    "    {x}\n",
    "    \n",
    "    Matriz inversa A^-1:\n",
    "{A}\n",
    "''')\n"
   ]
  },
  {
   "cell_type": "markdown",
   "metadata": {},
   "source": [
    "### Ejercicio 2\n",
    " Para una regresión lineal de la forma ŷ(x)=a1 x+a0 , demuestre que los coeficientes a1 y a0 están dados por:\n",
    "N\n",
    "∑[(xi− ̄x)(yi− ̄y)]\n",
    "i=1 011N\n",
    "a = ̄y−a x y a =\n",
    "entre x y y, y el denominador a la varianza de x, N al número total de pares de puntos (x, y) y\n",
    " ∑(x− ̄x)2\n",
    ", donde el numerador de a1 corresponde a la covarianza  ̄x y\n",
    "i i=1\n",
    " ̄y a la media (promedio) de x y y respectivamente."
   ]
  },
  {
   "cell_type": "code",
   "execution_count": null,
   "metadata": {},
   "outputs": [],
   "source": []
  },
  {
   "cell_type": "markdown",
   "metadata": {},
   "source": [
    "### Ejercicio 3\n",
    "Realice una función en Python que a partir de un conjunto de datos (x, y), devuelva los coeficientes de la regresión lineal que más se ajusta al conjunto de puntos usando el método de los mínimos cuadrados. Utilice la forma matricial de la regresión lineal para hallar los coeficientes, y use el método de Gauss-Jordan implementado en el punto 1 para hallar la solución. Para validar el método se proveen los archivos Lab-Reg-X.bin y Lab-Reg-Y.bin los cuales contienen una serie de puntos (x, y), almacenados en formato binario de tipo ‘double’. Halle los coeficientes de la regresión lineal de esta serie de puntos usando la función desarrollada y compare la solución con las funciones polyfit de numpy. Realice una gráfica que contenga los puntos (x, y) y la recta encontrada. Puede usar la función polyval de numpy."
   ]
  },
  {
   "cell_type": "code",
   "execution_count": 71,
   "metadata": {},
   "outputs": [
    {
     "name": "stdout",
     "output_type": "stream",
     "text": [
      "\n",
      "        Matriz inversa A^-1:\n",
      "    [[ 4.34530082 -0.3169745 ]\n",
      " [-0.3169745   0.03003402]]\n",
      "\n",
      "        Python linalg solver:\n",
      "        [17.83409985  4.73601966]\n",
      "\n",
      "        Metodo Gauss Jordan:\n",
      "        [17.83409985  4.73601966]\n",
      "\n",
      "        Coeficientes\n",
      "        a0 = 17.8341\n",
      "        a1 = 4.7360\n",
      "    \n",
      "\n",
      "    Plot\n",
      "\n"
     ]
    },
    {
     "data": {
      "image/png": "[encoded data removed]",
      "text/plain": [
       "<Figure size 432x288 with 1 Axes>"
      ]
     },
     "metadata": {
      "needs_background": "light"
     },
     "output_type": "display_data"
    },
    {
     "name": "stdout",
     "output_type": "stream",
     "text": [
      "\n",
      "    Polyfit\n",
      "\n"
     ]
    },
    {
     "data": {
      "image/png": "[encoded data removed]",
      "text/plain": [
       "<Figure size 432x288 with 1 Axes>"
      ]
     },
     "metadata": {
      "needs_background": "light"
     },
     "output_type": "display_data"
    },
    {
     "name": "stdout",
     "output_type": "stream",
     "text": [
      "\n",
      "    Polyval\n",
      "\n"
     ]
    },
    {
     "data": {
      "image/png": "[encoded data removed]",
      "text/plain": [
       "<Figure size 432x288 with 1 Axes>"
      ]
     },
     "metadata": {
      "needs_background": "light"
     },
     "output_type": "display_data"
    }
   ],
   "source": [
    "##\n",
    "import struct\n",
    "%matplotlib inline\n",
    "import matplotlib.pyplot as plt\n",
    "import numpy as np\n",
    "from sklearn.linear_model import LinearRegression\n",
    "\n",
    "'''\n",
    "| 1   x'        |  | a0 |       |  y'         |\n",
    "|               |  |    |   =   |             |\n",
    "| x'  mean(x^2) |  | a1 |       |  mean(x*y)  |\n",
    "'''\n",
    "\n",
    "x_file_name = \"Lab-Reg-X.bin\"\n",
    "y_file_name = \"Lab-Reg-Y.bin\"\n",
    "\n",
    "valores_x = []\n",
    "valores_y = []\n",
    "\n",
    "with open(x_file_name, 'rb') as f:\n",
    "    x = f.read()\n",
    "    valores_x = np.double(struct.unpack(\"d\"*int(len(x)/8), x)) \n",
    "    \n",
    "with open(y_file_name, 'rb') as f:\n",
    "    y = f.read()\n",
    "    valores_y = np.double(struct.unpack(\"d\"*int(len(y)/8), y)) \n",
    "\n",
    "    \n",
    "def get_coeficientes(valores_x=[], valores_y=[]):\n",
    "    '''\n",
    "    Retorna los coeficientes para de la regresión lineal \n",
    "    que más se ajusta al conjunto de puntos usando el método \n",
    "    de los mínimos cuadrados.\n",
    "    '''\n",
    "    # promedios valores de la matriz\n",
    "    mean_x = np.mean(valores_x)\n",
    "    mean_y = np.mean(valores_y)\n",
    "\n",
    "    mean_x_sqr = np.mean([x ** 2 for x in valores_x])\n",
    "    mean_x_y = np.mean([valores_x[i] * valores_y[i] for i in range(len(valores_x))])\n",
    "\n",
    "    A = np.array(\n",
    "        [\n",
    "            [1, mean_x],\n",
    "            [mean_x, mean_x_sqr]\n",
    "        ], float\n",
    "    )\n",
    "\n",
    "    b = np.array(\n",
    "        [\n",
    "            mean_y, mean_x_y\n",
    "        ], float\n",
    "    )\n",
    "\n",
    "    x, Ainv = gaussJordan(A, b)\n",
    "    a0 = x[0]\n",
    "    a1 = x[1]\n",
    "\n",
    "    print(f'''\n",
    "        Matriz inversa A^-1:\n",
    "    {Ainv}\n",
    "\n",
    "        Python linalg solver:\n",
    "        {np.linalg.solve(A, b)}''')\n",
    "\n",
    "    print(f'''\n",
    "        Metodo Gauss Jordan:\n",
    "        {x}\n",
    "\n",
    "        Coeficientes\n",
    "        a0 = {x[0]:0.4f}\n",
    "        a1 = {x[1]:0.4f}\n",
    "    ''')\n",
    "    \n",
    "    return a0, a1\n",
    "\n",
    "#\n",
    "a0, a1 = get_coeficientes(valores_x, valores_y)\n",
    "\n",
    "# Grafica Regresion\n",
    "x = valores_x.reshape(-1, 1)\n",
    "y = a1 * x + a0 + np.random.normal(size=x.shape)\n",
    "\n",
    "# modelo de regresion\n",
    "model = LinearRegression()\n",
    "model.fit(x, y)\n",
    "\n",
    "# prediccion de y\n",
    "x_new = np.linspace(0, 20, 100)\n",
    "y_new = model.predict(x_new[:, np.newaxis])\n",
    "\n",
    "# resultados\n",
    "ax = plt.axes()\n",
    "ax.scatter(x, y)\n",
    "ax.plot(x_new, y_new)\n",
    "ax.axis('tight')\n",
    "\n",
    "print(f\"\"\"\n",
    "    Plot\n",
    "\"\"\")\n",
    "plt.show()\n",
    "\n",
    "\n",
    "print(f\"\"\"\n",
    "    Polyfit\n",
    "\"\"\")\n",
    "a = [i[0] for i in x]\n",
    "m, b = np.polyfit(a, y, 1)\n",
    "plt.plot(a, y, 'o')\n",
    "plt.plot(a, m*a + b)\n",
    "plt.show()\n",
    "\n",
    "print(f\"\"\"\n",
    "    Polyval\n",
    "\"\"\")\n",
    "yp = np.polyval([m, b], x)\n",
    "plt.plot(x, yp)\n",
    "plt.scatter(x,y)\n",
    "plt.show()"
   ]
  },
  {
   "cell_type": "markdown",
   "metadata": {},
   "source": [
    "### Ejercicio 4\n",
    "Del libro King and Mody, 2010 (referencia 2 del programa), realizar el problema 2.15. Presentar los resultados y figuras respectivas en Python. Utilice la función desarrollada en el punto 3 y compare los resultados con las funciones nativas de numpy (polyfit y polyval)."
   ]
  },
  {
   "cell_type": "code",
   "execution_count": 80,
   "metadata": {},
   "outputs": [
    {
     "name": "stdout",
     "output_type": "stream",
     "text": [
      "18\n",
      "18\n",
      "\n",
      "        Matriz inversa A^-1:\n",
      "    [[1630.67370581 -160.62052623]\n",
      " [-160.62052623   15.83074781]]\n",
      "\n",
      "        Python linalg solver:\n",
      "        [-3.20443129  1.42265654]\n",
      "\n",
      "        Metodo Gauss Jordan:\n",
      "        [-3.20443129  1.42265654]\n",
      "\n",
      "        Coeficientes\n",
      "        a0 = -3.2044\n",
      "        a1 = 1.4227\n",
      "    \n",
      "\n",
      "    Plot\n",
      "\n"
     ]
    },
    {
     "data": {
      "image/png": "[encoded data removed]",
      "text/plain": [
       "<Figure size 432x288 with 1 Axes>"
      ]
     },
     "metadata": {
      "needs_background": "light"
     },
     "output_type": "display_data"
    },
    {
     "name": "stdout",
     "output_type": "stream",
     "text": [
      "\n",
      "    Polyfit\n",
      "\n"
     ]
    },
    {
     "data": {
      "image/png": "[encoded data removed]",
      "text/plain": [
       "<Figure size 432x288 with 1 Axes>"
      ]
     },
     "metadata": {
      "needs_background": "light"
     },
     "output_type": "display_data"
    },
    {
     "name": "stdout",
     "output_type": "stream",
     "text": [
      "\n",
      "    Polyval\n",
      "\n"
     ]
    },
    {
     "data": {
      "image/png": "[encoded data removed]",
      "text/plain": [
       "<Figure size 432x288 with 1 Axes>"
      ]
     },
     "metadata": {
      "needs_background": "light"
     },
     "output_type": "display_data"
    }
   ],
   "source": [
    "##\n",
    "\n",
    "# valores\n",
    "x_file_name = \"Lab-Reg-X.bin\"\n",
    "y_file_name = \"Lab-Reg-Y.bin\"\n",
    "\n",
    "# desde 1928 usando entradas validas para hombres y mujeres\n",
    "#valores_x = np.array([1928, 1932, 1936, 1948, 1952, 1956, 1960, 1964, 1968, 1972, 1976, 1980, 1984, 1988, 1992, 1996, 2000, 2004])\n",
    "# hombres\n",
    "valores_x = np.array([10.80, 10.30, 10.30, 10.30, 10.40, 10.50, 10.20, 10.00, 9.95, 10.14, 10.06, 10.25, 9.99, 9.92, 9.96, 9.84, 9.87, 9.85], float)\n",
    "#mujeres\n",
    "valores_y = np.array([12.20, 11.90, 11.50, 11.90, 11.50, 11.50, 11.00, 11.40, 11.08, 11.07, 11.08, 11.06, 10.97, 10.54, 10.82, 10.94, 10.75, 10.93], float)\n",
    "\n",
    "\n",
    "print(len(anos))\n",
    "print(len(valores_x))\n",
    "\n",
    "# Coeficientes\n",
    "a0, a1 = get_coeficientes(valores_x, valores_y)\n",
    "\n",
    "# Grafica Regresion\n",
    "x = valores_x.reshape(-1, 1)\n",
    "y = a1 * x + a0 + np.random.normal(size=x.shape)\n",
    "\n",
    "# modelo de regresion\n",
    "model = LinearRegression()\n",
    "model.fit(x, y)\n",
    "\n",
    "# prediccion de y\n",
    "x_new = np.linspace(0, 20, 100)\n",
    "y_new = model.predict(x_new[:, np.newaxis])\n",
    "\n",
    "# resultados\n",
    "ax = plt.axes()\n",
    "ax.scatter(x, y)\n",
    "ax.plot(x_new, y_new)\n",
    "ax.axis('tight')\n",
    "\n",
    "print(f\"\"\"\n",
    "    Plot\n",
    "\"\"\")\n",
    "plt.show()\n",
    "\n",
    "\n",
    "print(f\"\"\"\n",
    "    Polyfit\n",
    "\"\"\")\n",
    "a = [i[0] for i in x]\n",
    "m, b = np.polyfit(a, y, 1)\n",
    "plt.plot(a, y, 'o')\n",
    "plt.plot(a, m*a + b)\n",
    "plt.show()\n",
    "\n",
    "print(f\"\"\"\n",
    "    Polyval\n",
    "\"\"\")\n",
    "yp = np.polyval([m, b], x)\n",
    "plt.plot(x, yp)\n",
    "plt.scatter(x,y)\n",
    "plt.show()"
   ]
  },
  {
   "cell_type": "code",
   "execution_count": null,
   "metadata": {},
   "outputs": [],
   "source": []
  }
 ],
 "metadata": {
  "kernelspec": {
   "display_name": "Python 3",
   "language": "python",
   "name": "python3"
  },
  "language_info": {
   "codemirror_mode": {
    "name": "ipython",
    "version": 3
   },
   "file_extension": ".py",
   "mimetype": "text/x-python",
   "name": "python",
   "nbconvert_exporter": "python",
   "pygments_lexer": "ipython3",
   "version": "3.7.4"
  }
 },
 "nbformat": 4,
 "nbformat_minor": 4
}
