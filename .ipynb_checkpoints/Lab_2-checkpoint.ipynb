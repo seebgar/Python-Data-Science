{
 "cells": [
  {
   "cell_type": "markdown",
   "metadata": {},
   "source": [
    "# Laboratorio 2\n",
    "Sebastian Garcia 201630047"
   ]
  },
  {
   "cell_type": "markdown",
   "metadata": {},
   "source": [
    "### Ejercicio 1\n",
    "Número entero positivo a binario (unsigned int oentero sin-signo) (1.0)\n",
    "Escribir   un   programa   en   Python   (.py)   donde   el   usuario   ingrese   unnúmero   entero   positivo   (sin  signo,   se   incluye   el   cero)   y   éste   seaconvertido a binario. Si el número no es entero o positivo, se  debemostrar un mensaje de error.Importante: No se puede usar la función reverse."
   ]
  },
  {
   "cell_type": "code",
   "execution_count": 163,
   "metadata": {},
   "outputs": [
    {
     "name": "stdout",
     "output_type": "stream",
     "text": [
      "Ingrese un numero: 127\n",
      "1111111\n"
     ]
    }
   ],
   "source": [
    "##\n",
    "def binario_de_entero(numero): \n",
    "    '''\n",
    "    Funcion recursiva para hallar la representacion binaria de un numero entero\n",
    "    '''\n",
    "    binario = \"\"\n",
    "    if numero > 1: \n",
    "        # division entera hasta que el numero sea 1\n",
    "        binario += binario_de_entero(numero // 2) \n",
    "    # por cada numero se establece si es multiplo de 2\n",
    "    # como se usa la recursion, se empieza por el ultimo numero de las divisiones\n",
    "    return binario + f\"{numero % 2}\"\n",
    "\n",
    "try:\n",
    "    numero = int(input(\"Ingrese un numero: \"))\n",
    "    if numero < 0:\n",
    "        print(\"Numero negativo no es valido.\")\n",
    "    else:\n",
    "        print(binario_de_entero(numero))\n",
    "except:\n",
    "    print(\"Numero no entero es invalido.\")\n"
   ]
  },
  {
   "cell_type": "markdown",
   "metadata": {},
   "source": [
    "### Ejercicio 2\n",
    "Representación  binaria  en  complemento  a  2  denúmeros enteros (1.0)\n",
    "Escribir   un   programa   en   Python   (.py)   donde   el   usuario   ingrese   unnúmero   entero   positivo   o   negativo,   el   número   de   bits,   y   éste   seaconvertido   en   su   correspondiente   representación   binara  decomplemento a dos. Si el número no es entero, o si el número de bitsno   es   suficiente   para   representarlo,   el   programa   debe   mostrar   unmensaje de error.Importante: No se puede usar la función reverse. "
   ]
  },
  {
   "cell_type": "code",
   "execution_count": 2,
   "metadata": {},
   "outputs": [
    {
     "name": "stdout",
     "output_type": "stream",
     "text": [
      "Ingrese un numero: -10\n",
      "Cantidad de bits: 5\n",
      "Complemento a2:  10110\n"
     ]
    }
   ],
   "source": [
    "##\n",
    "def binario_de_entero(numero): \n",
    "    '''\n",
    "    Funcion recursiva para hallar la representacion binaria de un numero entero\n",
    "    '''\n",
    "    binario = \"\"\n",
    "    if numero > 1: \n",
    "        # division entera hasta que el numero sea 1\n",
    "        binario += binario_de_entero(numero // 2) \n",
    "    # por cada numero se establece si es multiplo de 2\n",
    "    # como se usa la recursion, se empieza por el ultimo numero de las divisiones\n",
    "    return binario + f\"{numero % 2}\"\n",
    "\n",
    "try:\n",
    "    numero = int(input(\"Ingrese un numero: \"))\n",
    "    bits = int(input(\"Cantidad de bits: \"))\n",
    "    binario = binario_de_entero(abs(numero))\n",
    "    positivo = numero >= 0\n",
    "    if (positivo and len(binario) > bits) or (not positivo and len(binario) + 1 > bits ): \n",
    "        print(\"No hay suficientes bits para repesentar el numero.\")\n",
    "    else: \n",
    "        if numero >= 0:\n",
    "            # agrega 0's a la izquierda para completar la cantidad de bits\n",
    "            binario = binario.rjust(bits, \"0\") \n",
    "            print(\"Complemento a2: \", binario)\n",
    "        else:\n",
    "            # el complemento a2 del numero negativo es equivalente al binario de n\n",
    "            n = (2 ** bits) - abs(numero)\n",
    "            a2 = binario_de_entero(n)\n",
    "            # agrega 1's a la izquierda para completar la cantidad de bits\n",
    "            a2 = a2.rjust(bits, \"1\") \n",
    "            print(\"Complemento a2: \",a2)\n",
    "except:\n",
    "    print(\"Numero no entero es invalido.\")"
   ]
  },
  {
   "cell_type": "markdown",
   "metadata": {},
   "source": [
    "### Ejercicio 3 \n",
    "Representación   binaria   en   offset   binario   denúmeros enteros (1.0).\n",
    "Escribir   un   programa   en   Python   (.py)   donde   el   usuario   ingrese   unnúmero   entero   positivo   o   negativo,   el   número   de   bits,   y   éste   seaconvertido   en   su   correspondiente   representación   binara  en   offsetbinario.   Si   el   número   no   es   entero,   o   si   el   número   de   bits   no   es suficiente para representarlo, el programa debe mostrar un mensajede error.Importante: No se puede usar la función reverse. "
   ]
  },
  {
   "cell_type": "code",
   "execution_count": 155,
   "metadata": {},
   "outputs": [
    {
     "name": "stdout",
     "output_type": "stream",
     "text": [
      "Ingrese un numero: -4\n",
      "Cantidad de bits: 3\n",
      "000\n"
     ]
    }
   ],
   "source": [
    "## \n",
    "def binario_de_entero(numero): \n",
    "    '''\n",
    "    Funcion recursiva para hallar la representacion binaria de un numero entero\n",
    "    '''\n",
    "    binario = \"\"\n",
    "    if numero > 1: \n",
    "        # division entera hasta que el numero sea 1\n",
    "        binario += binario_de_entero(numero // 2) \n",
    "    # por cada numero se establece si es multiplo de 2\n",
    "    # como se usa la recursion, se empieza por el ultimo numero de las divisiones\n",
    "    return binario + f\"{numero % 2}\"\n",
    "\n",
    "def offset(bits, numero):\n",
    "    a2 = \"\"\n",
    "    if numero >= 0:\n",
    "        a2 = binario_de_entero(numero)\n",
    "    else:\n",
    "        # el complemento a2 del numero negativo es equivalente al binario de n\n",
    "        n = (2 ** bits) - abs(numero)\n",
    "        a2 = binario_de_entero(n)\n",
    "    \n",
    "    if len(a2) > bits: \n",
    "        print(\"No hay suficientes bits para repesentar el numero.\")\n",
    "    else:\n",
    "        a2_str = a2.rjust(bits, \"0\")\n",
    "        a2_arr = [x for x in a2_str]\n",
    "        a2_arr[0] = \"1\" if numero >= 0 else \"0\"\n",
    "        print(\"\".join(a2_arr))\n",
    "\n",
    "try:\n",
    "    numero = int(input(\"Ingrese un numero: \"))\n",
    "    bits = int(input(\"Cantidad de bits: \"))\n",
    "    offset(bits, numero)\n",
    "except:\n",
    "    print(\"Numero no entero es invalido.\")"
   ]
  },
  {
   "cell_type": "markdown",
   "metadata": {},
   "source": [
    "### Ejercicio 4\n",
    "Representación binaria de punto flotante 32-bitsIEEE754 (1.0). Escribir   un   programa   en   Python   (.py)   donde   el   usuario   ingrese   unnúmero   real   y   éste   sea   convertido   en   su   correspondienterepresentación binara de punto flotante de 32-bits. Importante: No se puede usar la función reverse. "
   ]
  },
  {
   "cell_type": "code",
   "execution_count": 154,
   "metadata": {},
   "outputs": [
    {
     "name": "stdout",
     "output_type": "stream",
     "text": [
      "Ingrese un numero real: -25.5678\n",
      "11000001110011001000101011011011\n",
      "\n",
      "      Representacion en 32 bits\n",
      "      Signo (1 bit): \t\t1\n",
      "      Exponente  (8 bits): \t10000011\n",
      "      Mantissa (23 bits): \t10011001000101011011011\n",
      "      \n"
     ]
    }
   ],
   "source": [
    "##\n",
    "import struct\n",
    "\n",
    "def binario_de_entero(numero): \n",
    "    '''\n",
    "    Funcion recursiva para hallar la representacion binaria de un numero entero\n",
    "    '''\n",
    "    binario = \"\"\n",
    "    if numero > 1: \n",
    "        # division entera hasta que el numero sea 1\n",
    "        binario += binario_de_entero(numero // 2) \n",
    "    # por cada numero se establece si es multiplo de 2\n",
    "    # como se usa la recursion, se empieza por el ultimo numero de las divisiones\n",
    "    return binario + f\"{numero % 2}\"\n",
    "\n",
    "def binario_de_float(num=0, bits=32):\n",
    "    \"\"\"\n",
    "    Encuentra la representacion binaria en 32 bits de un numero real.\n",
    "    \n",
    "    Para hacerlo, se transformaran los bytes del numero a bits.\n",
    "    \n",
    "    Para obtener los bytes:\n",
    "    * se obtiene la representacion en bytes utilizando un formato float del numero (pack)\n",
    "    * luego se convierten esos bytes a entero. Este numero entero representa, \n",
    "    * o traduce, los anteriores bytes (unpack).\n",
    "    \n",
    "    Luego se convierte el entero a binario utilizando la funcion del taller.\n",
    "    Se agregan \"0\" a la izquierda para completar la cantidad de bits.\n",
    "    * pack y unpack de floats dan 32 bits, sin el signo.\n",
    "    Se establece el signo.\n",
    "    Retorna la representacion binaria como cadena de caracteres.\n",
    "    \"\"\"\n",
    "    x = abs(num)\n",
    "    packed = struct.pack('f', x) # intepretacion en bytes del numero en formato float \n",
    "    unpacked = struct.unpack('i', packed)[0] # tupla => conversion de lo empacado a formato integer\n",
    "    binary =  binario_de_entero(unpacked) # representacion binaria del entero\n",
    "    binary = binary.rjust(bits, \"0\") # completa la cantidad de bits agregando 0's a la izquierda\n",
    "    array = [x for x in binary]\n",
    "    array[0] = \"1\" if num < 0 else \"0\" # primer bit representa el signo\n",
    "    return \"\".join(array)\n",
    "\n",
    "n = float(input(\"Ingrese un numero real: \"))\n",
    "b = binario_de_float(n)\n",
    "print(b)\n",
    "print(f\"\"\"\n",
    "      Representacion en {len(b)} bits\n",
    "      Signo ({len(b[0])} bit): \\t\\t{b[0]}\n",
    "      Exponente  ({len(b[1:9])} bits): \\t{b[1:9]}\n",
    "      Mantissa ({len(b[9:])} bits): \\t{b[9:]}\n",
    "      \"\"\")\n",
    "# 25.5678 => 01000001110011001000101011011011\n",
    "# -25.5678 => 11000001 11001100 10001010 11011011"
   ]
  },
  {
   "cell_type": "markdown",
   "metadata": {},
   "source": [
    "## Ejercicio 5\n",
    "Representación binaria de punto flotante 64-bitsIEEE754 (1.0)\n",
    "Escribir   un   programa   en   Python   (.py)   donde   el   usuario   ingrese   unnúmero   real   y   éste   sea   convertido   en   su   correspondienterepresentación binara de punto flotante de 64-bits. Importante: No se puede usar la función reverse."
   ]
  },
  {
   "cell_type": "code",
   "execution_count": 153,
   "metadata": {},
   "outputs": [
    {
     "name": "stdout",
     "output_type": "stream",
     "text": [
      "Ingrese un numero real: -342.2342\n",
      "1100000001110101011000111011111101001000011111111100101110010010\n",
      "\n",
      "      Representacion en 64 bits\n",
      "      Signo (1 bit): \t\t1\n",
      "      Exponente  (11 bits): \t10000000111\n",
      "      Mantissa (52 bits): \t0101011000111011111101001000011111111100101110010010\n",
      "      \n"
     ]
    }
   ],
   "source": [
    "##\n",
    "import struct\n",
    "\n",
    "def binario_de_entero(numero): \n",
    "    '''\n",
    "    Funcion recursiva para hallar la representacion binaria de un numero entero\n",
    "    '''\n",
    "    binario = \"\"\n",
    "    if numero > 1: \n",
    "        # division entera hasta que el numero sea 1\n",
    "        binario += binario_de_entero(numero // 2) \n",
    "    # por cada numero se establece si es multiplo de 2\n",
    "    # como se usa la recursion, se empieza por el ultimo numero de las divisiones\n",
    "    return binario + f\"{numero % 2}\"\n",
    "\n",
    "def binario_de_float(num=0.0, bits=64):\n",
    "    \"\"\"\n",
    "    Encuentra la representacion binaria en 64 bits de un numero real.\n",
    "    \n",
    "    Para hacerlo, se transformaran los bytes del numero a bits.\n",
    "    \n",
    "    Para obtener los bytes:\n",
    "    * primero se obtiene la representacion en bytes del numero en formato double --double para tener mas bytes disponibles-- (pack)\n",
    "    * luego se convierten esos bytes a hexadecimal de derecha a izquierda (unpack, '<Q'). \n",
    "    * Este ultimo retorna una tupla, en donde el primer valor es el hexa esperado.\n",
    "    \n",
    "    Luego convertimos el hexadecimal a entero.\n",
    "    Ese entero se transforma a binario utilizando la funcion del taller.\n",
    "    Se agregan \"0\" a la izquirda para completar la cantidad de bits (64 en este caso)\n",
    "    * desdel el pack y unpack se tiene en cuenta una representacion a 64bits (63 sin el signo inicial) porque\n",
    "    * utilizo formatos double y hexadecimal. --en el punto anterior se utilizaban formatos float.--\n",
    "    Se establece el signo.\n",
    "    Retorna la representacion binaria como cadena de caracteres. \n",
    "    \"\"\"\n",
    "    x = abs(num)\n",
    "    h = hex(struct.unpack(\"<Q\", struct.pack(\"d\",x))[0]) # hexadecimal del numero en bytes\n",
    "    entero = int(h, 16) # hexadecimal en formato entero\n",
    "    binary = binario_de_entero(entero).rjust(bits, \"0\") # binario de entero\n",
    "    array = [x for x in binary]\n",
    "    array[0] = \"1\" if num < 0 else \"0\" # primer bit representa el signo\n",
    "    return \"\".join(array)\n",
    "\n",
    "n = float(input(\"Ingrese un numero real: \"))\n",
    "b = binario_de_float(n)\n",
    "print(b)\n",
    "print(f\"\"\"\n",
    "      Representacion en {len(b)} bits\n",
    "      Signo ({len(b[0])} bit): \\t\\t{b[0]}\n",
    "      Exponente  ({len(b[1:12])} bits): \\t{b[1:12]}\n",
    "      Mantissa ({len(b[12:])} bits): \\t{b[12:]}\n",
    "      \"\"\")\n",
    "# 25.5678 => 0100000000111001100100010101101101010111001111101010101100110110\n",
    "# -25.5678 => 1100000000111001100100010101101101010111001111101010101100110110"
   ]
  },
  {
   "cell_type": "code",
   "execution_count": 1,
   "metadata": {},
   "outputs": [
    {
     "name": "stdout",
     "output_type": "stream",
     "text": [
      "55\n"
     ]
    }
   ],
   "source": [
    "fb = lambda n: n if n <= 1 else fb(n-1) + fb(n-2)\n",
    "print(fb(10))"
   ]
  },
  {
   "cell_type": "code",
   "execution_count": 3,
   "metadata": {},
   "outputs": [
    {
     "name": "stdout",
     "output_type": "stream",
     "text": [
      "55\n"
     ]
    }
   ],
   "source": [
    "def fib(n):\n",
    "    if n <= 1: \n",
    "        return n\n",
    "    else :\n",
    "        return fib(n-1) + fib(n-2)\n",
    "    \n",
    "print(fib(10))"
   ]
  },
  {
   "cell_type": "code",
   "execution_count": null,
   "metadata": {},
   "outputs": [],
   "source": []
  }
 ],
 "metadata": {
  "kernelspec": {
   "display_name": "Python 3",
   "language": "python",
   "name": "python3"
  },
  "language_info": {
   "codemirror_mode": {
    "name": "ipython",
    "version": 3
   },
   "file_extension": ".py",
   "mimetype": "text/x-python",
   "name": "python",
   "nbconvert_exporter": "python",
   "pygments_lexer": "ipython3",
   "version": "3.7.4"
  }
 },
 "nbformat": 4,
 "nbformat_minor": 4
}
