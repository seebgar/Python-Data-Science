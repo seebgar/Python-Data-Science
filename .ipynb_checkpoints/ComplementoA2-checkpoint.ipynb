{
 "cells": [
  {
   "cell_type": "code",
   "execution_count": 1,
   "metadata": {},
   "outputs": [
    {
     "name": "stdout",
     "output_type": "stream",
     "text": [
      "255\n",
      "11111111\n"
     ]
    }
   ],
   "source": [
    "decimal = int('11111111', 2)\n",
    "print(decimal)\n",
    "\n",
    "binario = format(255 ,\"b\")\n",
    "print(binario)"
   ]
  },
  {
   "cell_type": "code",
   "execution_count": 2,
   "metadata": {},
   "outputs": [],
   "source": [
    "def decimal_to_binario(decimal): \n",
    "    if decimal > 1: \n",
    "        decimalBinario(decimal // 2) \n",
    "    print(decimal % 2, end = '') \n",
    "    \n",
    "def binario_to_decimal(binario): \n",
    "    decimal, i, n = 0, 0, 0\n",
    "    while(binario != 0): \n",
    "        dec = binario % 10\n",
    "        decimal = decimal + dec * pow(2, i) \n",
    "        binario = binario//10\n",
    "        i += 1\n",
    "    print(decimal) "
   ]
  },
  {
   "cell_type": "markdown",
   "metadata": {},
   "source": [
    "## Complemento 2\n",
    "* Complemento (1) => flip 1 <=> 0\n",
    "* Complemento (2) => coger complemento (1) y de derecha a izquierda, ir cambiando 1's por 0's hasta encontrar el primer 0. Cambiar ese cero por un 1 y terminar.\n",
    "* Complemento (2) de 1100 => 0011 => 0100"
   ]
  },
  {
   "cell_type": "code",
   "execution_count": 20,
   "metadata": {},
   "outputs": [],
   "source": [
    "def complemento(n , N):\n",
    "    \"\"\"n: numero, N bits \"\"\"\n",
    "    print(\"Decimal: \", n)\n",
    "    print(\"Bits: \", N)\n",
    "    \n",
    "    binario = format(abs(n), \"b\")\n",
    "    for i in range(N):\n",
    "        if len(binario) < N:\n",
    "            binario = \"0\" + binario\n",
    "    print(\"Binario: \", binario)\n",
    "    \n",
    "    complemento = format(abs(n) ^(1 << N) - 1 , \"b\")\n",
    "    for i in range(N):\n",
    "        if len(complemento) < N:\n",
    "            complemento = \"0\" + complemento\n",
    "    print('a1:',complemento)\n",
    "    return complemento\n",
    "\n",
    "def complemento_dos(complemento):\n",
    "    a2 = []\n",
    "    flip = True\n",
    "    for bit in reversed(complemento):\n",
    "        if flip and bit == \"1\" :\n",
    "            a2.append(\"0\")\n",
    "        else:\n",
    "            if flip:\n",
    "                a2.append(\"1\")\n",
    "                flip = False\n",
    "            else:\n",
    "                a2.append(bit)\n",
    "    res = \"\"\n",
    "    for bit in reversed(a2):\n",
    "        res += bit\n",
    "    print(\"a2: \", res)\n",
    "    return res"
   ]
  },
  {
   "cell_type": "code",
   "execution_count": 25,
   "metadata": {},
   "outputs": [
    {
     "name": "stdout",
     "output_type": "stream",
     "text": [
      "Decimal:  5\n",
      "Bits:  3\n",
      "Binario:  101\n",
      "a1: 010\n",
      "a2:  011\n"
     ]
    }
   ],
   "source": [
    "n = 5\n",
    "N = 3\n",
    "comp = complemento(n, N)\n",
    "comp_2 = complemento_dos(comp)"
   ]
  },
  {
   "cell_type": "code",
   "execution_count": null,
   "metadata": {},
   "outputs": [],
   "source": []
  }
 ],
 "metadata": {
  "kernelspec": {
   "display_name": "Python 3",
   "language": "python",
   "name": "python3"
  },
  "language_info": {
   "codemirror_mode": {
    "name": "ipython",
    "version": 3
   },
   "file_extension": ".py",
   "mimetype": "text/x-python",
   "name": "python",
   "nbconvert_exporter": "python",
   "pygments_lexer": "ipython3",
   "version": "3.7.4"
  }
 },
 "nbformat": 4,
 "nbformat_minor": 4
}
