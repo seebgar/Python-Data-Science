{
 "cells": [
  {
   "cell_type": "markdown",
   "metadata": {},
   "source": [
    "# Jacobiano\n",
    "Solución de ecuaciones no lineales multivariable"
   ]
  },
  {
   "cell_type": "code",
   "execution_count": 2,
   "metadata": {},
   "outputs": [
    {
     "data": {
      "text/plain": [
       "<Figure size 432x288 with 0 Axes>"
      ]
     },
     "metadata": {},
     "output_type": "display_data"
    },
    {
     "data": {
      "image/png": "[encoded data removed]",
      "text/plain": [
       "<Figure size 864x360 with 1 Axes>"
      ]
     },
     "metadata": {
      "needs_background": "light"
     },
     "output_type": "display_data"
    }
   ],
   "source": [
    "import numpy as np\n",
    "import matplotlib.pyplot as plt\n",
    "\n",
    "\"\"\"\n",
    "Grafica e intersección para hallar intervalo.\n",
    "\"\"\"\n",
    "\n",
    "# definicion de la funcion f1 como ejemplo\n",
    "def F1(x1, x2):\n",
    "    return 3.0*np.exp(-(x1**2.0))-5.0*(x2**(1.0/3.0))+6.0\n",
    "\n",
    "def F2(x1, x2):\n",
    "    return 3.0*x1+0.5*(x2**(1.0/4.0))-15.0\n",
    "\n",
    "# grafico de lineas de entorno\n",
    "x1 = np.arange(0.1, 6.0, 0.1)\n",
    "x2 = np.arange(0.1, 6.0, 0.1)\n",
    "\n",
    "# matriz con la combinación de todos los valores\n",
    "X1, X2 = np.meshgrid(x1, x2)\n",
    "\n",
    "# graph\n",
    "plt.figure()\n",
    "plt.figure(figsize=(12,5))\n",
    "\n",
    "# f1\n",
    "C1 = plt.contour(X1, X2, F1(X1, X2), [0.0] , colors='b') # [0.0]  para graficar interseccion == nivel 0\n",
    "plt.clabel(C1, fontsize=10)\n",
    "\n",
    "# f2\n",
    "C2 = plt.contour(X1, X2, F2(X1, X2), [0.0] , colors='r')\n",
    "plt.clabel(C2, fontsize=10)\n",
    "\n",
    "plt.xlabel(\"x1\")\n",
    "plt.ylabel(\"x2\")\n",
    "plt.grid(True)\n",
    "plt.show()\n",
    "\n",
    "# observar la intersección en 0 de la línea azul y la roja\n",
    "# nos interesa el intervarlo para x1 y x2 donde se intersectan en 0"
   ]
  },
  {
   "cell_type": "code",
   "execution_count": 3,
   "metadata": {},
   "outputs": [
    {
     "name": "stdout",
     "output_type": "stream",
     "text": [
      "Multivariables - raiz x1: 4.808911441551847\n",
      "Multivariables - raiz x2: 1.7280000000045832\n",
      "Multivariables - iteraciones: 3\n"
     ]
    }
   ],
   "source": [
    "\"\"\"\n",
    "Solución de sistemas de ecuaciones no-lineales multivariables\n",
    "\"\"\"\n",
    "\n",
    "# funciones\n",
    "def F1(x1, x2):\n",
    "    return 3.0*np.exp(-(x1**2.0))-5.0*(x2**(1.0/3.0))+6.0\n",
    "\n",
    "def F2(x1, x2):\n",
    "    return 3.0*x1+0.5*(x2**(1.0/4.0))-15.0\n",
    "\n",
    "# Matriz Jacobiana \n",
    "\"\"\"\n",
    "| df1x1  df1x2 |\n",
    "|              |\n",
    "| df2x1  df2x2 |\n",
    "\"\"\"\n",
    "def jacobiano(x1, x2):\n",
    "    # de la forma mas estupida, se deben saber las derivadas de las funciones\n",
    "    A = np.zeros([2, 2])\n",
    "    A[0, 0] = -6.0 * x1 * np.exp(-(x1**2.0))\n",
    "    A[0, 1] = (-5.0/3.0) * x2**(-2.0/3.0)\n",
    "    A[1, 0] = 3.0\n",
    "    A[1, 1] = (1.0/8.0) * (x2**(-3.0/4.0))\n",
    "    return A\n",
    "\n",
    "# puntos iniciales, se toman como aquellos cercanos a la interseccion en 0 vistos en la anterior grafica\n",
    "x1io = 5.0\n",
    "x2io = 2.0\n",
    "\n",
    "# tolerancias de siempre\n",
    "tol_x = 10**-5\n",
    "tol_y = 10**-5\n",
    "\n",
    "# iteraciones\n",
    "itr = 0\n",
    "\n",
    "# busqueda de la raiz\n",
    "while True:\n",
    "    itr += 1\n",
    "    \n",
    "    # matriz jacobaino A ; Ax = b\n",
    "    A = jacobiano(x1io, x2io)\n",
    "    \n",
    "    # vector b ; ax = b\n",
    "    b = np.zeros([2, 1])\n",
    "    b[0] = -F1(x1io, x2io)\n",
    "    b[1] = -F2(x1io, x2io)\n",
    "    \n",
    "    # solucionar Ax = b ; se puede utilizar Gauss, Gauss-Jordan o numpy linalg solve\n",
    "    delta_x = np.linalg.solve(A, b)\n",
    "    \n",
    "    # raiz candidata haciendo xi = xi-1 + deltax\n",
    "    x1 = np.float(x1io + delta_x[0])\n",
    "    x2 = np.float(x2io + delta_x[1]) \n",
    "    \n",
    "    # evalucion de criterios de paradas\n",
    "    if np.abs(x1 - x1io) <= tol_x and np.abs(x2 - x2io) <= tol_x: \n",
    "        break\n",
    "    if np.abs(F1(x1, x2)) <= tol_y and np.abs(F2(x1, x2)) <= tol_y:\n",
    "        break\n",
    "        \n",
    "    # actualizacion de los puntos inciales\n",
    "    x1io = x1\n",
    "    x2io = x2\n",
    "\n",
    "# soluciones\n",
    "print(f\"Multivariables - raiz x1: {x1}\")\n",
    "print(f\"Multivariables - raiz x2: {x2}\")\n",
    "print(f\"Multivariables - iteraciones: {itr}\")"
   ]
  },
  {
   "cell_type": "markdown",
   "metadata": {},
   "source": [
    "# Interpolación Polinomial\n",
    "Predicción de un valor en función a una serie de puntos, dentro de un rango conocido."
   ]
  },
  {
   "cell_type": "code",
   "execution_count": 10,
   "metadata": {},
   "outputs": [
    {
     "name": "stdout",
     "output_type": "stream",
     "text": [
      "Coef.\t                Ci                 \t     CiPolyfit      \t\n",
      "C_5.\t        -95686.1400000150\t        -95686.1399999473\t\n",
      "C_4.\t         23852.6163155758\t         23852.6163155584\t\n",
      "C_3.\t         -2310.0641888692\t         -2310.0641888674\t\n",
      "C_2.\t           108.7341516266\t           108.7341516265\t\n",
      "C_1.\t            -2.4894971511\t            -2.4894971511\t\n",
      "C_0.\t             0.0222104183\t             0.0222104183\t\n"
     ]
    }
   ],
   "source": [
    "\n",
    "\"\"\"\n",
    "Coeficientes\n",
    "\"\"\"\n",
    "\n",
    "# defincion de puntos x,y conocidos\n",
    "Xi = np.array([13, 16, 17, 23, 28, 33])\n",
    "Yi = np.array([30, 92, 21, 159, 94, 236])\n",
    "\n",
    "# Coeficientes a partir de un conjunto de valores de entrada Xi , Yi\n",
    "def Coeficientes(X1, Y1):\n",
    "    # matriz cuadrada A del sistema Ax = b\n",
    "    N = np.size(Xi)\n",
    "    # matriz A ; Ax = b\n",
    "    A = np.zeros([N, N])\n",
    "    # vector b ; Ax = b\n",
    "    b = np.zeros([N, 1])\n",
    "    \n",
    "    # iteracion para constuir las matriz A y vector b\n",
    "    for i in range(N):\n",
    "        for j in range(N):\n",
    "            A[i, j] = Xi[i] ** (N - j - 1)\n",
    "        b[i] = Yi[i]\n",
    "        \n",
    "    # solucionar el sistema Ax = b para hallar los coeficientes\n",
    "    Ci = np.linalg.solve(A, b)\n",
    "    return Ci\n",
    "\n",
    "# coeficientes definidos por funcion\n",
    "Ci = Coeficientes(Xi, Yi)\n",
    "# polyfit :: coeficientes de numpy\n",
    "CiPoly = np.polyfit(Xi, Yi, np.size(Xi) - 1)\n",
    "\n",
    "# imprimir los coeficientes hallados con la funcion coeficientes para compararlos con los de numpy \n",
    "# :: deberían ser los mismo\n",
    "print(\"Coef.\\t{:^35s}\\t{:^20s}\\t\".format(\"Ci\", \"CiPolyfit\"))\n",
    "for i in range(np.size(Ci) - 1, -1, -1):\n",
    "    print(\"C_{:d}.\\t{: 25.10f}\\t{: 25.10f}\\t\".format(i, Ci[i][0], CiPoly[i]))\n",
    "    \n"
   ]
  },
  {
   "cell_type": "code",
   "execution_count": 11,
   "metadata": {},
   "outputs": [
    {
     "name": "stdout",
     "output_type": "stream",
     "text": [
      "Xk\t                Yk                 \t     YkPolyval      \t\n",
      "15\t           151.6670664629\t           151.6670664624\t\n",
      "19\t           -50.6199732620\t           -50.6199732625\t\n",
      "21\t            17.1695187167\t            17.1695187161\t\n",
      "25\t           249.0601527886\t           249.0601527876\t\n",
      "27\t           186.3838235299\t           186.3838235285\t\n",
      "32\t           -76.4624140565\t           -76.4624140579\t\n"
     ]
    }
   ],
   "source": [
    "\n",
    "\"\"\"\n",
    "Estimación de valores\n",
    "\"\"\"\n",
    "\n",
    "# valores x a encontrar solucion f(x)\n",
    "Xk = np.array([15, 19, 21, 25, 27, 32])\n",
    "\n",
    "# valores de y\n",
    "def YkVals(Cin, Xin):\n",
    "    # size del vector coeficientes\n",
    "    N = np.size(Cin)\n",
    "    # valores retorno\n",
    "    Yout = np.zeros(np.size(Xin))\n",
    "    for i in range(np.size(Xin)):\n",
    "        for j in range(N):\n",
    "            Yout[i] += (Cin[j] * (Xin[i] ** (N - j - 1)))\n",
    "    return Yout\n",
    "\n",
    "# obtener los valores estimados\n",
    "Yk = YkVals(Ci, Xk)\n",
    "# polyval :: valores de numpy\n",
    "YkPoly = np.polyval(CiPoly, Xk)\n",
    "\n",
    "# imprimir los valores y comparar\n",
    "print(\"Xk\\t{:^35s}\\t{:^20s}\\t\".format(\"Yk\", \"YkPolyval\"))\n",
    "for i in range(np.size(Ci)):\n",
    "    print(\"{:d}\\t{: 25.10f}\\t{: 25.10f}\\t\".format(Xk[i], Yk[i], YkPoly[i] ))\n",
    "    "
   ]
  },
  {
   "cell_type": "code",
   "execution_count": 12,
   "metadata": {},
   "outputs": [
    {
     "data": {
      "text/plain": [
       "'\\nEn azul => polinomio obtenido\\nEn rojo => los puntos iniciales\\nEn verde => los puntos estimados\\nLa línea punteada representa las rectas que se obtienen uniendo cada par de puntos consecutivos\\n'"
      ]
     },
     "execution_count": 12,
     "metadata": {},
     "output_type": "execute_result"
    },
    {
     "data": {
      "text/plain": [
       "<Figure size 432x288 with 0 Axes>"
      ]
     },
     "metadata": {},
     "output_type": "display_data"
    },
    {
     "data": {
      "image/png": "[encoded data removed]",
      "text/plain": [
       "<Figure size 864x360 with 1 Axes>"
      ]
     },
     "metadata": {
      "needs_background": "light"
     },
     "output_type": "display_data"
    }
   ],
   "source": [
    "\n",
    "\"\"\"\n",
    "Gráfica\n",
    "\"\"\"\n",
    "\n",
    "Xp = np.arange(Xi[0], Xi[-1], 0.01)\n",
    "Yp = YkVals(Ci, Xp)\n",
    "\n",
    "plt.figure()\n",
    "plt.figure(figsize=(12,5))\n",
    "plt.plot(Xp, Yp, 'b')\n",
    "plt.plot(Xi, Yi, 'sr')\n",
    "plt.plot(Xi, Yi, '--', color='0.5')\n",
    "plt.plot(Xk, Yk, 'sg')\n",
    "\n",
    "plt.xlim([0.0, 37.0])\n",
    "dis = (np.max(Yp) - np.min(Yp)) * 0.1\n",
    "plt.ylim([np.min(Yp) - dis, np.max(Yp) + dis])\n",
    "\n",
    "plt.xlabel(\"x\")\n",
    "plt.ylabel(\"y\")\n",
    "plt.grid(1)\n",
    "\n",
    "\"\"\"\n",
    "En azul => polinomio obtenido\n",
    "En rojo => los puntos iniciales\n",
    "En verde => los puntos estimados\n",
    "La línea punteada representa las rectas que se obtienen uniendo cada par de puntos consecutivos\n",
    "\"\"\""
   ]
  },
  {
   "cell_type": "markdown",
   "metadata": {},
   "source": [
    "# Interpolación Lagrange\n",
    "Igual al polinomial **pero** no requiere encontrar la solución al sistema Ax = b para hallar el valor de Yk buscado."
   ]
  },
  {
   "cell_type": "code",
   "execution_count": 19,
   "metadata": {},
   "outputs": [
    {
     "name": "stdout",
     "output_type": "stream",
     "text": [
      "Xk\t                Yk                 \t     YkPolyval      \t\n",
      "15\t           151.6670664629\t           151.6670664624\t\n",
      "19\t           -50.6199732620\t           -50.6199732625\t\n",
      "21\t            17.1695187166\t            17.1695187161\t\n",
      "25\t           249.0601527884\t           249.0601527876\t\n",
      "27\t           186.3838235294\t           186.3838235285\t\n",
      "32\t           -76.4624140565\t           -76.4624140579\t\n"
     ]
    }
   ],
   "source": [
    "# defincion de puntos x,y conocidos\n",
    "Xi = np.array([13, 16, 17, 23, 28, 33])\n",
    "Yi = np.array([30, 92, 21, 159, 94, 236])\n",
    "\n",
    "# valores x a encontrar solucion f(x)\n",
    "Xk = np.array([15, 19, 21, 25, 27, 32])\n",
    "\n",
    "def lagrange(Xi, Yi, Xk):\n",
    "    Yk = np.zeros(np.size(Xk))\n",
    "    for k in range(np.size(Xk)):\n",
    "        for i in range(np.size(Yi)):\n",
    "            maux = 1\n",
    "            for j in range(np.size(Yi)):\n",
    "                if i == j:\n",
    "                    continue\n",
    "                maux *= ((Xk[k] - Xi[j]) / (Xi[i] - Xi[j]))\n",
    "            Yk[k] += Yi[i] * maux\n",
    "    return Yk\n",
    "\n",
    "# estimacion de valores con lagrage\n",
    "Yk = lagrange(Xi, Yi, Xk)\n",
    "# estimacion con numpy prara compara\n",
    "CiPoly = np.polyfit(Xi, Yi, np.size(Xi) - 1)\n",
    "YkPoly = np.polyval(CiPoly, Xk)\n",
    "\n",
    "# imprimir los valores y comparar\n",
    "print(\"Xk\\t{:^35s}\\t{:^20s}\\t\".format(\"Yk\", \"YkPolyval\"))\n",
    "for i in range(np.size(Xk)):\n",
    "    print(\"{:d}\\t{: 25.10f}\\t{: 25.10f}\\t\".format(Xk[i], Yk[i], YkPoly[i] ))\n",
    "    \n",
    "# no son los mismo pero tomar como verdadero YK"
   ]
  },
  {
   "cell_type": "markdown",
   "metadata": {},
   "source": [
    "# Interpolación por Splines Cúbicos\n",
    "Construcción de sub-polinomios a partir de un conjunto de puntos."
   ]
  },
  {
   "cell_type": "code",
   "execution_count": 22,
   "metadata": {},
   "outputs": [
    {
     "data": {
      "text/plain": [
       "<Figure size 432x288 with 0 Axes>"
      ]
     },
     "metadata": {},
     "output_type": "display_data"
    },
    {
     "data": {
      "image/png": "[encoded data removed]",
      "text/plain": [
       "<Figure size 1008x504 with 1 Axes>"
      ]
     },
     "metadata": {
      "needs_background": "light"
     },
     "output_type": "display_data"
    }
   ],
   "source": [
    "import numpy as np\n",
    "import matplotlib.pyplot as plt\n",
    "##\n",
    "import scipy.interpolate as interpol\n",
    "\n",
    "# Puntos conocidos\n",
    "Xi = np.array([13, 16, 17, 23])\n",
    "Yi = np.array([30, 92, 21, 159])\n",
    "\n",
    "# Splines Natural :: segunda derivada a cero en los puntos extremos\n",
    "f1Nat = interpol.CubicSpline(Xi, Yi, bc_type=\"natural\")\n",
    "\n",
    "# Splines Not - a - knot :: igualdad de terceras drivadas en el segundo y penultimo punto. (se necesitan al menos 4 puntos)\n",
    "f1Nak = interpol.CubicSpline(Xi, Yi, bc_type=\"not-a-knot\")\n",
    "\n",
    "# Splines Clamped, con valor k=0 :: primera derivada en los puntos extremos igual a un valor definido k\n",
    "f1Clam = interpol.CubicSpline(Xi, Yi, bc_type=\"clamped\")\n",
    "\n",
    "\"\"\"\n",
    "Gráfica de polinomios resultantes\n",
    "\"\"\"\n",
    "\n",
    "# rango\n",
    "Xp = np.arange(Xi[0], Xi[-1] - 0.001, 0.001)\n",
    "\n",
    "plt.figure()\n",
    "plt.figure(figsize=(14,7))\n",
    "\n",
    "plt.plot(Xi, Yi, 'sr')\n",
    "\n",
    "plt.plot(Xp, f1Nat(Xp), '--b')\n",
    "plt.plot(Xp, f1Nak(Xp), '--m')\n",
    "plt.plot(Xp, f1Clam(Xp), '--g')\n",
    "\n",
    "plt.xlim([10.0, 25.0])\n",
    "plt.ylim([-200.0, 180.0])\n",
    "\n",
    "plt.xlabel(\"x\")\n",
    "plt.ylabel(\"y\")\n",
    "\n",
    "plt.legend([\"Conocidos\", \"Natural\", \"Not-a-Knot\", \"Clamped\"])\n",
    "plt.grid(1)"
   ]
  },
  {
   "cell_type": "code",
   "execution_count": 25,
   "metadata": {},
   "outputs": [
    {
     "name": "stdout",
     "output_type": "stream",
     "text": [
      "Xk\t     YkNat     \t     YkNak     \t    YkClam     \t\n",
      "15\t 112.6946946947\t 131.7047619048\t  96.9708431836\t\n",
      "19\t -34.3413413413\t-127.6571428571\t  -1.9456264775\t\n",
      "21\t  31.9269269269\t-139.8095238095\t  93.8605200946\t\n"
     ]
    }
   ],
   "source": [
    "##\n",
    "\n",
    "# estimacion de los valores a encontrar\n",
    "Xk = np.array([15, 19, 21])\n",
    "\n",
    "# valores estimados de Y usando cada tipo de spline\n",
    "YkNat = f1Nat(Xk)\n",
    "YkNak = f1Nak(Xk)\n",
    "YkClam = f1Clam(Xk)\n",
    "\n",
    "# imprimir los valores y comparar\n",
    "print(\"Xk\\t{:^15s}\\t{:^15s}\\t{:^15s}\\t\".format(\"YkNat\", \"YkNak\", \"YkClam\"))\n",
    "for i in range(np.size(Xk)):\n",
    "    print(\"{:d}\\t{: 15.10f}\\t{: 15.10f}\\t{: 15.10f}\\t\".format(Xk[i], YkNat[i], YkNak[i], YkClam[i] ))\n",
    "    "
   ]
  },
  {
   "cell_type": "markdown",
   "metadata": {},
   "source": [
    "# Suma de residuos cuadrados\n",
    "\n",
    "<br/>\n",
    "\n",
    "**src = sum (y_est - y_true)^2**\n",
    "\n",
    "<br/>\n",
    "\n",
    "y_est = calculado Yk, según los métodos anteriores\n",
    "\n",
    "<br/>\n",
    "\n",
    "y_true = valor verdadero dado"
   ]
  },
  {
   "cell_type": "code",
   "execution_count": null,
   "metadata": {},
   "outputs": [],
   "source": []
  }
 ],
 "metadata": {
  "kernelspec": {
   "display_name": "Python 3",
   "language": "python",
   "name": "python3"
  },
  "language_info": {
   "codemirror_mode": {
    "name": "ipython",
    "version": 3
   },
   "file_extension": ".py",
   "mimetype": "text/x-python",
   "name": "python",
   "nbconvert_exporter": "python",
   "pygments_lexer": "ipython3",
   "version": "3.7.4"
  }
 },
 "nbformat": 4,
 "nbformat_minor": 4
}
