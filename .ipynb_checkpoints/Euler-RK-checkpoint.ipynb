{
 "cells": [
  {
   "cell_type": "markdown",
   "metadata": {},
   "source": [
    "# Euler & RK"
   ]
  },
  {
   "cell_type": "code",
   "execution_count": 4,
   "metadata": {},
   "outputs": [
    {
     "data": {
      "text/plain": [
       "'\\nConclusión\\nLa solución estimada con el método de RK4\\nes la que más se acerca a la obtenida\\ncon la solución analítica.\\n'"
      ]
     },
     "execution_count": 4,
     "metadata": {},
     "output_type": "execute_result"
    },
    {
     "data": {
      "text/plain": [
       "<Figure size 432x288 with 0 Axes>"
      ]
     },
     "metadata": {},
     "output_type": "display_data"
    },
    {
     "data": {
      "image/png": "[encoded data removed]",
      "text/plain": [
       "<Figure size 864x360 with 1 Axes>"
      ]
     },
     "metadata": {
      "needs_background": "light"
     },
     "output_type": "display_data"
    }
   ],
   "source": [
    "import numpy as np\n",
    "import matplotlib.pyplot as plt\n",
    "\n",
    "\"\"\"\n",
    "Euler Forward & Backward\n",
    "\"\"\"\n",
    "\n",
    "# funcion f(t, y) que depende unicamente de y\n",
    "def f1(t, y):\n",
    "    return (0.49 - ((0.00245 * np.exp(0.49 * t)) / (0.49 + 0.005 * (np.exp(0.49 * t) - 1)))) * y\n",
    "\n",
    "# estimacion de yi en el metodo de Euler hacia atras\n",
    "def f1EulerBack(t, y, h):\n",
    "    return y / (1 - h * (0.49 - (( 0.00245 * np.exp(0.49 * t)) / (0.49 + 0.005 * (np.exp(0.49 * t) - 1)))))\n",
    "\n",
    "# euler modificado\n",
    "def f1EulerMod(t, h):\n",
    "    return (1 - (h/2.0) * (0.49 - ((0.00245 * np.exp(0.49 * t)) / (0.49 + 0.005 * (np.exp(0.49 * t) - 1)))))\n",
    "\n",
    "# valores\n",
    "h = 0.01 # entre menor sea h, más se acerca la solución a la analítica\n",
    "Y0 = 0.01\n",
    "To = 0.0\n",
    "Tf = 30.0\n",
    "\n",
    "# tiempo\n",
    "T = np.arange(To, Tf + h, h)\n",
    "\n",
    "# valores estimados de Y(t) en cada iteracion\n",
    "YEulerFor = np.zeros(len(T)) # forward\n",
    "YEulerBack = np.zeros(len(T)) # backward\n",
    "YEulerMod = np.zeros(len(T)) # modificado\n",
    "YRK2 = np.zeros(len(T)) # runge kutta 2\n",
    "YRK4 = np.zeros(len(T)) # runge kutta 4\n",
    "\n",
    "# valor inicial Y(t)\n",
    "YEulerFor[0] = Y0\n",
    "YEulerBack[0] = Y0\n",
    "YEulerMod[0] = Y0\n",
    "YRK2[0] = Y0\n",
    "YRK4[0] = Y0\n",
    "\n",
    "# iteracion\n",
    "for i in range(1, len(T)):\n",
    "    # forward\n",
    "    YEulerFor[i] = YEulerFor[i - 1] + h * f1(T[i-1], YEulerFor[i-1])\n",
    "    \n",
    "    # backwards\n",
    "    YEulerBack[i] = f1EulerBack(T[i], YEulerBack[i-1], h)\n",
    "    \n",
    "    # modidicado\n",
    "    YEulerMod[i] = (YEulerMod[i-1] + (h/2.0) * f1(T[i-1], YEulerMod[i-1])) / f1EulerMod(T[i], h)\n",
    "    \n",
    "    # runge kutta 2\n",
    "    k1 = f1(T[i-1], YRK2[i-1])\n",
    "    k2 = f1(T[i-1] + h, YRK2[i - 1] + k1 * h)\n",
    "    YRK2[i] = YRK2[i-1] + (h/2.0) * (k1 + k2)\n",
    "    \n",
    "    # runge kutta 4\n",
    "    k1 = f1(T[i-1], YRK4[i-1])\n",
    "    k2 = f1(T[i-1] + 0.5 * h, YRK4[i-1] + 0.5 * k1 * h)\n",
    "    k3 = f1(T[i-1] + 0.5 * h, YRK4[i-1] + 0.5 * k2 * h)\n",
    "    k4 = f1(T[i-1] + h, YRK4[i-1] + k3 * h)\n",
    "    YRK4[i] = YRK4[i-1] + (h/6.0) * (k1 + 2.0 * k2 + 2.0 * k3 + k4)\n",
    "\n",
    "\"\"\"\n",
    "Gráfica\n",
    "\"\"\"\n",
    "plt.figure()\n",
    "plt.figure(figsize=(12,5))\n",
    "\n",
    "plt.plot(T, YEulerFor, \"r\") # se va por debajo del analitico\n",
    "plt.plot(T, YEulerBack, \"g\") # se va por arriba\n",
    "plt.plot(T, YEulerMod, \"m\") # modificado es el analitico\n",
    "plt.plot(T, YRK2, \"orange\") # runge kutta 2 -- se va por debajo de analitica pero por arriba de forward\n",
    "plt.plot(T, YRK4, \"maroon\") # runge kutta 4 -- por debajo de analitica pero mucha mas cercano al analitica que RK2\n",
    "\n",
    "plt.xlabel(\"t\", fontsize=15)\n",
    "plt.ylabel(\"Y(t)\", fontsize=15)\n",
    "plt.grid(1)\n",
    "\n",
    "\"\"\"\n",
    "Conclusión\n",
    "La solución estimada con el método de RK4\n",
    "es la que más se acerca a la obtenida\n",
    "con la solución analítica.\n",
    "\"\"\"\n"
   ]
  },
  {
   "cell_type": "code",
   "execution_count": null,
   "metadata": {},
   "outputs": [],
   "source": []
  }
 ],
 "metadata": {
  "kernelspec": {
   "display_name": "Python 3",
   "language": "python",
   "name": "python3"
  },
  "language_info": {
   "codemirror_mode": {
    "name": "ipython",
    "version": 3
   },
   "file_extension": ".py",
   "mimetype": "text/x-python",
   "name": "python",
   "nbconvert_exporter": "python",
   "pygments_lexer": "ipython3",
   "version": "3.7.4"
  }
 },
 "nbformat": 4,
 "nbformat_minor": 4
}
