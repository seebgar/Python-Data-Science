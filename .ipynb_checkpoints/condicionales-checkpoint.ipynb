{
 "cells": [
  {
   "cell_type": "markdown",
   "metadata": {},
   "source": [
    "Agosto 21, 2020 <br/>\n",
    "Sebastian Garcia 201630047\n",
    "\n",
    "$ jupyter nbconvert --to script"
   ]
  },
  {
   "cell_type": "markdown",
   "metadata": {},
   "source": [
    "### Condicionales"
   ]
  },
  {
   "cell_type": "code",
   "execution_count": 1,
   "metadata": {},
   "outputs": [
    {
     "name": "stdout",
     "output_type": "stream",
     "text": [
      "True\n"
     ]
    }
   ],
   "source": [
    "if True:\n",
    "    print(True)"
   ]
  },
  {
   "cell_type": "code",
   "execution_count": 4,
   "metadata": {},
   "outputs": [
    {
     "name": "stdout",
     "output_type": "stream",
     "text": [
      "False\n",
      "True\n",
      "True\n"
     ]
    }
   ],
   "source": [
    "a, b, c, d = 2, 4, 3, 1\n",
    "print(a > b)\n",
    "print(c > d )\n",
    "print(a < b and c > d and b > c)"
   ]
  },
  {
   "cell_type": "code",
   "execution_count": 11,
   "metadata": {},
   "outputs": [
    {
     "name": "stdout",
     "output_type": "stream",
     "text": [
      "b es mayor que a\n",
      "10 es mayor que 5\n"
     ]
    }
   ],
   "source": [
    "a = 5\n",
    "b = 10\n",
    "\n",
    "if b > a:\n",
    "    print(\"b es mayor que a\")\n",
    "\n",
    "if b > a:\n",
    "    print(\"{1} es mayor que {0}\".format(a, b))\n",
    "    "
   ]
  },
  {
   "cell_type": "code",
   "execution_count": 13,
   "metadata": {},
   "outputs": [
    {
     "name": "stdout",
     "output_type": "stream",
     "text": [
      "25\n"
     ]
    }
   ],
   "source": [
    "_b = 5\n",
    "if _b > 2:\n",
    "    _b = _b ** 2\n",
    "print(_b)"
   ]
  },
  {
   "cell_type": "code",
   "execution_count": 14,
   "metadata": {},
   "outputs": [
    {
     "name": "stdout",
     "output_type": "stream",
     "text": [
      "Entra al if\n",
      "End\n"
     ]
    }
   ],
   "source": [
    "a, b, c, d = 2, 4, 10, 1\n",
    "if a > b or a < c and d < b:\n",
    "    print(\"Entra al if\")\n",
    "    \n",
    "print(\"End\")"
   ]
  },
  {
   "cell_type": "code",
   "execution_count": 17,
   "metadata": {},
   "outputs": [
    {
     "name": "stdout",
     "output_type": "stream",
     "text": [
      "Edad?2\n",
      "no entra al bar, cedula?\n"
     ]
    }
   ],
   "source": [
    "anios = int(input(\"Edad?\"))\n",
    "if anios >= 18 and anios < 60:\n",
    "    print(\"entra al bar\")\n",
    "elif (anios >= 60):\n",
    "    print(\"No entra al bar\")\n",
    "else:\n",
    "    print(\"no entra al bar, cedula?\")"
   ]
  },
  {
   "cell_type": "code",
   "execution_count": 20,
   "metadata": {},
   "outputs": [
    {
     "name": "stdout",
     "output_type": "stream",
     "text": [
      "no entra\n"
     ]
    }
   ],
   "source": [
    "if anios >= 18 and anios < 60 or anios > 90:\n",
    "    print(\"entra\")\n",
    "else: \n",
    "    print(\"no entra\")"
   ]
  },
  {
   "cell_type": "code",
   "execution_count": 21,
   "metadata": {},
   "outputs": [
    {
     "name": "stdout",
     "output_type": "stream",
     "text": [
      "nota?3.4\n",
      "buena\n"
     ]
    }
   ],
   "source": [
    "nota = float(input(\"nota?\"))\n",
    "\n",
    "if nota > 5.0:\n",
    "    print(\"imposible!\")\n",
    "elif nota >= 4.5:\n",
    "    print(\"exelente\")\n",
    "elif nota >= 3.0:\n",
    "    print(\"buena\")\n",
    "else:\n",
    "    print(\"perdió\")\n"
   ]
  },
  {
   "cell_type": "markdown",
   "metadata": {},
   "source": [
    "### Ejercicio 16"
   ]
  },
  {
   "cell_type": "code",
   "execution_count": 24,
   "metadata": {},
   "outputs": [
    {
     "name": "stdout",
     "output_type": "stream",
     "text": [
      "contador = 0\n",
      "contador = 1\n",
      "contador = 2\n",
      "contador = 3\n",
      "contador = 4\n",
      "contador = 5\n",
      "contador = 6\n",
      "contador = 7\n",
      "contador = 8\n",
      "contador = 9\n"
     ]
    }
   ],
   "source": [
    "cont = 0\n",
    "while cont < 10:\n",
    "    print(f'contador = {cont}')\n",
    "    cont = cont + 1"
   ]
  },
  {
   "cell_type": "markdown",
   "metadata": {},
   "source": [
    "### Ejercicio 17"
   ]
  },
  {
   "cell_type": "code",
   "execution_count": 25,
   "metadata": {},
   "outputs": [
    {
     "name": "stdout",
     "output_type": "stream",
     "text": [
      "contador = 10\n",
      "contador = 9\n",
      "contador = 8\n",
      "contador = 7\n",
      "contador = 6\n",
      "contador = 5\n",
      "contador = 4\n",
      "contador = 3\n",
      "contador = 2\n",
      "contador = 1\n"
     ]
    }
   ],
   "source": [
    "cont = 10\n",
    "while cont > 0:\n",
    "    print(f'contador = {cont}')\n",
    "    cont = cont - 1"
   ]
  },
  {
   "cell_type": "code",
   "execution_count": 26,
   "metadata": {},
   "outputs": [
    {
     "name": "stdout",
     "output_type": "stream",
     "text": [
      "numero? -2\n",
      "numero negativo!\n",
      "numero? 3\n",
      "numero positivo\n"
     ]
    }
   ],
   "source": [
    "numero = int(input(\"numero? \"))\n",
    "while numero < 0:\n",
    "    print(\"numero negativo!\")\n",
    "    numero = int(input(\"numero? \"))\n",
    "    \n",
    "print(\"numero positivo\")"
   ]
  },
  {
   "cell_type": "code",
   "execution_count": null,
   "metadata": {},
   "outputs": [],
   "source": []
  }
 ],
 "metadata": {
  "kernelspec": {
   "display_name": "Python 3",
   "language": "python",
   "name": "python3"
  },
  "language_info": {
   "codemirror_mode": {
    "name": "ipython",
    "version": 3
   },
   "file_extension": ".py",
   "mimetype": "text/x-python",
   "name": "python",
   "nbconvert_exporter": "python",
   "pygments_lexer": "ipython3",
   "version": "3.7.4"
  }
 },
 "nbformat": 4,
 "nbformat_minor": 4
}
