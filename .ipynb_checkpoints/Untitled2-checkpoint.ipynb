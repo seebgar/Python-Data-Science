{
 "cells": [
  {
   "cell_type": "markdown",
   "metadata": {},
   "source": [
    "# Euler"
   ]
  },
  {
   "cell_type": "code",
   "execution_count": 1,
   "metadata": {},
   "outputs": [],
   "source": [
    "import numpy as np\n",
    "import matplotlib.pyplot as plt\n",
    "\n",
    "\"\"\"\n",
    "Euler Forward & Backward\n",
    "\"\"\"\n",
    "\n",
    "# funcion f(t, y) que depende unicamente de y\n",
    "def f1(t, y):\n",
    "    return (0.49 - ((0.00245 * np.exp(0.49 * t)) / (0.49 + 0.005. * (np.exp(0.49 * t) - 1)))) * y\n",
    "\n",
    "# estimacion de yi en el metodo de Euler hacia atras\n",
    "def f1EulerBack(t, y, h):\n",
    "    return y / (1 - h * (0.49 - (( 0.00245 * np.exp(0.49 * t)) / (0.49 + 0.005 * (np.exp(0.49 * t) - 1)))))\n",
    "\n",
    "# valores\n",
    "h = 0.01\n",
    "Y0 = 0.01\n",
    "To = 0.0\n",
    "Tf = 30.0\n",
    "\n",
    "# tiempo\n",
    "T = np.arange(To, Tf + h, h)\n",
    "\n",
    "# valores estimados de Y(t) en cada iteracion\n",
    "YEulerFor = np.zeros(len(T)) # forward\n",
    "YEulerBack = np.zeros(len(T)) # backward\n",
    "\n"
   ]
  },
  {
   "cell_type": "code",
   "execution_count": null,
   "metadata": {},
   "outputs": [],
   "source": []
  }
 ],
 "metadata": {
  "kernelspec": {
   "display_name": "Python 3",
   "language": "python",
   "name": "python3"
  },
  "language_info": {
   "codemirror_mode": {
    "name": "ipython",
    "version": 3
   },
   "file_extension": ".py",
   "mimetype": "text/x-python",
   "name": "python",
   "nbconvert_exporter": "python",
   "pygments_lexer": "ipython3",
   "version": "3.7.4"
  }
 },
 "nbformat": 4,
 "nbformat_minor": 4
}
