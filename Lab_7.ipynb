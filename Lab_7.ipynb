{
 "cells": [
  {
   "cell_type": "markdown",
   "metadata": {},
   "source": [
    "# Laboratorio 7\n",
    "Sebastian Garcia 201630047"
   ]
  },
  {
   "cell_type": "markdown",
   "metadata": {},
   "source": [
    "### Ejercicio 1\n",
    "Realice una función en Python que permita obtener la raíz de una ecuación no lineal de una variable usando el método de la bisección. La función debe recibir como parámetros la función objetivo f(x), el intervalo inicial, las tolerancias en X y Y, y debe retornar un arreglo con los valores estimados de la raíz para cada iteración."
   ]
  },
  {
   "cell_type": "code",
   "execution_count": 1,
   "metadata": {},
   "outputs": [],
   "source": [
    "##\n",
    "\n",
    "def bisection(f, a, b, N=1000, tlr_x=1e-05, tlr_y=1e-05 ):\n",
    "    if f(a) * f(b) >= 0:\n",
    "        print(\"El signo de la función debe cambiar dentro del intervalo [a,b]\")\n",
    "        return None\n",
    "    \n",
    "    roots = []\n",
    "    a_n = a\n",
    "    b_n = b\n",
    "    prev_root = b_n\n",
    "    \n",
    "    for n in range(1, N+1):\n",
    "        m_n = (a_n + b_n)/2\n",
    "        f_m_n = f(m_n)\n",
    "        roots.append(m_n)\n",
    "        \n",
    "        # Tolerancias 10**-5\n",
    "        if np.abs(m_n - prev_root) <= tlr_x:\n",
    "            break\n",
    "        if np.abs(f_m_n) <= tlr_y:\n",
    "            break\n",
    "        \n",
    "        if f(a_n) * f_m_n < 0:\n",
    "            a_n = a_n\n",
    "            b_n = m_n\n",
    "        elif f(b_n) * f_m_n < 0:\n",
    "            a_n = m_n\n",
    "            b_n = b_n\n",
    "        elif f_m_n == 0:\n",
    "            return m_n, roots\n",
    "        else:\n",
    "            print(\"Sin solución.\")\n",
    "            return None, roots\n",
    "        \n",
    "        prev_root = m_n\n",
    "       \n",
    "    m_n = (a_n + b_n)/2\n",
    "    return  m_n, roots"
   ]
  },
  {
   "cell_type": "markdown",
   "metadata": {},
   "source": [
    "### Ejercico 2\n",
    " Realice una función en Python que permita obtener la raíz de una ecuación no lineal de una variable usando el método de la falsa posición. La función debe recibir como parámetros la función objetivo f(x), el intervalo inicial, las tolerancias en X y Y, y debe retornar un arreglo con los valores estimados de la raíz para cada iteración.\n"
   ]
  },
  {
   "cell_type": "code",
   "execution_count": 2,
   "metadata": {},
   "outputs": [],
   "source": [
    "##\n",
    "\n",
    "def regula_falsi(f, a, b, N=1000, tlr_x=1e-05, tlr_y=1e-05):    \n",
    "    if f(a)*f(b) >= 0:\n",
    "        print(\"El signo de la función debe cambiar dentro del intervalo [a,b]\")\n",
    "        return None\n",
    "    \n",
    "    roots = []\n",
    "    a_n = a\n",
    "    b_n = b\n",
    "    prev_root = b_n\n",
    "    \n",
    "    for n in range(1, N+1):\n",
    "        m_n = b_n - ((f(b_n) * (b_n - a_n)) / (f(b_n) - f((a_n))) )\n",
    "        f_m_n = f(m_n)\n",
    "        roots.append(m_n)\n",
    "        \n",
    "        # Tolerancias 10**-5\n",
    "        if np.abs(m_n - prev_root) <= tlr_x:\n",
    "            break\n",
    "        if np.abs(f_m_n) <= tlr_y:\n",
    "            break\n",
    "        \n",
    "        if f(a_n) * f_m_n < 0:\n",
    "            a_n = a_n\n",
    "            b_n = m_n\n",
    "        elif f(b_n) * f_m_n < 0:\n",
    "            a_n = m_n\n",
    "            b_n = b_n\n",
    "        elif f_m_n == 0:\n",
    "            return m_n, roots\n",
    "        else:\n",
    "            print(\"Sin solución.\")\n",
    "            return None, roots\n",
    "        \n",
    "        prev_root = m_n\n",
    "       \n",
    "    m_n = b_n - ((f(b_n) * (b_n - a_n)) / (f(b_n) - f((a_n))) )\n",
    "    return m_n, roots"
   ]
  },
  {
   "cell_type": "markdown",
   "metadata": {},
   "source": [
    "### Ejercicio 3\n",
    "Realice una función en Python que permita obtener la raíz de una ecuación no lineal de una variable usando el método del punto fijo. La función debe recibir como parámetros la función objetivo f(x), la función g(x), el punto inicial, las tolerancias en X y Y, y debe retornar un arreglo con los valores estimados de la raíz para cada iteración.\n"
   ]
  },
  {
   "cell_type": "code",
   "execution_count": 3,
   "metadata": {},
   "outputs": [],
   "source": [
    "##\n",
    "\n",
    "def fixed_point(f, g, b, N=1000, tlr_x=1e-05, tlr_y=1e-05):\n",
    "    roots = []\n",
    "    b_n = b\n",
    "    prev_root = b_n\n",
    "    \n",
    "    for n in range(1, N+1):\n",
    "        m_n = g(b_n)\n",
    "        f_m_n = f(m_n)\n",
    "        roots.append(m_n)\n",
    "        \n",
    "        # Tolerancias 10**-5\n",
    "        if np.abs(m_n - prev_root) <= tlr_x:\n",
    "            break\n",
    "        if np.abs(f_m_n) <= tlr_y:\n",
    "            break\n",
    "        \n",
    "        b_n = m_n\n",
    "        prev_root = m_n\n",
    "        \n",
    "    return g(b_n), roots"
   ]
  },
  {
   "cell_type": "markdown",
   "metadata": {},
   "source": [
    "### Ejercicio 4\n",
    "Realice una función en Python que permita obtener la raíz de una ecuación no lineal de una variable usando el método del Newton. La función debe recibir como parámetros la función objetivo f(x), el punto inicial, las tolerancias en X y Y, y debe retornar un arreglo con los valores estimados de la raíz para cada iteración."
   ]
  },
  {
   "cell_type": "code",
   "execution_count": 4,
   "metadata": {},
   "outputs": [],
   "source": [
    "##\n",
    "\n",
    "def derivative(f, a, h=0.01):\n",
    "    return (f(a + h) - f(a - h))/(2*h)\n",
    "\n",
    "def newton(f, x, tlr_x=1e-05, tlr_y=1e-05):\n",
    "    roots = []\n",
    "    while True:\n",
    "        Dfx = derivative(f, x)\n",
    "        if Dfx == 0:\n",
    "            print(\"Derivada igual a 0.\")\n",
    "            return None, roots\n",
    "        \n",
    "        x1 = x - (f(x) / Dfx)\n",
    "        roots.append(x1)\n",
    "        \n",
    "        # Tolerancias 10**-5\n",
    "        if np.abs(x1 - x) < tlr_x:\n",
    "            break\n",
    "        if np.abs(f(x1)) < tlr_y:\n",
    "            break\n",
    "            \n",
    "        x = x1\n",
    "        \n",
    "    return x, roots"
   ]
  },
  {
   "cell_type": "markdown",
   "metadata": {},
   "source": [
    "### Ejercicio 5\n",
    "Realice una función en Python que permita obtener la raíz de una ecuación no lineal de una variable usando el método de la Secante. La función debe recibir como parámetros la función objetivo f(x), los puntos iniciales, las tolerancias en X y Y, y debe retornar un arreglo con los valores estimados de la raíz para cada iteración."
   ]
  },
  {
   "cell_type": "code",
   "execution_count": 5,
   "metadata": {},
   "outputs": [],
   "source": [
    "##\n",
    "\n",
    "def secant(f, a, b, N=1000, tlr_x=1e-05, tlr_y=1e-05):\n",
    "    roots = []\n",
    "    a_n = a\n",
    "    b_n = b\n",
    "    prev_root = b_n\n",
    "    \n",
    "    for n in range(1, N+1):\n",
    "        m_n = b_n - ((f(b_n) * (b_n - a_n)) / (f(b_n) - f((a_n))) )\n",
    "        f_m_n = f(m_n)\n",
    "        roots.append(m_n)\n",
    "        \n",
    "        # Tolerancias 10**-5\n",
    "        if np.abs(m_n - prev_root) <= tlr_x:\n",
    "            break\n",
    "        if np.abs(f_m_n) <= tlr_y:\n",
    "            break\n",
    "        \n",
    "        a_n = b_n\n",
    "        b_n = m_n\n",
    "        prev_root = m_n\n",
    "        \n",
    "    m_n = b_n - ((f(b_n) * (b_n - a_n)) / (f(b_n) - f((a_n))) )\n",
    "    return m_n, roots"
   ]
  },
  {
   "cell_type": "markdown",
   "metadata": {},
   "source": [
    "### Ejercicio 6\n",
    "Realice una función en Python que permita calcular la tasa de convergencia de un método dado. La función debe recibir como parámetros un arreglo con los valores estimados de la raíz para cada iteración y retornar los valores estimados de la tasa de convergencia para las iteraciones de la 2 hasta la última menos 1."
   ]
  },
  {
   "cell_type": "code",
   "execution_count": 6,
   "metadata": {},
   "outputs": [],
   "source": [
    "## \n",
    "\n",
    "import scipy.optimize as opt\n",
    "\n",
    "def rate(x_vals, f, x):\n",
    "    x_exact = opt.fsolve(f, x)\n",
    "    e = [ np.abs(_x - x_exact) or 1 for _x in x_vals ]\n",
    "    q = [ np.log10(e[n+1]/e[n]) / np.log10(e[n]/e[n-1]) for n in range(1, len(e) - 1, 1)]\n",
    "    return q"
   ]
  },
  {
   "cell_type": "markdown",
   "metadata": {},
   "source": [
    "### Ejercicio 7\n",
    "Completar la siguiente tabla a partir de las funciones desarrolladas en los puntos del 1,2,4 y 5 para una tolerancia tanto en X como en Y de 10-5:"
   ]
  },
  {
   "cell_type": "code",
   "execution_count": 7,
   "metadata": {},
   "outputs": [
    {
     "name": "stdout",
     "output_type": "stream",
     "text": [
      "\n",
      "Función i.\n",
      "        \n",
      "    Bisección\n",
      "    No. iteraciones:\t 15\n",
      "    Raíz xr:\t\t 0.38018799\n",
      "    f(xr):\t\t 0.00000976\n",
      "    \n",
      "    Falsa posición\n",
      "    No. iteraciones:\t 10\n",
      "    Raíz xr:\t\t 0.38018708\n",
      "    f(xr):\t\t 0.00001213\n",
      "    \n",
      "    Newton\n",
      "    No. iteraciones:\t 4\n",
      "    Raíz xr:\t\t 0.38022820\n",
      "    f(xr):\t\t -0.00009483\n",
      "    \n",
      "    Secante\n",
      "    No. iteraciones:\t 5\n",
      "    Raíz xr:\t\t 0.38019180\n",
      "    f(xr):\t\t -0.00000015\n",
      "\n"
     ]
    }
   ],
   "source": [
    "##\n",
    "\n",
    "import numpy as np\n",
    "\n",
    "\"\"\"\n",
    "Función (i)\n",
    "\"\"\"\n",
    "\n",
    "fi = lambda x: (np.exp(-5.0 * (x**2))) - (x**(3.0/4.0)) + (np.sin(4.0 * x)) - 1\n",
    "\n",
    "# biseccion\n",
    "raiz_i_b, roots_i_b = bisection(fi, 0.2, 0.6)\n",
    "fixr_b = fi(raiz_i_b)\n",
    "\n",
    "# falsa posicion\n",
    "raiz_i_fp, roots_i_fp = regula_falsi(fi, 0.2, 0.6)\n",
    "fixr_fp = fi(raiz_i_fp)\n",
    "\n",
    "# newton\n",
    "raiz_i_n, roots_i_n = newton(fi, 0.6 )\n",
    "fixr_n = fi(raiz_i_n)\n",
    "\n",
    "# secante\n",
    "raiz_i_s, roots_i_s = secant(fi, 0.55, 0.6 )\n",
    "fixr_s = fi(raiz_i_s)\n",
    "\n",
    "print(f\"\"\"\n",
    "Función i.\n",
    "        \n",
    "    Bisección\n",
    "    No. iteraciones:\\t {len(roots_i_b)}\n",
    "    Raíz xr:\\t\\t {raiz_i_b :0.8f}\n",
    "    f(xr):\\t\\t {fixr_b :0.8f}\n",
    "    \n",
    "    Falsa posición\n",
    "    No. iteraciones:\\t {len(roots_i_fp)}\n",
    "    Raíz xr:\\t\\t {raiz_i_fp :0.8f}\n",
    "    f(xr):\\t\\t {fixr_fp :0.8f}\n",
    "    \n",
    "    Newton\n",
    "    No. iteraciones:\\t {len(roots_i_n)}\n",
    "    Raíz xr:\\t\\t {raiz_i_n :0.8f}\n",
    "    f(xr):\\t\\t {fixr_n :0.8f}\n",
    "    \n",
    "    Secante\n",
    "    No. iteraciones:\\t {len(roots_i_s)}\n",
    "    Raíz xr:\\t\\t {raiz_i_s :0.8f}\n",
    "    f(xr):\\t\\t {fixr_s :0.8f}\n",
    "\"\"\")\n"
   ]
  },
  {
   "cell_type": "code",
   "execution_count": 8,
   "metadata": {},
   "outputs": [
    {
     "name": "stdout",
     "output_type": "stream",
     "text": [
      "\n",
      "Función ii.\n",
      "        \n",
      "    Bisección\n",
      "    No. iteraciones:\t 17\n",
      "    Raíz xr:\t\t 0.58521271\n",
      "    f(xr):\t\t 0.00002314\n",
      "    \n",
      "    Falsa posición\n",
      "    No. iteraciones:\t 7\n",
      "    Raíz xr:\t\t 0.58521014\n",
      "    f(xr):\t\t 0.00000857\n",
      "    \n",
      "    Newton\n",
      "    No. iteraciones:\t 4\n",
      "    Raíz xr:\t\t 0.58515103\n",
      "    f(xr):\t\t -0.00032686\n",
      "    \n",
      "    Secante\n",
      "    No. iteraciones:\t 4\n",
      "    Raíz xr:\t\t 0.58520886\n",
      "    f(xr):\t\t 0.00000131\n",
      "\n"
     ]
    }
   ],
   "source": [
    "##\n",
    "\n",
    "import numpy as np\n",
    "\n",
    "\"\"\"\n",
    "Función (ii)\n",
    "\"\"\"\n",
    "\n",
    "fii = lambda x: (np.sin(4 * x) * (np.sqrt(x**2))) + (x**5) + (6.0 * x) - 4   \n",
    "\n",
    "# biseccion\n",
    "raiz_ii_b, roots_ii_b = bisection(fii, 0.0, 1.0)\n",
    "fiixr_b = fii(raiz_ii_b)\n",
    "\n",
    "# falsa posicion\n",
    "raiz_ii_fp, roots_ii_fp = regula_falsi(fii, 0.0, 1.0)\n",
    "fiixr_fp = fii(raiz_ii_fp)\n",
    "\n",
    "# newton\n",
    "raiz_ii_n, roots_ii_n = newton(fii, 1.0 )\n",
    "fiixr_n = fii(raiz_ii_n)\n",
    "\n",
    "# secante\n",
    "raiz_ii_s, roots_ii_s = secant(fii, 0.95, 1.0 )\n",
    "fiixr_s = fii(raiz_ii_s)\n",
    "\n",
    "print(f\"\"\"\n",
    "Función ii.\n",
    "        \n",
    "    Bisección\n",
    "    No. iteraciones:\\t {len(roots_ii_b)}\n",
    "    Raíz xr:\\t\\t {raiz_ii_b :0.8f}\n",
    "    f(xr):\\t\\t {fiixr_b :0.8f}\n",
    "    \n",
    "    Falsa posición\n",
    "    No. iteraciones:\\t {len(roots_ii_fp)}\n",
    "    Raíz xr:\\t\\t {raiz_ii_fp :0.8f}\n",
    "    f(xr):\\t\\t {fiixr_fp :0.8f}\n",
    "    \n",
    "    Newton\n",
    "    No. iteraciones:\\t {len(roots_ii_n)}\n",
    "    Raíz xr:\\t\\t {raiz_ii_n :0.8f}\n",
    "    f(xr):\\t\\t {fiixr_n :0.8f}\n",
    "    \n",
    "    Secante\n",
    "    No. iteraciones:\\t {len(roots_ii_s)}\n",
    "    Raíz xr:\\t\\t {raiz_ii_s :0.8f}\n",
    "    f(xr):\\t\\t {fiixr_s :0.8f}\n",
    "\"\"\")"
   ]
  },
  {
   "cell_type": "code",
   "execution_count": 9,
   "metadata": {},
   "outputs": [
    {
     "name": "stdout",
     "output_type": "stream",
     "text": [
      "\n",
      "Función iii.\n",
      "        \n",
      "    Bisección\n",
      "    No. iteraciones:\t 14\n",
      "    Raíz xr:\t\t 0.06443176\n",
      "    f(xr):\t\t -0.00017861\n",
      "    \n",
      "    Falsa posición\n",
      "    No. iteraciones:\t 15\n",
      "    Raíz xr:\t\t 0.06443979\n",
      "    f(xr):\t\t -0.00056195\n",
      "    \n",
      "    Newton\n",
      "    No. iteraciones:\t 1\n",
      "    Raíz xr:\t\t 0.01000000\n",
      "    f(xr):\t\t 6.32382490\n",
      "    \n",
      "    Secante\n",
      "    No. iteraciones:\t 8\n",
      "    Raíz xr:\t\t 0.06442802\n",
      "    f(xr):\t\t 0.00000008\n",
      "\n"
     ]
    }
   ],
   "source": [
    "##\n",
    "\n",
    "import numpy as np\n",
    "np.seterr(divide = 'ignore') \n",
    "\n",
    "\"\"\"\n",
    "Función (iii)\n",
    "\"\"\"\n",
    "\n",
    "fiii = lambda x: (-3.65 * np.log(x / 5.33)) + (np.sqrt(2) * np.exp((-1 * (np.pi/2)**2 - 4.25))) + (10.54 * np.cos(x - 2.2)) - (6.67 * (np.pi/2))\n",
    "\n",
    "# biseccion\n",
    "raiz_iii_b, roots_iii_b = bisection(fiii, 0.01, 0.1)\n",
    "fiiixr_b = fiii(raiz_iii_b)\n",
    "\n",
    "# falsa posicion\n",
    "raiz_iii_fp, roots_iii_fp = regula_falsi(fiii, 0.01, 0.1)\n",
    "fiiixr_fp = fiii(raiz_iii_fp)\n",
    "\n",
    "# newton\n",
    "raiz_iii_n, roots_iii_n = newton(fiii, 0.01 )\n",
    "fiiixr_n = fiii(raiz_iii_n)\n",
    "\n",
    "# secante\n",
    "raiz_iii_s, roots_iii_s = secant(fiii, 0.01, 0.0015 )\n",
    "fiiixr_s = fiii(raiz_iii_s)\n",
    "\n",
    "print(f\"\"\"\n",
    "Función iii.\n",
    "        \n",
    "    Bisección\n",
    "    No. iteraciones:\\t {len(roots_iii_b)}\n",
    "    Raíz xr:\\t\\t {raiz_iii_b :0.8f}\n",
    "    f(xr):\\t\\t {fiiixr_b :0.8f}\n",
    "    \n",
    "    Falsa posición\n",
    "    No. iteraciones:\\t {len(roots_iii_fp)}\n",
    "    Raíz xr:\\t\\t {raiz_iii_fp :0.8f}\n",
    "    f(xr):\\t\\t {fiiixr_fp :0.8f}\n",
    "    \n",
    "    Newton\n",
    "    No. iteraciones:\\t {len(roots_iii_n)}\n",
    "    Raíz xr:\\t\\t {raiz_iii_n :0.8f}\n",
    "    f(xr):\\t\\t {fiiixr_n :0.8f}\n",
    "    \n",
    "    Secante\n",
    "    No. iteraciones:\\t {len(roots_iii_s)}\n",
    "    Raíz xr:\\t\\t {raiz_iii_s :0.8f}\n",
    "    f(xr):\\t\\t {fiiixr_s :0.8f}\n",
    "\"\"\")"
   ]
  },
  {
   "cell_type": "markdown",
   "metadata": {},
   "source": [
    "### Ejercicio 8\n",
    "Con el fin de estudiar la propagación de la luz a través de tejidos biológicos se ha propuesto de forma empírica la siguiente ecuación:"
   ]
  },
  {
   "cell_type": "code",
   "execution_count": 10,
   "metadata": {},
   "outputs": [
    {
     "data": {
      "image/png": "[encoded data removed]",
      "text/plain": [
       "<Figure size 864x360 with 1 Axes>"
      ]
     },
     "metadata": {
      "needs_background": "light"
     },
     "output_type": "display_data"
    },
    {
     "name": "stdout",
     "output_type": "stream",
     "text": [
      "\n",
      "Punto (b)\n",
      "    Se escogería el intervalo cc. [1.5, 2]\n",
      "\n"
     ]
    }
   ],
   "source": [
    "##\n",
    "\n",
    "import numpy as np\n",
    "import matplotlib.pyplot as plt\n",
    "%matplotlib inline\n",
    "np.seterr(divide = 'ignore') \n",
    "\n",
    "# (a) g(nr) - PDF Adjunto\n",
    "\n",
    "g = lambda x: (1/x) * (11-1635 + (22.6415/x)) - 13.8365\n",
    "\n",
    "# (b) f(nr)\n",
    "\n",
    "fnr = lambda x: (0.0636 * x) - (1.440 * (x**(-2))) - (0.710 * (x**(-1))) + 0.88 # R = 4\n",
    "x = np.arange(-20.0, 5.0, 0.5)\n",
    "y = fnr(x)\n",
    "\n",
    "plt.figure(figsize=(12,5))\n",
    "plt.plot(x,y,label='y=f(nr)')\n",
    "plt.plot(x,[0 for i in y],'r') # EJE X\n",
    "plt.plot([0 for i in x], y,'r') # EJE Y\n",
    "plt.xticks(np.arange(min(x), max(x)+1, 1.0))\n",
    "\n",
    "plt.legend()\n",
    "plt.grid(True)\n",
    "plt.show()\n",
    "\n",
    "print(\"\"\"\n",
    "Punto (b)\n",
    "    Se escogería el intervalo cc. [1.5, 2]\n",
    "\"\"\")"
   ]
  },
  {
   "cell_type": "code",
   "execution_count": 21,
   "metadata": {},
   "outputs": [
    {
     "name": "stdout",
     "output_type": "stream",
     "text": [
      "\n",
      "Empresión i.\n",
      "\n",
      "  Iteración       nr    g(nr)    |nr_i - nr_i-1|\n",
      "-----------  -------  -------  -----------------\n",
      "          0  1.58916  1.50489        1.58916\n",
      "          1  1.50489  1.48215        0.08427\n",
      "          5  1.4732   1.47304        0.000552103\n",
      "          9  1.47298  1.47298        4.04122e-06\n",
      "\n"
     ]
    }
   ],
   "source": [
    "##\n",
    "from tabulate import tabulate\n",
    "\n",
    "\"\"\"\n",
    "Expresión (i)\n",
    "\"\"\"\n",
    "fnr = lambda x: (0.0636 * x) - (1.440 * (x**(-2))) - (0.710 * (x**(-1))) + 0.88 # R = 4\n",
    "gnr_i = lambda x: ((1/1.440) * ( (0.710*(x**-1)) + (0.0636*x) + 0.088 )) ** (-1/2)\n",
    "\n",
    "raiz_i, roots_i = fixed_point(fnr, gnr_i, 2)\n",
    "tb_i = tabulate([\n",
    "    [0, roots_i[0], gnr_i(roots_i[0]), roots_i[0]],\n",
    "    [1, roots_i[1], gnr_i(roots_i[1]), np.abs(roots_i[1]-roots_i[0])],\n",
    "    [5, roots_i[5], gnr_i(roots_i[5]), np.abs(roots_i[5]-roots_i[4])],\n",
    "    [9, roots_i[9], gnr_i(roots_i[9]), np.abs(roots_i[9]-roots_i[8])],\n",
    "],\n",
    "    headers=['Iteración', 'nr', 'g(nr)', '|nr_i - nr_i-1|']\n",
    ")\n",
    "\n",
    "print(f\"\"\"\n",
    "Empresión i.\n",
    "\n",
    "{tb_i}\n",
    "\"\"\")\n"
   ]
  },
  {
   "cell_type": "code",
   "execution_count": 30,
   "metadata": {},
   "outputs": [
    {
     "name": "stdout",
     "output_type": "stream",
     "text": [
      "\n",
      "Empresión ii.\n",
      "\n",
      "  Iteración        nr     g(nr)    |nr_i - nr_i-1|\n",
      "-----------  --------  --------  -----------------\n",
      "          0  -1.30503  20.4648            -1.30503\n",
      "          1  20.4648   -1.87508           21.7698\n",
      "          5   8.29808  -2.40015           10.5089\n",
      "         10  -2.54392   6.50329            9.25968\n",
      "         13   6.41044  -2.57414            8.97533\n",
      "\n"
     ]
    }
   ],
   "source": [
    "##\n",
    "\n",
    "\"\"\"\n",
    "Expresión (ii)\n",
    "\"\"\"\n",
    "fnr = lambda x: (0.0636 * x) - (1.440 * (x**(-2))) - (0.710 * (x**(-1))) + 0.88 # R = 4\n",
    "gnr_i = lambda x: (1/0.0636) * ( (1.440*(x**-2)) - (0.710*(x**-1)) - 0.088 )\n",
    "\n",
    "raiz_i, roots_i = fixed_point(fnr, gnr_i, 2)\n",
    "tb_ii = tabulate([\n",
    "    [0, roots_i[0], gnr_i(roots_i[0]), roots_i[0]],\n",
    "    [1, roots_i[1], gnr_i(roots_i[1]), np.abs(roots_i[1]-roots_i[0])],\n",
    "    [5, roots_i[5], gnr_i(roots_i[5]), np.abs(roots_i[5]-roots_i[4])],\n",
    "    [10, roots_i[10], gnr_i(roots_i[10]), np.abs(roots_i[10]-roots_i[9])],\n",
    "    [13, roots_i[13], gnr_i(roots_i[13]), np.abs(roots_i[13]-roots_i[12])],\n",
    "],\n",
    "    headers=['Iteración', 'nr', 'g(nr)', '|nr_i - nr_i-1|']\n",
    ")\n",
    "\n",
    "print(f\"\"\"\n",
    "Empresión ii.\n",
    "\n",
    "{tb_ii}\n",
    "\"\"\")"
   ]
  },
  {
   "cell_type": "code",
   "execution_count": 31,
   "metadata": {},
   "outputs": [
    {
     "name": "stdout",
     "output_type": "stream",
     "text": [
      "\n",
      "Empresión iii.\n",
      "\n",
      "  Iteración       nr    g(nr)    |nr_i - nr_i-1|\n",
      "-----------  -------  -------  -----------------\n",
      "          0  1.7898   1.6408         1.7898\n",
      "          1  1.6408   1.5506         0.148999\n",
      "          5  1.47754  1.47465        0.00773915\n",
      "         10  1.47301  1.47299        5.08973e-05\n",
      "         12  1.47298  1.47298        6.68916e-06\n",
      "\n"
     ]
    }
   ],
   "source": [
    "##\n",
    "\n",
    "\"\"\"\n",
    "Expresión (iii)\n",
    "\"\"\"\n",
    "fnr = lambda x: (0.0636 * x) - (1.440 * (x**(-2))) - (0.710 * (x**(-1))) + 0.88 # R = 4\n",
    "gnr_i = lambda x: (1.440*(x**-2)) - (0.710*(x**-1)) - (0.0636*x) - 0.088 + x\n",
    "\n",
    "raiz_i, roots_i = fixed_point(fnr, gnr_i, 2)\n",
    "tb_iii = tabulate([\n",
    "    [0, roots_i[0], gnr_i(roots_i[0]), roots_i[0]],\n",
    "    [1, roots_i[1], gnr_i(roots_i[1]), np.abs(roots_i[1]-roots_i[0])],\n",
    "    [5, roots_i[5], gnr_i(roots_i[5]), np.abs(roots_i[5]-roots_i[4])],\n",
    "    [10, roots_i[10], gnr_i(roots_i[10]), np.abs(roots_i[10]-roots_i[9])],\n",
    "    [12, roots_i[12], gnr_i(roots_i[12]), np.abs(roots_i[12]-roots_i[11])],\n",
    "],\n",
    "    headers=['Iteración', 'nr', 'g(nr)', '|nr_i - nr_i-1|']\n",
    ")\n",
    "\n",
    "print(f\"\"\"\n",
    "Empresión iii.\n",
    "\n",
    "{tb_iii}\n",
    "\"\"\")"
   ]
  },
  {
   "cell_type": "markdown",
   "metadata": {},
   "source": [
    "### Ejercicio 9\n",
    "Considere la misma ecuación presentada en el punto 8 en donde se requiere hallar el valor de nr para el cual el valor del factor interno de reflectancia es igual a 4 (R=4)."
   ]
  },
  {
   "cell_type": "code",
   "execution_count": 36,
   "metadata": {},
   "outputs": [
    {
     "name": "stdout",
     "output_type": "stream",
     "text": [
      "\n",
      "Método de Newton.\n",
      "\n",
      "  Iteración       nr         f(nr)    |nr_i+1 - nr_i|\n",
      "-----------  -------  ------------  -----------------\n",
      "          0  1.51391  -0.120994           0.100535\n",
      "          1  1.61444  -0.00958088         0.00938854\n",
      "          2  1.62383  -7.09978e-05        7.06065e-05\n",
      "\n",
      "\n",
      "Raíz nr:\t 1.6238328480910735\n",
      "\n"
     ]
    }
   ],
   "source": [
    "##\n",
    "\n",
    "\"\"\"\n",
    "(a) PDF adjunto\n",
    "\"\"\"\n",
    "\n",
    "\"\"\"\n",
    "(b)\n",
    "\"\"\"\n",
    "\n",
    "fnr = lambda x: (0.0636 * x) - (1.440 * (x**(-2))) - (0.710 * (x**(-1))) + 0.88 # R = 4\n",
    "\n",
    "raiz_i, roots_i = newton(fnr, 2)\n",
    "tb_iii = tabulate([\n",
    "    [0, roots_i[0], fnr(roots_i[0]), np.abs(roots_i[1]-roots_i[0])],\n",
    "    [1, roots_i[1], fnr(roots_i[1]), np.abs(roots_i[2]-roots_i[1])],\n",
    "    [2, roots_i[2], fnr(roots_i[2]), np.abs(roots_i[3]-roots_i[2])],\n",
    "],\n",
    "    headers=['Iteración', 'nr', 'f(nr)', '|nr_i+1 - nr_i|']\n",
    ")\n",
    "\n",
    "print(f\"\"\"\n",
    "Método de Newton.\n",
    "\n",
    "{tb_iii}\n",
    "\n",
    "\n",
    "Raíz nr:\\t {raiz_i}\n",
    "\"\"\")"
   ]
  },
  {
   "cell_type": "code",
   "execution_count": 54,
   "metadata": {},
   "outputs": [
    {
     "name": "stdout",
     "output_type": "stream",
     "text": [
      "\n",
      "Tasa de convergencia para la última iteración método Newton: \n",
      "\n",
      "[array([1.99617318])]\n",
      "\n"
     ]
    },
    {
     "data": {
      "image/png": "[encoded data removed]",
      "text/plain": [
       "<Figure size 432x288 with 1 Axes>"
      ]
     },
     "metadata": {
      "needs_background": "light"
     },
     "output_type": "display_data"
    }
   ],
   "source": [
    "##\n",
    "\n",
    "import numpy as np\n",
    "import matplotlib.pyplot as plt\n",
    "%matplotlib inline\n",
    "\n",
    "\"\"\"\n",
    "(c)\n",
    "\"\"\"\n",
    "\n",
    "fnr = lambda x: (0.0636 * x) - (1.440 * (1/(x**(2)))) - (0.710 * (1/(x**(1)))) + 0.88 # R = 4\n",
    "raiz_i, roots_i = newton(fnr, 2)\n",
    "\n",
    "q = rate(roots_i, fnr, 2)\n",
    "\n",
    "iter_array = np.arange(1.0, np.size(q) + 1)\n",
    "plt.figure()\n",
    "plt.plot(iter_array, q)\n",
    "plt.plot(iter_array, q, 'or')\n",
    "plt.xlabel('Iteración')\n",
    "plt.ylabel('Tasa de convergencia est.')\n",
    "plt.title('Método de Newton')\n",
    "plt.grid(True)\n",
    "\n",
    "print(f\"\"\"\n",
    "Tasa de convergencia para la última iteración método Newton: \n",
    "\n",
    "{q[-2:-1]}\n",
    "\"\"\")\n"
   ]
  },
  {
   "cell_type": "code",
   "execution_count": null,
   "metadata": {},
   "outputs": [],
   "source": []
  }
 ],
 "metadata": {
  "kernelspec": {
   "display_name": "Python 3",
   "language": "python",
   "name": "python3"
  },
  "language_info": {
   "codemirror_mode": {
    "name": "ipython",
    "version": 3
   },
   "file_extension": ".py",
   "mimetype": "text/x-python",
   "name": "python",
   "nbconvert_exporter": "python",
   "pygments_lexer": "ipython3",
   "version": "3.7.4"
  }
 },
 "nbformat": 4,
 "nbformat_minor": 4
}
