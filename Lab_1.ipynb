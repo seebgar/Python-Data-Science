{
 "cells": [
  {
   "cell_type": "markdown",
   "metadata": {},
   "source": [
    "# Laboratorio 1"
   ]
  },
  {
   "cell_type": "markdown",
   "metadata": {},
   "source": [
    "Sebastian Garcia 201630047\n",
    "\n",
    "$ jupyter nbconvert --to script"
   ]
  },
  {
   "cell_type": "markdown",
   "metadata": {},
   "source": [
    "### Ejercicio 1\n",
    " Escriba un programa que pregunte el radio de un círculo y calcule el área"
   ]
  },
  {
   "cell_type": "code",
   "execution_count": 1,
   "metadata": {},
   "outputs": [
    {
     "name": "stdout",
     "output_type": "stream",
     "text": [
      "Radio del circulo: 12\n",
      "Area del circulo: 452.39\n"
     ]
    }
   ],
   "source": [
    "from math import pi\n",
    "radio = float(input(\"Radio del circulo: \"))\n",
    "area = pi * radio ** 2\n",
    "print(f'Area del circulo: {area:0.2f}')"
   ]
  },
  {
   "cell_type": "markdown",
   "metadata": {},
   "source": [
    "### Ejercicio 2\n",
    "Escriba un programa que pregunte el nombre y apellido y los imprima en orden contrario"
   ]
  },
  {
   "cell_type": "code",
   "execution_count": 2,
   "metadata": {},
   "outputs": [
    {
     "name": "stdout",
     "output_type": "stream",
     "text": [
      "Nombre: Sebastian\n",
      "Apellido: Garcia\n",
      "Garcia Sebastian\n"
     ]
    }
   ],
   "source": [
    "nombre = input(\"Nombre: \")\n",
    "apellido = input(\"Apellido: \")\n",
    "print(f'{apellido} {nombre}')"
   ]
  },
  {
   "cell_type": "markdown",
   "metadata": {},
   "source": [
    "### Ejercicio 3\n",
    " Escriba un programa que pregunte un número n y calcule el valor de n+n*n+n*n*n."
   ]
  },
  {
   "cell_type": "code",
   "execution_count": 3,
   "metadata": {},
   "outputs": [
    {
     "name": "stdout",
     "output_type": "stream",
     "text": [
      "Numero: 45\n",
      "93195\n"
     ]
    }
   ],
   "source": [
    "n = int(input(\"Numero: \"))\n",
    "print(n+n*n+n*n*n)"
   ]
  },
  {
   "cell_type": "markdown",
   "metadata": {},
   "source": [
    "### Ejercicio 4\n",
    "  Escriba un programa que calcule el número de días entre dos fechas en formato AAAA-MM-DD"
   ]
  },
  {
   "cell_type": "code",
   "execution_count": 4,
   "metadata": {},
   "outputs": [
    {
     "name": "stdout",
     "output_type": "stream",
     "text": [
      "Fecha inicial en formato AAAA-MM-DD: 2020-07-02\n",
      "Fecha final en formato AAAA-MM-DD: 2020-08-12\n",
      "41 dias de diferencia\n"
     ]
    }
   ],
   "source": [
    "import datetime\n",
    "\n",
    "dia_i = input(\"Fecha inicial en formato AAAA-MM-DD: \")\n",
    "a, m, d = map(int, dia_i.split(\"-\"))\n",
    "date_i = datetime.date(a, m, d)\n",
    "\n",
    "dia_f = input(\"Fecha final en formato AAAA-MM-DD: \")\n",
    "af, mf, df = map(int, dia_f.split(\"-\"))\n",
    "date_f = datetime.date(af, mf, df)\n",
    "\n",
    "diff = date_f - date_i\n",
    "print(f\"{diff.days} dias de diferencia\")"
   ]
  },
  {
   "cell_type": "markdown",
   "metadata": {},
   "source": [
    "### Ejercicio 5\n",
    "   Escriba un programa que pregunte el radio de una esfera y calcule el volumen."
   ]
  },
  {
   "cell_type": "code",
   "execution_count": 5,
   "metadata": {},
   "outputs": [
    {
     "name": "stdout",
     "output_type": "stream",
     "text": [
      "Radio esfera: 10\n",
      "Volumen esfera: 4188.79\n"
     ]
    }
   ],
   "source": [
    "radio_esfera = float(input(\"Radio esfera: \"))\n",
    "volumen = (4/3) * pi * radio_esfera ** 3\n",
    "print(f\"Volumen esfera: {volumen:0.2f}\")"
   ]
  },
  {
   "cell_type": "markdown",
   "metadata": {},
   "source": [
    "### Ejercicio 6\n",
    "   Escriba un programa que calcule la diferencia entre un número n y 12. Si la diferencia es mayor que\n",
    "12 devuelva el valor absoluto de ésta al cuadrado"
   ]
  },
  {
   "cell_type": "code",
   "execution_count": 6,
   "metadata": {},
   "outputs": [
    {
     "name": "stdout",
     "output_type": "stream",
     "text": [
      "Numero n: 3\n",
      "-9\n"
     ]
    }
   ],
   "source": [
    "n_6 = int(input(\"Numero n: \"))\n",
    "diff_6 = n_6 - 12\n",
    "if(diff_6 > 12):\n",
    "    print(f\"{abs(diff_6)**2}\")\n",
    "else:\n",
    "    print(f\"{diff_6}\")"
   ]
  },
  {
   "cell_type": "markdown",
   "metadata": {},
   "source": [
    "### Ejercicio 7\n",
    "   Escriba un programa que verifique si un número es menor que 100 o está entre 100 y 1000 o entre\n",
    "1000 y 2000 o es mayor que 2000"
   ]
  },
  {
   "cell_type": "code",
   "execution_count": 7,
   "metadata": {},
   "outputs": [
    {
     "name": "stdout",
     "output_type": "stream",
     "text": [
      "Numero n: 345\n",
      "Es mayor que 100 pero menor a 1000\n"
     ]
    }
   ],
   "source": [
    "n_7 = int(input(\"Numero n: \"))\n",
    "if (n_7 < 100):\n",
    "    print(\"Es menor a 100\")\n",
    "elif (n_7 >= 100 and n_7 < 1000):\n",
    "    print(\"Es mayor que 100 pero menor a 1000\")\n",
    "elif (n_7 >= 1000 and n_7 < 2000):\n",
    "    print(\"Es mayor a 1000 pero menor a 2000\")\n",
    "else:\n",
    "    print(\"Es mayor a 2000\")"
   ]
  },
  {
   "cell_type": "markdown",
   "metadata": {},
   "source": [
    "### Ejercicio 8\n",
    "   Escriba un programa que verifique si un número es impar."
   ]
  },
  {
   "cell_type": "code",
   "execution_count": 8,
   "metadata": {},
   "outputs": [
    {
     "name": "stdout",
     "output_type": "stream",
     "text": [
      "Numero n: 67\n",
      "No es par\n"
     ]
    }
   ],
   "source": [
    "n_8 = int(input(\"Numero n: \"))\n",
    "if n_8 % 2 == 0:\n",
    "    print(\"Es par\")\n",
    "else:\n",
    "    print(\"No es par\")"
   ]
  },
  {
   "cell_type": "markdown",
   "metadata": {},
   "source": [
    "### Ejercicio 9\n",
    "  Escriba un programa que cuente el número de veces que se repite el número n en un arreglo."
   ]
  },
  {
   "cell_type": "code",
   "execution_count": 34,
   "metadata": {},
   "outputs": [
    {
     "name": "stdout",
     "output_type": "stream",
     "text": [
      "Numero n: 4\n",
      "Numero separados por coma ejemplo: 2,3,4\n",
      "2,3,4,5,6,7,6,5,4,3,2,3,4,5\n",
      "3 veces\n"
     ]
    }
   ],
   "source": [
    "n_9 = int(input(\"Numero n: \"))\n",
    "arreglo = [ int(x) for x in input(\"Numero separados por coma ejemplo: 2,3,4\\n\").split(\",\") ]\n",
    "contador = 0\n",
    "for x in arreglo:\n",
    "    if x is n_9:\n",
    "        contador = contador + 1\n",
    "print(f\"{contador} veces\")"
   ]
  },
  {
   "cell_type": "markdown",
   "metadata": {},
   "source": [
    "### Ejercicio 10\n",
    " . Escriba un programa que devuelva los últimos n caracteres de una cadena de caracteres"
   ]
  },
  {
   "cell_type": "code",
   "execution_count": 35,
   "metadata": {},
   "outputs": [
    {
     "name": "stdout",
     "output_type": "stream",
     "text": [
      "Cadena: una cadena de caracteres\n",
      "Ultimos n: 4\n",
      "eres\n"
     ]
    }
   ],
   "source": [
    "cadena = input(\"Cadena: \")\n",
    "n = int(input(\"Ultimos n: \"))\n",
    "print(f\"{cadena[-n:]}\")"
   ]
  },
  {
   "cell_type": "markdown",
   "metadata": {},
   "source": [
    "### Ejercicio 11\n",
    " Escriba un programa que calcule la suma de 3 número. Sin embargo, si los tres números son iguales\n",
    "el programa debe retornar cero."
   ]
  },
  {
   "cell_type": "code",
   "execution_count": 11,
   "metadata": {},
   "outputs": [
    {
     "name": "stdout",
     "output_type": "stream",
     "text": [
      "Primer numero: 3\n",
      "segundo numero: 5\n",
      "tercer numero: 8\n",
      "16\n"
     ]
    }
   ],
   "source": [
    "primero = int(input(\"Primer numero: \"))\n",
    "segundo = int(input(\"segundo numero: \"))\n",
    "tercer = int(input(\"tercer numero: \"))\n",
    "if primero == segundo and segundo == tercer:\n",
    "    print(0)\n",
    "else:\n",
    "    print(primero + segundo + tercer)"
   ]
  },
  {
   "cell_type": "markdown",
   "metadata": {},
   "source": [
    "### Ejercicio 12\n",
    "Escriba un programa que devuelva la suma de dos número. Sin embargo, si la suma está entre 15 y\n",
    "20 el programa debe devolver 20."
   ]
  },
  {
   "cell_type": "code",
   "execution_count": 12,
   "metadata": {},
   "outputs": [
    {
     "name": "stdout",
     "output_type": "stream",
     "text": [
      "Primer numero: 4\n",
      "segundo numero: 13\n",
      "20\n"
     ]
    }
   ],
   "source": [
    "primero = int(input(\"Primer numero: \"))\n",
    "segundo = int(input(\"segundo numero: \"))\n",
    "suma = primero + segundo\n",
    "if (suma <= 20 and suma >= 15):\n",
    "    print(20)\n",
    "else:\n",
    "    print(suma)"
   ]
  },
  {
   "cell_type": "markdown",
   "metadata": {},
   "source": [
    "### Ejercicio 13\n",
    "Escriba un programa que devuelva la siguiente operación entre dos números: (x + y) * (x + y)."
   ]
  },
  {
   "cell_type": "code",
   "execution_count": 13,
   "metadata": {},
   "outputs": [
    {
     "name": "stdout",
     "output_type": "stream",
     "text": [
      "x: 6\n",
      "y: 8\n",
      "196.00\n"
     ]
    }
   ],
   "source": [
    "x = float((input(\"x: \")))\n",
    "y = float((input(\"y: \")))\n",
    "res = (x+y) * (x+y)\n",
    "print(f\"{res:0.2f}\")"
   ]
  },
  {
   "cell_type": "markdown",
   "metadata": {},
   "source": [
    "### Ejercicio 14\n",
    " Escriba un programa que devuelva la distancia Euclidiana entre dos puntos x1, y1) y (x2, y2)."
   ]
  },
  {
   "cell_type": "code",
   "execution_count": 14,
   "metadata": {},
   "outputs": [
    {
     "name": "stdout",
     "output_type": "stream",
     "text": [
      "x1: 3\n",
      "y1: 7\n",
      "x2: 12\n",
      "y2: 67\n",
      "60.67\n"
     ]
    }
   ],
   "source": [
    "import math\n",
    "x1 = float((input(\"x1: \")))\n",
    "y1 = float((input(\"y1: \")))\n",
    "x2 = float((input(\"x2: \")))\n",
    "y2 = float((input(\"y2: \")))\n",
    "dist = math.sqrt(((x1-x2)**2)+((y1-y2)**2))\n",
    "print(f\"{dist:0.2f}\")"
   ]
  },
  {
   "cell_type": "markdown",
   "metadata": {},
   "source": [
    "### Ejercicio 15\n",
    "Escriba un programa que convierte un número de segundos en días, horas, minutos y segundos."
   ]
  },
  {
   "cell_type": "code",
   "execution_count": 15,
   "metadata": {},
   "outputs": [
    {
     "name": "stdout",
     "output_type": "stream",
     "text": [
      "Segundos: 202020\n",
      "Dias: 2.0\n",
      "Horas: 56.0\n",
      "Minutos: 3367.0\n",
      "Segundos: 202020.0\n"
     ]
    }
   ],
   "source": [
    "segs = float(input(\"Segundos: \"))\n",
    "day = segs // (24 * 3600)\n",
    "time = segs % (24 * 3600)\n",
    "hour = segs // 3600\n",
    "minutes = segs // 60\n",
    "print(f\"Dias: {day:0.1f}\\nHoras: {hour:0.1f}\\nMinutos: {minutes:0.1f}\\nSegundos: {segs:0.1f}\")"
   ]
  },
  {
   "cell_type": "markdown",
   "metadata": {},
   "source": [
    "### Ejercicio 16\n",
    " Escriba un programa que imprima todos los números primos desde 1 hasta n."
   ]
  },
  {
   "cell_type": "code",
   "execution_count": 16,
   "metadata": {},
   "outputs": [
    {
     "name": "stdout",
     "output_type": "stream",
     "text": [
      "Numero n: 20\n",
      "2\n",
      "3\n",
      "5\n",
      "7\n",
      "11\n",
      "13\n",
      "17\n",
      "19\n"
     ]
    }
   ],
   "source": [
    "n = int(input(\"Numero n: \"))\n",
    "for num in range(1,n):\n",
    "    if num > 1:\n",
    "        if all(num%i!=0 for i in range(2,num)):\n",
    "           print (num)"
   ]
  },
  {
   "cell_type": "markdown",
   "metadata": {},
   "source": [
    "### Ejercicio 17\n",
    "Suma de los numero enteros positivos desde 1 hasta n"
   ]
  },
  {
   "cell_type": "code",
   "execution_count": 17,
   "metadata": {},
   "outputs": [
    {
     "name": "stdout",
     "output_type": "stream",
     "text": [
      "Numero n: 20\n",
      "210\n"
     ]
    }
   ],
   "source": [
    "n = int(input(\"Numero n: \"))\n",
    "suma = 0\n",
    "# desde 1 hasta n incluido\n",
    "for x in range(1, n + 1):\n",
    "    suma += x\n",
    "print(suma)"
   ]
  },
  {
   "cell_type": "markdown",
   "metadata": {},
   "source": [
    "### Ejercicio 18\n",
    "Máximo en un arreglo de numeros"
   ]
  },
  {
   "cell_type": "code",
   "execution_count": 18,
   "metadata": {},
   "outputs": [
    {
     "name": "stdout",
     "output_type": "stream",
     "text": [
      "Numero separados por coma ejemplo: 2,3,4\n",
      "2,5,6,34,5,4,3,4,5,54,2,33,53,23\n",
      "54\n"
     ]
    }
   ],
   "source": [
    "arr = [ int(x) for x in input(\"Numero separados por coma ejemplo: 2,3,4\\n\").split(\",\") ]\n",
    "\n",
    "max = 0\n",
    "for x in arr:\n",
    "    if x > max:\n",
    "        max = x\n",
    "print(max)"
   ]
  },
  {
   "cell_type": "markdown",
   "metadata": {},
   "source": [
    "### Ejercicio 19\n",
    "Mínimo en un arreglo de numeros"
   ]
  },
  {
   "cell_type": "code",
   "execution_count": 19,
   "metadata": {},
   "outputs": [
    {
     "name": "stdout",
     "output_type": "stream",
     "text": [
      "Numero separados por coma ejemplo: 2,3,4\n",
      "2,5,6,34,5,4,3,4,5,54,2,33,53,23\n",
      "2\n"
     ]
    }
   ],
   "source": [
    "arr = [ int(x) for x in input(\"Numero separados por coma ejemplo: 2,3,4\\n\").split(\",\") ]\n",
    "\n",
    "min = float('inf')\n",
    "for x in arr:\n",
    "    if x < min:\n",
    "        min = x\n",
    "print(min)"
   ]
  },
  {
   "cell_type": "markdown",
   "metadata": {},
   "source": [
    "### Ejercicio 20\n",
    "Promedio en un arreglo de numeros"
   ]
  },
  {
   "cell_type": "code",
   "execution_count": 20,
   "metadata": {},
   "outputs": [
    {
     "name": "stdout",
     "output_type": "stream",
     "text": [
      "Numero separados por coma ejemplo: 2,3,4\n",
      "2,5,6,34,5,4,3,4,5,54,2,33,53,23\n",
      "16.642857142857142\n"
     ]
    }
   ],
   "source": [
    "arr = [ int(x) for x in input(\"Numero separados por coma ejemplo: 2,3,4\\n\").split(\",\") ]\n",
    "\n",
    "suma = 0\n",
    "for x in arr:\n",
    "    suma += x\n",
    "promedio = suma / len(arr)\n",
    "print(promedio)"
   ]
  },
  {
   "cell_type": "markdown",
   "metadata": {},
   "source": [
    "### Ejercicio 21\n",
    "Desviacion estandar en un arreglo de numeros"
   ]
  },
  {
   "cell_type": "code",
   "execution_count": 21,
   "metadata": {},
   "outputs": [
    {
     "name": "stdout",
     "output_type": "stream",
     "text": [
      "Numero separados por coma ejemplo: 2,3,4\n",
      "2,5,6,34,5,4,3,4,5,54,2,33,53,23\n",
      "18.48\n"
     ]
    }
   ],
   "source": [
    "arr = [ int(x) for x in input(\"Numero separados por coma ejemplo: 2,3,4\\n\").split(\",\") ]\n",
    "\n",
    "suma = 0\n",
    "for x in arr:\n",
    "    suma += x\n",
    "promedio = suma / len(arr)\n",
    "\n",
    "varianza = 0\n",
    "for x in arr:\n",
    "    varianza += (x-promedio) ** 2\n",
    "varianza = varianza / len(arr)\n",
    "\n",
    "estd = varianza ** 0.5\n",
    "print(f\"{estd:0.2f}\")"
   ]
  },
  {
   "cell_type": "markdown",
   "metadata": {},
   "source": [
    "### Ejercicio 22\n",
    "Mediana en un arreglo de numeros"
   ]
  },
  {
   "cell_type": "code",
   "execution_count": 22,
   "metadata": {},
   "outputs": [
    {
     "name": "stdout",
     "output_type": "stream",
     "text": [
      "Numero separados por coma ejemplo: 2,3,4\n",
      "2,5,6,34,5,4,3,4,5,54,2,33,53,23\n",
      "28.0\n"
     ]
    }
   ],
   "source": [
    "arr = [ int(x) for x in input(\"Numero separados por coma ejemplo: 2,3,4\\n\").split(\",\") ]\n",
    "N = len(arr) \n",
    "\n",
    "if N % 2 == 0: \n",
    "    m_1 = arr[n//2] \n",
    "    m_2 = arr[n//2 - 1] \n",
    "    mediana = (m_1 + m_2)/2\n",
    "else: \n",
    "    mediana = arr[n//2] \n",
    "print(mediana) "
   ]
  },
  {
   "cell_type": "markdown",
   "metadata": {},
   "source": [
    "### Ejercicio 23\n",
    "Moda en un arreglo de numeros"
   ]
  },
  {
   "cell_type": "code",
   "execution_count": 23,
   "metadata": {},
   "outputs": [
    {
     "name": "stdout",
     "output_type": "stream",
     "text": [
      "Numero separados por coma ejemplo: 2,3,4\n",
      "2,5,6,34,5,4,3,4,5,54,2,33,53,23\n",
      "5\n"
     ]
    }
   ],
   "source": [
    "arr = [ int(x) for x in input(\"Numero separados por coma ejemplo: 2,3,4\\n\").split(\",\") ]\n",
    "\n",
    "mapa = {}\n",
    "for x in arr:\n",
    "    mapa[x] = 0\n",
    "for x in arr:\n",
    "    mapa[x] = mapa[x] + 1\n",
    "    \n",
    "max = 0\n",
    "valor = 0\n",
    "for x in mapa:\n",
    "    if mapa[x] > max:\n",
    "        max = mapa[x]\n",
    "        valor = x\n",
    "        \n",
    "print(valor)"
   ]
  },
  {
   "cell_type": "markdown",
   "metadata": {},
   "source": [
    "### Ejercicio 24\n",
    "Ordene de mayor a menor"
   ]
  },
  {
   "cell_type": "code",
   "execution_count": 24,
   "metadata": {},
   "outputs": [
    {
     "name": "stdout",
     "output_type": "stream",
     "text": [
      "Numero separados por coma ejemplo: 2,3,4\n",
      "2,5,6,34,5,4,3,4,5,54,2,33,53,23\n",
      "[2, 2, 3, 4, 4, 5, 5, 5, 6, 23, 33, 34, 53, 54]\n"
     ]
    }
   ],
   "source": [
    "from random import randint\n",
    "\n",
    "arr = [ int(x) for x in input(\"Numero separados por coma ejemplo: 2,3,4\\n\").split(\",\") ]\n",
    "\n",
    "# tomado de\n",
    "# Goodrich, M. 2013. Data structures and algorithms in Python.\n",
    "def quicksort(array):\n",
    "    if len(array) < 2:\n",
    "        return array\n",
    "    low, same, high = [], [], []\n",
    "    pivot = array[randint(0, len(array) - 1)]\n",
    "    for item in array:\n",
    "        if item < pivot:\n",
    "            low.append(item)\n",
    "        elif item == pivot:\n",
    "            same.append(item)\n",
    "        elif item > pivot:\n",
    "            high.append(item)\n",
    "    return quicksort(low) + same + quicksort(high)\n",
    "\n",
    "print(quicksort(arr))"
   ]
  },
  {
   "cell_type": "markdown",
   "metadata": {},
   "source": [
    "### Ejercicio 25\n",
    "Numero de elemtos en un arreglo ultiplos de 7"
   ]
  },
  {
   "cell_type": "code",
   "execution_count": 25,
   "metadata": {},
   "outputs": [
    {
     "name": "stdout",
     "output_type": "stream",
     "text": [
      "Numero separados por coma ejemplo: 2,3,4\n",
      "2,5,6,34,5,4,3,4,5,54,2,33,53,23\n",
      "0\n"
     ]
    }
   ],
   "source": [
    "arr = [ int(x) for x in input(\"Numero separados por coma ejemplo: 2,3,4\\n\").split(\",\") ]\n",
    "\n",
    "total = 0\n",
    "for x in arr:\n",
    "    if x % 7 == 0:\n",
    "        total += 1\n",
    "print(total)"
   ]
  },
  {
   "cell_type": "markdown",
   "metadata": {},
   "source": [
    "### Ejercicio 26\n",
    "Asigne todos los elementos de una matriz NxM con unvalor n"
   ]
  },
  {
   "cell_type": "code",
   "execution_count": 26,
   "metadata": {},
   "outputs": [
    {
     "name": "stdout",
     "output_type": "stream",
     "text": [
      "filas N: 2\n",
      "columnas M: 3\n",
      "valor n: 1\n",
      "[[1, 1, 1], [1, 1, 1]]\n"
     ]
    }
   ],
   "source": [
    "N = int(input(\"filas N: \"))\n",
    "M = int(input(\"columnas M: \"))\n",
    "n = int(input(\"valor n: \"))\n",
    "arr = [[n for x in range(M)] for y in range(N)]\n",
    "\n",
    "print(arr)"
   ]
  },
  {
   "cell_type": "markdown",
   "metadata": {},
   "source": [
    "### Ejercicio 27\n",
    "Suma de los elementos de la diagonal de una matriz cuadrada"
   ]
  },
  {
   "cell_type": "code",
   "execution_count": 27,
   "metadata": {},
   "outputs": [
    {
     "name": "stdout",
     "output_type": "stream",
     "text": [
      "filas N: 3\n",
      "Valor posicion 0,0: 1\n",
      "Valor posicion 1,0: 2\n",
      "Valor posicion 2,0: 3\n",
      "Valor posicion 0,1: 4\n",
      "Valor posicion 1,1: 5\n",
      "Valor posicion 2,1: 6\n",
      "Valor posicion 0,2: 7\n",
      "Valor posicion 1,2: 8\n",
      "Valor posicion 2,2: 9\n",
      "15\n"
     ]
    }
   ],
   "source": [
    "N = int(input(\"filas N: \"))\n",
    "arr = [[int(input(f\"Valor posicion {x},{y}: \")) for x in range(N)] for y in range(N)]\n",
    "\n",
    "suma = 0\n",
    "for i in range(N):\n",
    "    for j in range(N):\n",
    "        if i == j:\n",
    "            suma += arr[i][j]\n",
    "print(suma)"
   ]
  },
  {
   "cell_type": "markdown",
   "metadata": {},
   "source": [
    "### Ejercicio 28\n",
    "Suma de los elementos de la diagonal secundaria"
   ]
  },
  {
   "cell_type": "code",
   "execution_count": 43,
   "metadata": {},
   "outputs": [
    {
     "name": "stdout",
     "output_type": "stream",
     "text": [
      "filas N: 2\n",
      "Valor posicion 0,0: 1\n",
      "Valor posicion 1,0: 2\n",
      "Valor posicion 0,1: 3\n",
      "Valor posicion 1,1: 4\n",
      "1, 1\n",
      "1, 0\n",
      "0, 1\n",
      "0, 0\n",
      "5\n"
     ]
    }
   ],
   "source": [
    "N = int(input(\"filas N: \"))\n",
    "arr = [[int(input(f\"Valor posicion {x},{y}: \")) for x in range(N)] for y in range(N)]\n",
    "\n",
    "suma = 0\n",
    "for i in range(N-1, -1, -1):\n",
    "    for j in range(N-1, -1, -1):\n",
    "        if i == j:\n",
    "            suma += arr[i][j]\n",
    "print(suma)"
   ]
  },
  {
   "cell_type": "markdown",
   "metadata": {},
   "source": [
    "### Ejercicio 29\n",
    "Matriz resultante de la suma de dos cuadradas"
   ]
  },
  {
   "cell_type": "code",
   "execution_count": 33,
   "metadata": {},
   "outputs": [
    {
     "name": "stdout",
     "output_type": "stream",
     "text": [
      "filas N: 2\n",
      "Primera matriz\n",
      "Valor posicion 0,0: 1\n",
      "Valor posicion 1,0: 2\n",
      "Valor posicion 0,1: 3\n",
      "Valor posicion 1,1: 4\n",
      "Segunda matriz\n",
      "Valor posicion 0,0: 1\n",
      "Valor posicion 1,0: 2\n",
      "Valor posicion 0,1: 3\n",
      "Valor posicion 1,1: 4\n",
      "[[2, 4], [6, 8]]\n"
     ]
    }
   ],
   "source": [
    "N = int(input(\"filas N: \"))\n",
    "\n",
    "print(\"Primera matriz\")\n",
    "arr = [[int(input(f\"Valor posicion {x},{y}: \")) for x in range(N)] for y in range(N)]\n",
    "print(\"Segunda matriz\")\n",
    "arr_ = [[int(input(f\"Valor posicion {x},{y}: \")) for x in range(N)] for y in range(N)]\n",
    "\n",
    "arr_sumas = [[arr[i][j] + arr_[i][j]  for j in range(len(arr[0]))] for i in range(len(arr))] \n",
    "\n",
    "print(arr_sumas)"
   ]
  },
  {
   "cell_type": "markdown",
   "metadata": {},
   "source": [
    "### Ejercicio 30\n",
    "Matriz transpuesta de una matriz dada"
   ]
  },
  {
   "cell_type": "code",
   "execution_count": 1,
   "metadata": {},
   "outputs": [
    {
     "name": "stdout",
     "output_type": "stream",
     "text": [
      "filas N: 2\n",
      "columnas M: 3\n",
      "valor n: 1\n",
      "Valor posicion 0,0: 1\n",
      "Valor posicion 1,0: 1\n",
      "Valor posicion 2,0: 1\n",
      "Valor posicion 0,1: 1\n",
      "Valor posicion 1,1: 1\n",
      "Valor posicion 2,1: 1\n",
      "Original:\n",
      "[[1, 1, 1], [1, 1, 1]]\n",
      "Transpuesta\n",
      "[[1, 1], [1, 1], [1, 1]]\n"
     ]
    }
   ],
   "source": [
    "N = int(input(\"filas N: \"))\n",
    "M = int(input(\"columnas M: \"))\n",
    "arr = [[int(input(f\"Valor posicion {x},{y}: \")) for x in range(M)] for y in range(N)]\n",
    "arr_trans = [[arr[j][i] for j in range(len(arr))] for i in range(len(arr[0]))] \n",
    "\n",
    "print(\"Original:\")\n",
    "print(arr)\n",
    "print(\"Transpuesta\")\n",
    "print(arr_trans)"
   ]
  }
 ],
 "metadata": {
  "kernelspec": {
   "display_name": "Python 3",
   "language": "python",
   "name": "python3"
  },
  "language_info": {
   "codemirror_mode": {
    "name": "ipython",
    "version": 3
   },
   "file_extension": ".py",
   "mimetype": "text/x-python",
   "name": "python",
   "nbconvert_exporter": "python",
   "pygments_lexer": "ipython3",
   "version": "3.7.4"
  }
 },
 "nbformat": 4,
 "nbformat_minor": 4
}
