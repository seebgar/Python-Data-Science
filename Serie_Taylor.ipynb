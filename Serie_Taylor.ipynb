{
 "cells": [
  {
   "cell_type": "markdown",
   "metadata": {},
   "source": [
    "# Series de taylor"
   ]
  },
  {
   "cell_type": "markdown",
   "metadata": {},
   "source": [
    "Calculo de la suma de derivadas de las funciones"
   ]
  },
  {
   "cell_type": "code",
   "execution_count": 1,
   "metadata": {},
   "outputs": [
    {
     "name": "stdout",
     "output_type": "stream",
     "text": [
      "10.381236562731843\n",
      "10.381236562730605\n"
     ]
    }
   ],
   "source": [
    "import math\n",
    "import numpy as np\n",
    "\n",
    "def miexprec(x, N):\n",
    "    # condicion de parada\n",
    "    if N == 0: return 1\n",
    "    return (( x ** N) / factorial(N)) + miexprec(x, N-1)\n",
    "        \n",
    "def factorial(n):\n",
    "    if n < 0: return 0\n",
    "    if n == 0: return 1\n",
    "    return n * factorial(n-1)\n",
    "\n",
    "x = 2.34\n",
    "print(math.exp(x))\n",
    "print(miexprec(x, 20))"
   ]
  },
  {
   "cell_type": "code",
   "execution_count": 2,
   "metadata": {},
   "outputs": [
    {
     "name": "stdout",
     "output_type": "stream",
     "text": [
      "0.7184549238687695\n",
      "0.6443820614840369\n"
     ]
    }
   ],
   "source": [
    "# N = 5, 15, 35, 50, 100\n",
    "## sin: para 5 => 0.7184549238687695\n",
    "\n",
    "def seno(x, N):\n",
    "    # condicion de parada\n",
    "    if N == 0: return x\n",
    "    return (((-1.0) ** N) / (factorial(2.0 * N + 1.0))) * ( x ** (2.0 * N + 1.0) ) + seno(x, N-1)\n",
    "\n",
    "print(seno(x, 5))\n",
    "\n",
    "## cos\n",
    "\n",
    "def coseno(x, N):\n",
    "    # condicion de parada\n",
    "    if N == 0: return x\n",
    "    return (((-1.0) ** N) / (factorial(2.0 * N ))) * ( x ** (2.0 * N ) ) + coseno(x, N-1)\n",
    "\n",
    "print(coseno(x, 5))\n"
   ]
  },
  {
   "cell_type": "code",
   "execution_count": 3,
   "metadata": {},
   "outputs": [
    {
     "name": "stdout",
     "output_type": "stream",
     "text": [
      "\n",
      "    N: 5\n",
      "    Valor obtenido: 0.7184549238687695 \n",
      "    Valor real: -0.9589242746631385\n",
      "    Error porcentual: 1.7492300933993525\n",
      "            \n",
      "\n",
      "    N: 7\n",
      "    Valor obtenido: 0.7184647878369467 \n",
      "    Valor real: 0.6569865987187891\n",
      "    Error porcentual: -0.09357601698124167\n",
      "            \n",
      "\n",
      "    N: 9\n",
      "    Valor obtenido: 0.7184647930680285 \n",
      "    Valor real: 0.4121184852417566\n",
      "    Error porcentual: -0.743345224241915\n",
      "            \n",
      "\n",
      "    N: 12\n",
      "    Valor obtenido: 0.7184647930691263 \n",
      "    Valor real: -0.5365729180004349\n",
      "    Error porcentual: 2.3389881765679124\n",
      "            \n",
      "\n",
      "    N: 15\n",
      "    Valor obtenido: 0.7184647930691263 \n",
      "    Valor real: 0.6502878401571169\n",
      "    Error porcentual: -0.10484119293317401\n",
      "            \n"
     ]
    }
   ],
   "source": [
    "##  N = 5, 7, 9, 12, 15\n",
    "## hallar el error porcentual :: (valor real - obtenido)/ valor real\n",
    "\n",
    "for n in [5, 7, 9, 12, 15]:\n",
    "    valor_obtenido = seno(x, n)\n",
    "    valor_real = math.sin(n)\n",
    "    error_porcentual = (valor_real - valor_obtenido) / valor_real\n",
    "    print(f\"\"\"\n",
    "    N: {n}\n",
    "    Valor obtenido: {valor_obtenido} \n",
    "    Valor real: {valor_real}\n",
    "    Error porcentual: {error_porcentual}\n",
    "            \"\"\")"
   ]
  },
  {
   "cell_type": "code",
   "execution_count": 4,
   "metadata": {},
   "outputs": [
    {
     "name": "stdout",
     "output_type": "stream",
     "text": [
      "\n",
      "    N: 7\n",
      "    Valor obtenido: 0.7184647878369467 \n",
      "    Valor real: 0.6569865987187891\n",
      "    Error porcentual: -0.09357601698124167\n",
      "            \n",
      "\n",
      "    N: 9\n",
      "    Valor obtenido: 0.7184647930680285 \n",
      "    Valor real: 0.4121184852417566\n",
      "    Error porcentual: -0.743345224241915\n",
      "            \n",
      "\n",
      "    N: 15\n",
      "    Valor obtenido: 0.7184647930691263 \n",
      "    Valor real: 0.6502878401571169\n",
      "    Error porcentual: -0.10484119293317401\n",
      "            \n"
     ]
    }
   ],
   "source": [
    "## a partir de que valor de n el error absoluto es menor al 1%\n",
    "\n",
    "for n in [5, 7, 9, 12, 15]:\n",
    "    valor_obtenido = seno(x, n)\n",
    "    valor_real = math.sin(n)\n",
    "    error_porcentual = (valor_real - valor_obtenido) / valor_real\n",
    "    if error_porcentual < 1:\n",
    "        print(f\"\"\"\n",
    "    N: {n}\n",
    "    Valor obtenido: {valor_obtenido} \n",
    "    Valor real: {valor_real}\n",
    "    Error porcentual: {error_porcentual}\n",
    "            \"\"\")"
   ]
  },
  {
   "cell_type": "code",
   "execution_count": 7,
   "metadata": {},
   "outputs": [
    {
     "name": "stdout",
     "output_type": "stream",
     "text": [
      "Para exponente:\n",
      "\n",
      "    N: 1\n",
      "    Valor obtenido: 3.34 \n",
      "    Valor real: 2.718281828459045\n",
      "    Error porcentual: -0.22871733351261736\n",
      "            \n",
      "Para seno:\n",
      "\n",
      "    N: 3\n",
      "    Valor obtenido: 0.7129467875245784 \n",
      "    Valor real: 0.1411200080598672\n",
      "    Error porcentual: -4.052060280652235\n",
      "            \n",
      "Para coseno:\n",
      "\n",
      "    N: 5\n",
      "    Valor obtenido: 0.6443820614840369 \n",
      "    Valor real: 0.2836621854632263\n",
      "    Error porcentual: -1.2716530242892525\n",
      "            \n"
     ]
    }
   ],
   "source": [
    "\n",
    "## valor de N para el cual el error relativo es menor a 1% y menor a 0.01%\n",
    "\n",
    "print(\"Para exponente:\")\n",
    "n = 1\n",
    "while True:\n",
    "    valor_obtenido = miexprec(x, n)\n",
    "    valor_real = math.exp(n)\n",
    "    error_porcentual = (valor_real - valor_obtenido) / valor_real\n",
    "    if error_porcentual < 0.01:\n",
    "        print(f\"\"\"\n",
    "    N: {n}\n",
    "    Valor obtenido: {valor_obtenido} \n",
    "    Valor real: {valor_real}\n",
    "    Error porcentual: {error_porcentual}\n",
    "            \"\"\")\n",
    "        break\n",
    "    n += 1\n",
    "\n",
    "print(\"Para seno:\")\n",
    "n = 1\n",
    "while True:\n",
    "    valor_obtenido = seno(x, n)\n",
    "    valor_real = math.sin(n)\n",
    "    error_porcentual = (valor_real - valor_obtenido) / valor_real\n",
    "    if error_porcentual < 0.01:\n",
    "        print(f\"\"\"\n",
    "    N: {n}\n",
    "    Valor obtenido: {valor_obtenido} \n",
    "    Valor real: {valor_real}\n",
    "    Error porcentual: {error_porcentual}\n",
    "            \"\"\")\n",
    "        break\n",
    "    n += 1\n",
    "    \n",
    "print(\"Para coseno:\")\n",
    "n = 1\n",
    "while True:\n",
    "    valor_obtenido = coseno(x, n)\n",
    "    valor_real = math.cos(n)\n",
    "    error_porcentual = (valor_real - valor_obtenido) / valor_real\n",
    "    if error_porcentual < 0.01:\n",
    "        print(f\"\"\"\n",
    "    N: {n}\n",
    "    Valor obtenido: {valor_obtenido} \n",
    "    Valor real: {valor_real}\n",
    "    Error porcentual: {error_porcentual}\n",
    "            \"\"\")\n",
    "        break\n",
    "    n += 1"
   ]
  },
  {
   "cell_type": "code",
   "execution_count": null,
   "metadata": {},
   "outputs": [],
   "source": []
  }
 ],
 "metadata": {
  "kernelspec": {
   "display_name": "Python 3",
   "language": "python",
   "name": "python3"
  },
  "language_info": {
   "codemirror_mode": {
    "name": "ipython",
    "version": 3
   },
   "file_extension": ".py",
   "mimetype": "text/x-python",
   "name": "python",
   "nbconvert_exporter": "python",
   "pygments_lexer": "ipython3",
   "version": "3.7.4"
  }
 },
 "nbformat": 4,
 "nbformat_minor": 4
}
