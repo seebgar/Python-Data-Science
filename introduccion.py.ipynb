{
 "cells": [
  {
   "cell_type": "markdown",
   "metadata": {},
   "source": [
    "## Introducción\n",
    "\n",
    "Sebastian Garcia 201630047\n",
    "\n",
    "$ jupyter nbconvert --to script"
   ]
  },
  {
   "cell_type": "markdown",
   "metadata": {},
   "source": [
    "### Ejercicio 2"
   ]
  },
  {
   "cell_type": "code",
   "execution_count": 11,
   "metadata": {},
   "outputs": [
    {
     "name": "stdout",
     "output_type": "stream",
     "text": [
      "9\n"
     ]
    }
   ],
   "source": [
    "A = 5\n",
    "B = 4\n",
    "C = A + B\n",
    "print(C)"
   ]
  },
  {
   "cell_type": "code",
   "execution_count": 12,
   "metadata": {},
   "outputs": [
    {
     "name": "stdout",
     "output_type": "stream",
     "text": [
      "25\n"
     ]
    }
   ],
   "source": [
    "D = A ** 2\n",
    "print(D)"
   ]
  },
  {
   "cell_type": "code",
   "execution_count": 13,
   "metadata": {},
   "outputs": [
    {
     "name": "stdout",
     "output_type": "stream",
     "text": [
      "1.25 1 1\n"
     ]
    }
   ],
   "source": [
    "F = A / B # division\n",
    "G = A // B # parte entera\n",
    "H = A % B # modulo\n",
    "print(F, G, H)"
   ]
  },
  {
   "cell_type": "code",
   "execution_count": 14,
   "metadata": {},
   "outputs": [
    {
     "name": "stdout",
     "output_type": "stream",
     "text": [
      "3\n"
     ]
    }
   ],
   "source": [
    "mod = -5 % 4 \n",
    "print(mod)"
   ]
  },
  {
   "cell_type": "markdown",
   "metadata": {},
   "source": [
    "### Ejercicio 3"
   ]
  },
  {
   "cell_type": "code",
   "execution_count": 17,
   "metadata": {},
   "outputs": [
    {
     "name": "stdout",
     "output_type": "stream",
     "text": [
      "Programación\n",
      "12\n"
     ]
    }
   ],
   "source": [
    "hello = \"Programación\"\n",
    "world = \"Cientifica\"\n",
    "print(hello)\n",
    "print(len(hello))"
   ]
  },
  {
   "cell_type": "code",
   "execution_count": 18,
   "metadata": {},
   "outputs": [
    {
     "name": "stdout",
     "output_type": "stream",
     "text": [
      "Programación Cientifica\n"
     ]
    }
   ],
   "source": [
    "hw = hello + ' ' + world\n",
    "print(hw)"
   ]
  },
  {
   "cell_type": "code",
   "execution_count": 27,
   "metadata": {},
   "outputs": [
    {
     "name": "stdout",
     "output_type": "stream",
     "text": [
      "UNIANDES\n",
      "Uniandes\n",
      "  uniandes\n",
      "   uniandes   \n",
      "usiasdes\n",
      "\n",
      "uniandes\n",
      "Uni\\nandes\n",
      "Uni\n",
      "andes\n",
      "UniUniUniandes\n",
      "a\n",
      "uni\n",
      "ndes\n",
      "nian\n"
     ]
    }
   ],
   "source": [
    "s = \"uniandes\"\n",
    "\n",
    "print(s.upper())\n",
    "print(s.capitalize())\n",
    "\n",
    "print(s.rjust(10))\n",
    "print(s.center(14))\n",
    "print(s.replace('n', 's'))\n",
    "\n",
    "print(f'\\n{s}')\n",
    "print(r'Uni\\nandes')\n",
    "print('Uni\\nandes')\n",
    "\n",
    "print(3 * 'Uni' + 'andes')\n",
    "\n",
    "print(s[3])\n",
    "print(s[0:3])\n",
    "print(s[4:])\n",
    "print(s[1:-3])"
   ]
  },
  {
   "cell_type": "markdown",
   "metadata": {},
   "source": [
    "### Ejercicio 4"
   ]
  },
  {
   "cell_type": "code",
   "execution_count": 30,
   "metadata": {},
   "outputs": [
    {
     "name": "stdout",
     "output_type": "stream",
     "text": [
      "El número PI, es aproximadamente 3.1416\n",
      "El número PI, es aproximadamente 3.1416\n",
      "El número PI, es aproximadamente 3.1416\n",
      "El número PI, es aproximadamente 3.1416\n"
     ]
    }
   ],
   "source": [
    "print(\"El número {}, es aproximadamente {}\".format('PI', 3.1416))\n",
    "\n",
    "print(\"El número {0}, es aproximadamente {1}\".format('PI', 3.1416))\n",
    "\n",
    "print(\"El número {num}, es aproximadamente {val}\".format(num='PI', val=3.1416))\n",
    "\n",
    "print(\"El número {0}, es aproximadamente {val}\".format('PI', val=3.1416))"
   ]
  },
  {
   "cell_type": "markdown",
   "metadata": {},
   "source": [
    "### Ejercicio 5"
   ]
  },
  {
   "cell_type": "code",
   "execution_count": 32,
   "metadata": {},
   "outputs": [
    {
     "name": "stdout",
     "output_type": "stream",
     "text": [
      "Hay 8 planetas en el sistema solar.\n",
      "9.81 (m/s2) es el valor de la aceleración gravitacional en la tierra.\n",
      "bin: 1111, oct: 17, hex: F\n"
     ]
    }
   ],
   "source": [
    "print(\"Hay {:d} planetas en el sistema solar.\".format(8))\n",
    "\n",
    "print(\"{:.2f} (m/s2) es el valor de la aceleración gravitacional en la tierra.\".format(9.80665))\n",
    "\n",
    "print(\"bin: {0:b}, oct: {0:o}, hex: {0:X}\".format(15))"
   ]
  },
  {
   "cell_type": "markdown",
   "metadata": {},
   "source": [
    "### Ejercicio 6"
   ]
  },
  {
   "cell_type": "code",
   "execution_count": 37,
   "metadata": {},
   "outputs": [
    {
     "name": "stdout",
     "output_type": "stream",
     "text": [
      "  18\n",
      "2290\n",
      "  12.121\n",
      "00024\n",
      "0012.231\n"
     ]
    }
   ],
   "source": [
    "print(\"{:4}\".format(18))\n",
    "\n",
    "print(\"{:2d}\".format(2290))\n",
    "\n",
    "print(\"{:8.3f}\".format(12.121212))\n",
    "\n",
    "print(\"{:05d}\".format(24))\n",
    "\n",
    "print(\"{:08.3f}\".format(12.231243))"
   ]
  },
  {
   "cell_type": "markdown",
   "metadata": {},
   "source": [
    "### Ejercicio 7"
   ]
  },
  {
   "cell_type": "code",
   "execution_count": 38,
   "metadata": {},
   "outputs": [
    {
     "name": "stdout",
     "output_type": "stream",
     "text": [
      "   -8.35\n",
      " -8.35  \n",
      "-8.35   \n",
      "   -8.35\n",
      "-   8.35\n"
     ]
    }
   ],
   "source": [
    "print(\"{:8.2f}\".format(-8.349))\n",
    "print(\"{:^8.2f}\".format(-8.349))\n",
    "print(\"{:<8.2f}\".format(-8.349))\n",
    "print(\"{:>8.2f}\".format(-8.349))\n",
    "print(\"{:=8.2f}\".format(-8.349))"
   ]
  },
  {
   "cell_type": "code",
   "execution_count": 40,
   "metadata": {},
   "outputs": [
    {
     "name": "stdout",
     "output_type": "stream",
     "text": [
      "Uniandes  \n",
      " Uniandes \n",
      "Uniandes  \n",
      "  Uniandes\n",
      "*Uniandes*\n"
     ]
    }
   ],
   "source": [
    "print(\"{:10}\".format(\"Uniandes\"))\n",
    "print(\"{:^10}\".format(\"Uniandes\"))\n",
    "print(\"{:<10}\".format(\"Uniandes\"))\n",
    "print(\"{:>10}\".format(\"Uniandes\"))\n",
    "print(\"{:*^10}\".format(\"Uniandes\"))"
   ]
  },
  {
   "cell_type": "markdown",
   "metadata": {},
   "source": [
    "### Ejercicio 8"
   ]
  },
  {
   "cell_type": "code",
   "execution_count": 42,
   "metadata": {},
   "outputs": [
    {
     "name": "stdout",
     "output_type": "stream",
     "text": [
      "Uniandes\n",
      "5\n",
      "[3, 5, 8] \n",
      "\n",
      "['Uniandes', 12, 3, 5, 8, 'Programacion']\n",
      "['Uniandes', 12, 3, 8, 'Programacion']\n",
      "['a', 'b', 'c', 'd', 'e', 'f', 'g']\n",
      "['a', 'b', 'C', 'D', 'E', 'f', 'g']\n",
      "['a', 'b', 'f', 'g']\n",
      "[['Uniandes', 12, 3, 8, 'Programacion'], ['a', 'b', 'f', 'g']]\n"
     ]
    }
   ],
   "source": [
    "lista = [\"Uniandes\", 12, 3, 5, 8]\n",
    "\n",
    "print(lista[0])\n",
    "print(lista[-2])\n",
    "print(lista[2:], '\\n')\n",
    "\n",
    "lista.append(\"Programacion\")\n",
    "print(lista)\n",
    "\n",
    "del lista[3]\n",
    "print(lista)\n",
    "\n",
    "letras = ['a', 'b', 'c', 'd', 'e', 'f', 'g']\n",
    "print(letras)\n",
    "letras[2:5] = [\"C\", \"D\", \"E\"]\n",
    "print(letras)\n",
    "\n",
    "letras[2:5] = []\n",
    "print(letras)\n",
    "\n",
    "new_lista = [lista, letras]\n",
    "print(new_lista)"
   ]
  },
  {
   "cell_type": "markdown",
   "metadata": {},
   "source": [
    "### Ejercicio 9"
   ]
  },
  {
   "cell_type": "code",
   "execution_count": 43,
   "metadata": {},
   "outputs": [
    {
     "name": "stdout",
     "output_type": "stream",
     "text": [
      "{'Mamifero': ['vaca', 'perro', 'mono'], 'Aves': ['aguila', 'colibri'], 'Peces': ['yiburon', 'salmon', 'orca']}\n"
     ]
    },
    {
     "data": {
      "text/plain": [
       "['aguila', 'colibri']"
      ]
     },
     "execution_count": 43,
     "metadata": {},
     "output_type": "execute_result"
    }
   ],
   "source": [
    "vertebrados = {\n",
    "    \"Mamifero\": ['vaca', 'perro', 'mono'],\n",
    "    \"Aves\": ['aguila', 'colibri']\n",
    "              }\n",
    "vertebrados[\"Peces\"] = [\"yiburon\", \"salmon\", \"orca\"]\n",
    "print(vertebrados)\n",
    "\n",
    "vertebrados.get(\"Aves\")"
   ]
  },
  {
   "cell_type": "markdown",
   "metadata": {},
   "source": [
    "### Ejercicio 10"
   ]
  },
  {
   "cell_type": "code",
   "execution_count": 46,
   "metadata": {},
   "outputs": [
    {
     "name": "stdout",
     "output_type": "stream",
     "text": [
      "\n",
      "    Sebastian Garcia, estudiante de Ing Sistemas tiene 22 años.\n",
      "\n",
      "\n",
      "    Sebastian Garcia, estudiante de Ing Sistemas tiene 22 años.\n",
      "\n"
     ]
    }
   ],
   "source": [
    "estudiante = {\n",
    "    \"nombre\": \"Sebastian\",\n",
    "    \"apellido\": \"Garcia\",\n",
    "    \"edad\": 22,\n",
    "    \"carrera\": \"Ing Sistemas\"\n",
    "}\n",
    "\n",
    "print(\"\"\"\n",
    "    {p[nombre]} {p[apellido]}, estudiante de {p[carrera]} tiene {p[edad]} años.\n",
    "\"\"\".format(p=estudiante))\n",
    "\n",
    "print(\"\"\"\n",
    "    {nombre} {apellido}, estudiante de {carrera} tiene {edad} años.\n",
    "\"\"\".format(**estudiante))\n",
    "\n"
   ]
  },
  {
   "cell_type": "code",
   "execution_count": null,
   "metadata": {},
   "outputs": [],
   "source": []
  }
 ],
 "metadata": {
  "kernelspec": {
   "display_name": "Python 3",
   "language": "python",
   "name": "python3"
  },
  "language_info": {
   "codemirror_mode": {
    "name": "ipython",
    "version": 3
   },
   "file_extension": ".py",
   "mimetype": "text/x-python",
   "name": "python",
   "nbconvert_exporter": "python",
   "pygments_lexer": "ipython3",
   "version": "3.7.4"
  }
 },
 "nbformat": 4,
 "nbformat_minor": 4
}
