{
 "cells": [
  {
   "cell_type": "markdown",
   "metadata": {},
   "source": [
    "# Representación numerica\n",
    "Sebastian Garcia 201630047"
   ]
  },
  {
   "cell_type": "markdown",
   "metadata": {},
   "source": [
    "156 => 10011100"
   ]
  },
  {
   "cell_type": "code",
   "execution_count": 104,
   "metadata": {},
   "outputs": [],
   "source": [
    "def decimalBinario(decimal): \n",
    "    if decimal > 1: \n",
    "        decimalBinario(decimal // 2) \n",
    "    print(decimal % 2, end = '') \n",
    "    \n",
    "def binarioDecimal(binario): \n",
    "    decimal, i, n = 0, 0, 0\n",
    "    while(binario != 0): \n",
    "        dec = binario % 10\n",
    "        decimal = decimal + dec * pow(2, i) \n",
    "        binario = binario//10\n",
    "        i += 1\n",
    "    print(decimal) "
   ]
  },
  {
   "cell_type": "code",
   "execution_count": 105,
   "metadata": {},
   "outputs": [
    {
     "name": "stdout",
     "output_type": "stream",
     "text": [
      "1111\n",
      "11010\n",
      "1111111\n",
      "10000000\n",
      "111111111\n",
      "10000000000\n",
      "\n",
      "19\n",
      "\n",
      "63\n",
      "\n",
      "149\n",
      "\n",
      "115\n"
     ]
    }
   ],
   "source": [
    "# represnetacion Binaria y decimal\n",
    "\n",
    "decimalBinario(15)\n",
    "print()\n",
    "decimalBinario(26)\n",
    "print()\n",
    "decimalBinario(127)\n",
    "print()\n",
    "decimalBinario(128)\n",
    "print()\n",
    "decimalBinario(511)\n",
    "print()\n",
    "decimalBinario(1024)\n",
    "print()\n",
    "print()\n",
    "binarioDecimal(10011)\n",
    "print()\n",
    "binarioDecimal(111111)\n",
    "print()\n",
    "binarioDecimal(10010101)\n",
    "print()\n",
    "binarioDecimal(1110011)"
   ]
  },
  {
   "cell_type": "code",
   "execution_count": 106,
   "metadata": {},
   "outputs": [
    {
     "name": "stdout",
     "output_type": "stream",
     "text": [
      "255\n",
      "11111111\n"
     ]
    }
   ],
   "source": [
    "decimal = int('11111111', 2)\n",
    "print(decimal)\n",
    "\n",
    "binario = format(255 ,\"b\")\n",
    "print(binario)"
   ]
  },
  {
   "cell_type": "markdown",
   "metadata": {},
   "source": [
    "represdentacion en 8 casillas: rango entre 0 y (2^8)-1"
   ]
  },
  {
   "cell_type": "code",
   "execution_count": 4,
   "metadata": {},
   "outputs": [
    {
     "name": "stdout",
     "output_type": "stream",
     "text": [
      "1111\n"
     ]
    }
   ],
   "source": [
    "print(format(15 ,\"b\"))"
   ]
  },
  {
   "cell_type": "code",
   "execution_count": 5,
   "metadata": {},
   "outputs": [
    {
     "name": "stdout",
     "output_type": "stream",
     "text": [
      "11010\n"
     ]
    }
   ],
   "source": [
    "print(format(26 ,\"b\"))"
   ]
  },
  {
   "cell_type": "code",
   "execution_count": 6,
   "metadata": {},
   "outputs": [
    {
     "name": "stdout",
     "output_type": "stream",
     "text": [
      "10000000000\n"
     ]
    }
   ],
   "source": [
    "print(format(1024 ,\"b\"))"
   ]
  },
  {
   "cell_type": "markdown",
   "metadata": {},
   "source": [
    "Para un sistema de N bits se pueden representar (2^N) elementos\n",
    "\n",
    "### Complementos\n",
    "\n",
    "representación de nagativos\n",
    "\n",
    "* Complemento a1 es invertir 1 <-> 0\n",
    "* Complemento a2 es sumarle 1 al LSB de a1\n",
    "\n",
    "4 => 100 => a1 => 011 => a2 => 100"
   ]
  },
  {
   "cell_type": "markdown",
   "metadata": {},
   "source": [
    "N bits generan \n",
    "* (2^N) elementos; \n",
    "* ((2^N)/2) - 1 elementos positivos; \n",
    "* ((2^N)/2) negativos"
   ]
  },
  {
   "cell_type": "code",
   "execution_count": 7,
   "metadata": {},
   "outputs": [
    {
     "name": "stdout",
     "output_type": "stream",
     "text": [
      "110\n"
     ]
    }
   ],
   "source": [
    "print(format(6 ,\"b\"))"
   ]
  },
  {
   "cell_type": "markdown",
   "metadata": {},
   "source": [
    "Con 8 bits se tienen 256 posibilidades, pero se logran 127 positivos y 128 negativos"
   ]
  },
  {
   "cell_type": "markdown",
   "metadata": {},
   "source": [
    "### Complemento 2\n",
    "* Complemento (1) => flip 1 <=> 0\n",
    "* Complemento (2) => coger complemento (1) y de derecha a izquierda, ir cambiando 1's por 0's hasta encontrar el primer 0. Cambiar ese cero por un 1 y terminar."
   ]
  },
  {
   "cell_type": "markdown",
   "metadata": {},
   "source": [
    "Complemento (2) de **1100** => 0011 => **0100**"
   ]
  },
  {
   "cell_type": "code",
   "execution_count": 138,
   "metadata": {},
   "outputs": [
    {
     "name": "stdout",
     "output_type": "stream",
     "text": [
      "Decimal: -116\n",
      "Binario: 1110100\n",
      "a1: 10001011\n",
      "a2: 10001100\n",
      "\n",
      "Decimal: 127\n",
      "Binario: 1111111\n",
      "a1: 10000000\n",
      "a2: 10000001\n",
      "\n",
      "Decimal: 134\n",
      "Binario: 10000110\n",
      "a1: 01111001\n",
      "a2: 01111010\n",
      "\n",
      "Decimal: -128\n",
      "Binario: 10000000\n",
      "a1: 01111111\n",
      "a2: 00000000\n",
      "\n"
     ]
    }
   ],
   "source": [
    "def complemento_dos(binario, bits):\n",
    "    if (binario & (1 << (bits - 1))) != 0: \n",
    "        binario = binario - (1 << bits)        \n",
    "    return binario                         \n",
    "\n",
    "\n",
    "def complemento_dos_decimal(n, N):\n",
    "    print('Decimal:', n)\n",
    "    print('Binario:', format(abs(n), \"b\"))\n",
    "\n",
    "    complemento = format(abs(n) ^(1 << N) - 1 , \"b\")\n",
    "    for i in range(N):\n",
    "        if len(complemento) < N:\n",
    "            complemento = \"0\" + complemento\n",
    "    print('a1:',complemento)\n",
    "\n",
    "    compl_dos = [x for x in complemento]\n",
    "    for i in range(N-1, 0, -1):\n",
    "        if complemento[i] == \"1\":\n",
    "            compl_dos[i] = \"0\"\n",
    "        else: \n",
    "            compl_dos[i] = \"1\"\n",
    "            break\n",
    "\n",
    "    print(\"a2: \", end=\"\")\n",
    "    for x in compl_dos:\n",
    "        print(x, end=\"\")\n",
    "    print()\n",
    "    print()\n",
    "   \n",
    "# n = -116 # numero decimal\n",
    "N = 8 # bits\n",
    "numeros = [-116, 127, 134, -128]\n",
    "\n",
    "for x in numeros:\n",
    "    complemento_dos_decimal(x, N)\n"
   ]
  },
  {
   "cell_type": "code",
   "execution_count": null,
   "metadata": {},
   "outputs": [],
   "source": []
  }
 ],
 "metadata": {
  "kernelspec": {
   "display_name": "Python 3",
   "language": "python",
   "name": "python3"
  },
  "language_info": {
   "codemirror_mode": {
    "name": "ipython",
    "version": 3
   },
   "file_extension": ".py",
   "mimetype": "text/x-python",
   "name": "python",
   "nbconvert_exporter": "python",
   "pygments_lexer": "ipython3",
   "version": "3.7.4"
  }
 },
 "nbformat": 4,
 "nbformat_minor": 4
}
