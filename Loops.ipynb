{
 "cells": [
  {
   "cell_type": "markdown",
   "metadata": {},
   "source": [
    "# Loops\n",
    "\n",
    "Sebastian Garcia 201630047"
   ]
  },
  {
   "cell_type": "markdown",
   "metadata": {},
   "source": [
    "### Ejercicio 6"
   ]
  },
  {
   "cell_type": "code",
   "execution_count": 1,
   "metadata": {},
   "outputs": [
    {
     "name": "stdout",
     "output_type": "stream",
     "text": [
      "C\n",
      "o\n",
      "l\n",
      "o\n",
      "m\n",
      "b\n",
      "i\n",
      "a\n",
      "C o l o m b i a "
     ]
    }
   ],
   "source": [
    "pais = \"Colombia\"\n",
    "for x in pais:\n",
    "    print(x)\n",
    "for x in pais:\n",
    "    print(x, end=\" \")"
   ]
  },
  {
   "cell_type": "markdown",
   "metadata": {},
   "source": [
    "### Ejercicio 7"
   ]
  },
  {
   "cell_type": "code",
   "execution_count": 2,
   "metadata": {},
   "outputs": [
    {
     "name": "stdout",
     "output_type": "stream",
     "text": [
      "col\n",
      "bra\n",
      "eeuu\n",
      "peru\n"
     ]
    }
   ],
   "source": [
    "paises = [\"col\", \"bra\", \"eeuu\", \"peru\"]\n",
    "for x in paises:\n",
    "    print(x)"
   ]
  },
  {
   "cell_type": "markdown",
   "metadata": {},
   "source": [
    "### Ejercicio 8"
   ]
  },
  {
   "cell_type": "code",
   "execution_count": 4,
   "metadata": {},
   "outputs": [
    {
     "name": "stdout",
     "output_type": "stream",
     "text": [
      "azul\n",
      "rojo\n",
      "amarillo\n",
      "verde\n"
     ]
    }
   ],
   "source": [
    "colores = [\"azul\", \"rojo\", \"amarillo\", \"verde\"]\n",
    "for x in colores:\n",
    "    print(x)"
   ]
  },
  {
   "cell_type": "markdown",
   "metadata": {},
   "source": [
    "### Ejercicio 9"
   ]
  },
  {
   "cell_type": "code",
   "execution_count": 8,
   "metadata": {},
   "outputs": [
    {
     "name": "stdout",
     "output_type": "stream",
     "text": [
      "Nombre: Camila, años: 19\n",
      "Nombre: Juan, años: 20\n",
      "Nombre: Alejandra, años: 24\n"
     ]
    }
   ],
   "source": [
    "anios = {'Camila': 19, 'Juan': 20, 'Alejandra': 24}\n",
    "for key, value in anios.items():\n",
    "        print(f\"Nombre: {key}, años: {value}\")"
   ]
  },
  {
   "cell_type": "markdown",
   "metadata": {},
   "source": [
    "### Ejercicio 10"
   ]
  },
  {
   "cell_type": "code",
   "execution_count": 9,
   "metadata": {},
   "outputs": [
    {
     "name": "stdout",
     "output_type": "stream",
     "text": [
      "0\n",
      "1\n",
      "2\n",
      "3\n",
      "4\n",
      "5\n",
      "0\n",
      "1\n",
      "2\n",
      "3\n",
      "4\n"
     ]
    }
   ],
   "source": [
    "# a\n",
    "for num in (0, 1, 2, 3, 4, 5):\n",
    "    print(num)\n",
    "    \n",
    "# b\n",
    "for num in range(5):\n",
    "    print(num)"
   ]
  },
  {
   "cell_type": "markdown",
   "metadata": {},
   "source": [
    "### Ejercicio 11"
   ]
  },
  {
   "cell_type": "code",
   "execution_count": 11,
   "metadata": {},
   "outputs": [
    {
     "name": "stdout",
     "output_type": "stream",
     "text": [
      "0\n",
      "2\n",
      "4\n",
      "6\n",
      "8\n"
     ]
    }
   ],
   "source": [
    "for x in range(0, 10, 2):\n",
    "    print(x)"
   ]
  },
  {
   "cell_type": "markdown",
   "metadata": {},
   "source": [
    "### Ejercicio 12"
   ]
  },
  {
   "cell_type": "code",
   "execution_count": 13,
   "metadata": {},
   "outputs": [
    {
     "name": "stdout",
     "output_type": "stream",
     "text": [
      "[0, 1, 4, 9]\n"
     ]
    }
   ],
   "source": [
    "l = [ i ** 2 for i in range(4) ]\n",
    "print(l)"
   ]
  },
  {
   "cell_type": "code",
   "execution_count": 41,
   "metadata": {},
   "outputs": [
    {
     "name": "stdout",
     "output_type": "stream",
     "text": [
      "[3, 5, 7]\n"
     ]
    }
   ],
   "source": [
    "a = [1,2,3,4]\n",
    "\n",
    "total = [a[x] + a[x+1] for x in range(len(a)-1)]\n",
    "print(total)"
   ]
  },
  {
   "cell_type": "code",
   "execution_count": 49,
   "metadata": {},
   "outputs": [
    {
     "name": "stdout",
     "output_type": "stream",
     "text": [
      "2\n"
     ]
    }
   ],
   "source": [
    "mat = [\n",
    "    [10,2,4],\n",
    "    [2,5,6],\n",
    "    [6,3,4]\n",
    "]\n",
    "\n",
    "min = float(\"inf\")\n",
    "for row in mat:\n",
    "    for col in row:\n",
    "        if col < min:\n",
    "            min = col\n",
    "print(min)"
   ]
  },
  {
   "cell_type": "markdown",
   "metadata": {},
   "source": [
    "### Ejercicio 13"
   ]
  },
  {
   "cell_type": "code",
   "execution_count": 1,
   "metadata": {},
   "outputs": [
    {
     "name": "stdout",
     "output_type": "stream",
     "text": [
      "perro\n"
     ]
    }
   ],
   "source": [
    "masc = [\"perro\", \"cat\", \"loro\"]\n",
    "for a in masc:\n",
    "    if a == \"cat\":\n",
    "        break\n",
    "    print(a)"
   ]
  },
  {
   "cell_type": "code",
   "execution_count": 2,
   "metadata": {},
   "outputs": [],
   "source": [
    "### Ejercicio 4"
   ]
  },
  {
   "cell_type": "code",
   "execution_count": 4,
   "metadata": {},
   "outputs": [
    {
     "name": "stdout",
     "output_type": "stream",
     "text": [
      "1.0\n",
      "0.5\n",
      "0.25\n"
     ]
    }
   ],
   "source": [
    "n = [1,0,2,4]\n",
    "for num in n:\n",
    "    if num == 0:\n",
    "        continue\n",
    "    print(1/num)"
   ]
  },
  {
   "cell_type": "code",
   "execution_count": 5,
   "metadata": {},
   "outputs": [],
   "source": [
    "### Ejercicio 5"
   ]
  },
  {
   "cell_type": "code",
   "execution_count": 6,
   "metadata": {},
   "outputs": [
    {
     "name": "stdout",
     "output_type": "stream",
     "text": [
      "Num= 0\n",
      "Num= 4\n",
      "Num= 6\n",
      "Num= 8\n"
     ]
    }
   ],
   "source": [
    "for x in range(0,10,2):\n",
    "    if x == 2:\n",
    "        pass\n",
    "    else:\n",
    "        print(f\"Num= {x}\")"
   ]
  },
  {
   "cell_type": "code",
   "execution_count": 7,
   "metadata": {},
   "outputs": [],
   "source": [
    "### ejercicios 16, 17, 18 entregados la semana pasada Agosto 21"
   ]
  },
  {
   "cell_type": "code",
   "execution_count": 8,
   "metadata": {},
   "outputs": [],
   "source": [
    "### Ejercicio 19"
   ]
  },
  {
   "cell_type": "code",
   "execution_count": 10,
   "metadata": {},
   "outputs": [
    {
     "name": "stdout",
     "output_type": "stream",
     "text": [
      "1 2 3 4 5 6 7 8 9 "
     ]
    }
   ],
   "source": [
    "import time\n",
    "cont = 1\n",
    "while cont > 0:\n",
    "    print(cont, end=\" \")\n",
    "    cont += 1\n",
    "    time.sleep(0.5)\n",
    "    if cont == 10: break"
   ]
  },
  {
   "cell_type": "code",
   "execution_count": 11,
   "metadata": {},
   "outputs": [],
   "source": [
    "### Ejercicio 20"
   ]
  },
  {
   "cell_type": "code",
   "execution_count": 12,
   "metadata": {},
   "outputs": [
    {
     "name": "stdout",
     "output_type": "stream",
     "text": [
      "class de prp cient \n",
      "End\n"
     ]
    }
   ],
   "source": [
    "import time\n",
    "l = [\"class\", \"de\", \"prp\", \"cient\"]\n",
    "cont = 0\n",
    "\n",
    "while cont < len(l):\n",
    "    print(l[cont], end=\" \")\n",
    "    cont += 1\n",
    "    time.sleep(2)\n",
    "    \n",
    "print(\"\\nEnd\")"
   ]
  },
  {
   "cell_type": "code",
   "execution_count": 13,
   "metadata": {},
   "outputs": [],
   "source": [
    "### Ejemplo 21"
   ]
  },
  {
   "cell_type": "code",
   "execution_count": 14,
   "metadata": {},
   "outputs": [
    {
     "name": "stdout",
     "output_type": "stream",
     "text": [
      "1 2 3 4 5 6 7 8 9 "
     ]
    }
   ],
   "source": [
    "cont = 1\n",
    "while cont > 0:\n",
    "    print(cont, end=\" \")\n",
    "    cont += 1\n",
    "    time.sleep(0.5)\n",
    "    if cont == 10: break"
   ]
  },
  {
   "cell_type": "code",
   "execution_count": null,
   "metadata": {},
   "outputs": [],
   "source": []
  }
 ],
 "metadata": {
  "kernelspec": {
   "display_name": "Python 3",
   "language": "python",
   "name": "python3"
  },
  "language_info": {
   "codemirror_mode": {
    "name": "ipython",
    "version": 3
   },
   "file_extension": ".py",
   "mimetype": "text/x-python",
   "name": "python",
   "nbconvert_exporter": "python",
   "pygments_lexer": "ipython3",
   "version": "3.7.4"
  }
 },
 "nbformat": 4,
 "nbformat_minor": 4
}
