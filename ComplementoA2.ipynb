{
 "cells": [
  {
   "cell_type": "code",
   "execution_count": 36,
   "metadata": {},
   "outputs": [
    {
     "name": "stdout",
     "output_type": "stream",
     "text": [
      "255\n",
      "111000\n"
     ]
    }
   ],
   "source": [
    "decimal = int('11111111', 2)\n",
    "print(decimal)\n",
    "\n",
    "binario = format(56 ,\"b\")\n",
    "print(binario)"
   ]
  },
  {
   "cell_type": "code",
   "execution_count": 2,
   "metadata": {},
   "outputs": [],
   "source": [
    "def decimal_to_binario(decimal): \n",
    "    if decimal > 1: \n",
    "        decimalBinario(decimal // 2) \n",
    "    print(decimal % 2, end = '') \n",
    "    \n",
    "def binario_to_decimal(binario): \n",
    "    decimal, i, n = 0, 0, 0\n",
    "    while(binario != 0): \n",
    "        dec = binario % 10\n",
    "        decimal = decimal + dec * pow(2, i) \n",
    "        binario = binario//10\n",
    "        i += 1\n",
    "    print(decimal) "
   ]
  },
  {
   "cell_type": "markdown",
   "metadata": {},
   "source": [
    "## Complemento 2\n",
    "* Complemento (1) => flip 1 <=> 0\n",
    "* Complemento (2) => coger complemento (1) y de derecha a izquierda, ir cambiando 1's por 0's hasta encontrar el primer 0. Cambiar ese cero por un 1 y terminar.\n",
    "* Complemento (2) de 1100 => 0011 => 0100"
   ]
  },
  {
   "cell_type": "code",
   "execution_count": 20,
   "metadata": {},
   "outputs": [],
   "source": [
    "def complemento(n , N):\n",
    "    \"\"\"n: numero, N bits \"\"\"\n",
    "    print(\"Decimal: \", n)\n",
    "    print(\"Bits: \", N)\n",
    "    \n",
    "    binario = format(abs(n), \"b\")\n",
    "    for i in range(N):\n",
    "        if len(binario) < N:\n",
    "            binario = \"0\" + binario\n",
    "    print(\"Binario: \", binario)\n",
    "    \n",
    "    complemento = format(abs(n) ^(1 << N) - 1 , \"b\")\n",
    "    for i in range(N):\n",
    "        if len(complemento) < N:\n",
    "            complemento = \"0\" + complemento\n",
    "    print('a1:',complemento)\n",
    "    return complemento\n",
    "\n",
    "def complemento_dos(complemento):\n",
    "    a2 = []\n",
    "    flip = True\n",
    "    for bit in reversed(complemento):\n",
    "        if flip and bit == \"1\" :\n",
    "            a2.append(\"0\")\n",
    "        else:\n",
    "            if flip:\n",
    "                a2.append(\"1\")\n",
    "                flip = False\n",
    "            else:\n",
    "                a2.append(bit)\n",
    "    res = \"\"\n",
    "    for bit in reversed(a2):\n",
    "        res += bit\n",
    "    print(\"a2: \", res)\n",
    "    return res"
   ]
  },
  {
   "cell_type": "code",
   "execution_count": 25,
   "metadata": {},
   "outputs": [
    {
     "name": "stdout",
     "output_type": "stream",
     "text": [
      "Decimal:  5\n",
      "Bits:  3\n",
      "Binario:  101\n",
      "a1: 010\n",
      "a2:  011\n"
     ]
    }
   ],
   "source": [
    "n = 5\n",
    "N = 3\n",
    "comp = complemento(n, N)\n",
    "comp_2 = complemento_dos(comp)"
   ]
  },
  {
   "cell_type": "code",
   "execution_count": 32,
   "metadata": {},
   "outputs": [
    {
     "name": "stdout",
     "output_type": "stream",
     "text": [
      "Decimal:  127\n",
      "Bits:  8\n",
      "Binario:  01111111\n",
      "a1: 10000000\n",
      "a2:  10000001\n"
     ]
    }
   ],
   "source": [
    "n = 127\n",
    "N = 8\n",
    "comp = complemento(n, N)\n",
    "comp_2 = complemento_dos(comp)"
   ]
  },
  {
   "cell_type": "code",
   "execution_count": 34,
   "metadata": {},
   "outputs": [
    {
     "data": {
      "text/plain": [
       "'ALGO'"
      ]
     },
     "execution_count": 34,
     "metadata": {},
     "output_type": "execute_result"
    }
   ],
   "source": [
    "x = \"algo\"\n",
    "x.upper()"
   ]
  },
  {
   "cell_type": "code",
   "execution_count": 35,
   "metadata": {},
   "outputs": [
    {
     "name": "stdout",
     "output_type": "stream",
     "text": [
      "El agua\n"
     ]
    }
   ],
   "source": [
    "print(\"{}\".format(\"El agua\"))"
   ]
  },
  {
   "cell_type": "code",
   "execution_count": 45,
   "metadata": {},
   "outputs": [
    {
     "name": "stdout",
     "output_type": "stream",
     "text": [
      "7\n"
     ]
    }
   ],
   "source": [
    "binario = format(-56 ,\"b\")\n",
    "print(len(binario))"
   ]
  },
  {
   "cell_type": "code",
   "execution_count": 47,
   "metadata": {},
   "outputs": [
    {
     "name": "stdout",
     "output_type": "stream",
     "text": [
      "1\n",
      "2\n",
      "3\n",
      "4\n"
     ]
    }
   ],
   "source": [
    "for x in range(1,5):\n",
    "    print(x)"
   ]
  },
  {
   "cell_type": "code",
   "execution_count": null,
   "metadata": {},
   "outputs": [],
   "source": []
  },
  {
   "cell_type": "code",
   "execution_count": 58,
   "metadata": {},
   "outputs": [
    {
     "name": "stdout",
     "output_type": "stream",
     "text": [
      "N N N\n"
     ]
    }
   ],
   "source": [
    "x = y = z = \"N\"\n",
    "print(x, y, z)"
   ]
  },
  {
   "cell_type": "code",
   "execution_count": 67,
   "metadata": {},
   "outputs": [
    {
     "name": "stdout",
     "output_type": "stream",
     "text": [
      "s\n"
     ]
    }
   ],
   "source": [
    "txt = \"El agua es transparente\"\n",
    "x = txt[9]\n",
    "print(x)"
   ]
  },
  {
   "cell_type": "code",
   "execution_count": 62,
   "metadata": {},
   "outputs": [
    {
     "data": {
      "text/plain": [
       "2048"
      ]
     },
     "execution_count": 62,
     "metadata": {},
     "output_type": "execute_result"
    }
   ],
   "source": [
    "2 ** 11"
   ]
  },
  {
   "cell_type": "code",
   "execution_count": 63,
   "metadata": {},
   "outputs": [
    {
     "data": {
      "text/plain": [
       "2048"
      ]
     },
     "execution_count": 63,
     "metadata": {},
     "output_type": "execute_result"
    }
   ],
   "source": [
    "pow(2, 11)"
   ]
  },
  {
   "cell_type": "code",
   "execution_count": 65,
   "metadata": {},
   "outputs": [
    {
     "name": "stdout",
     "output_type": "stream",
     "text": [
      "True\n"
     ]
    }
   ],
   "source": [
    "colores = [\"1\", \"2\"]\n",
    "colores[1] = \"3\"\n",
    "print(\"1\" in colores)"
   ]
  },
  {
   "cell_type": "code",
   "execution_count": 80,
   "metadata": {},
   "outputs": [
    {
     "name": "stdout",
     "output_type": "stream",
     "text": [
      "El peso 76 de  esferas es 75.6625 Kg\n"
     ]
    }
   ],
   "source": [
    "peso = 75.662456\n",
    "txt = \"El peso {0:0.0f} de  esferas es {0:0.4f} Kg\".format(peso)\n",
    "print(txt)"
   ]
  },
  {
   "cell_type": "code",
   "execution_count": 81,
   "metadata": {},
   "outputs": [
    {
     "data": {
      "text/plain": [
       "512"
      ]
     },
     "execution_count": 81,
     "metadata": {},
     "output_type": "execute_result"
    }
   ],
   "source": [
    "2 ** 9"
   ]
  },
  {
   "cell_type": "code",
   "execution_count": 82,
   "metadata": {},
   "outputs": [
    {
     "data": {
      "text/plain": [
       "256"
      ]
     },
     "execution_count": 82,
     "metadata": {},
     "output_type": "execute_result"
    }
   ],
   "source": [
    "2 ** 8"
   ]
  },
  {
   "cell_type": "code",
   "execution_count": 88,
   "metadata": {},
   "outputs": [
    {
     "data": {
      "text/plain": [
       "256"
      ]
     },
     "execution_count": 88,
     "metadata": {},
     "output_type": "execute_result"
    }
   ],
   "source": [
    "2**8"
   ]
  },
  {
   "cell_type": "code",
   "execution_count": 89,
   "metadata": {},
   "outputs": [
    {
     "data": {
      "text/plain": [
       "255"
      ]
     },
     "execution_count": 89,
     "metadata": {},
     "output_type": "execute_result"
    }
   ],
   "source": [
    " 256 - 1"
   ]
  },
  {
   "cell_type": "code",
   "execution_count": 91,
   "metadata": {},
   "outputs": [
    {
     "name": "stdout",
     "output_type": "stream",
     "text": [
      "<class 'str'>\n"
     ]
    }
   ],
   "source": [
    "x = \"5\"\n",
    "print(type(x))"
   ]
  },
  {
   "cell_type": "code",
   "execution_count": 92,
   "metadata": {},
   "outputs": [
    {
     "name": "stdout",
     "output_type": "stream",
     "text": [
      "filas N: 3\n",
      "Valor posicion 0,0: 1\n",
      "Valor posicion 1,0: 1\n",
      "Valor posicion 2,0: 1\n",
      "Valor posicion 0,1: 1\n",
      "Valor posicion 1,1: 1\n",
      "Valor posicion 2,1: 1\n",
      "Valor posicion 0,2: 1\n",
      "Valor posicion 1,2: 1\n",
      "Valor posicion 2,2: 1\n",
      "3\n"
     ]
    }
   ],
   "source": [
    "N = int(input(\"filas N: \"))\n",
    "arr = [[int(input(f\"Valor posicion {x},{y}: \")) for x in range(N)] for y in range(N)]\n",
    "\n",
    "suma = 0\n",
    "for i in range(N):\n",
    "    for j in range(N):\n",
    "        if i == j:\n",
    "            suma += arr[i][j]\n",
    "print(suma)"
   ]
  },
  {
   "cell_type": "code",
   "execution_count": 106,
   "metadata": {},
   "outputs": [
    {
     "name": "stdout",
     "output_type": "stream",
     "text": [
      "26\n"
     ]
    }
   ],
   "source": [
    "a = [[1,2,3],\n",
    "     [4, 5,6],\n",
    "     [7, 8, 9]]\n",
    "N = 3\n",
    "suma = 0 # 26\n",
    "for i in range(N):\n",
    "    for j in range(N):\n",
    "        if j < i: continue\n",
    "        suma += a[i][j]\n",
    "print(suma)"
   ]
  },
  {
   "cell_type": "code",
   "execution_count": null,
   "metadata": {},
   "outputs": [],
   "source": []
  }
 ],
 "metadata": {
  "kernelspec": {
   "display_name": "Python 3",
   "language": "python",
   "name": "python3"
  },
  "language_info": {
   "codemirror_mode": {
    "name": "ipython",
    "version": 3
   },
   "file_extension": ".py",
   "mimetype": "text/x-python",
   "name": "python",
   "nbconvert_exporter": "python",
   "pygments_lexer": "ipython3",
   "version": "3.7.4"
  }
 },
 "nbformat": 4,
 "nbformat_minor": 4
}
