{
 "cells": [
  {
   "cell_type": "markdown",
   "metadata": {},
   "source": [
    "# Parcial 2\n",
    "201630047"
   ]
  },
  {
   "cell_type": "markdown",
   "metadata": {},
   "source": [
    "### Punto 1"
   ]
  },
  {
   "cell_type": "code",
   "execution_count": 23,
   "metadata": {},
   "outputs": [
    {
     "name": "stdout",
     "output_type": "stream",
     "text": [
      "--\n",
      "Promedio esperado:  True 32.3238636\n",
      "Size:  176\n",
      "Min:  -11.0\n",
      "Max:  82.0\n",
      "Multiples de 7:  20\n",
      "Valores entre -3 y 16:  44\n",
      "Media de Valores entre -3 y 16:  6.25\n"
     ]
    }
   ],
   "source": [
    "##\n",
    "import struct\n",
    "%matplotlib inline\n",
    "import matplotlib.pyplot as plt\n",
    "import numpy as np\n",
    "\n",
    "print(\"--\")\n",
    "#se encuentra una serie de datos de números enteros con signo, cada uno almacenado en 16 bits\n",
    "#promedio : 32.3238636\n",
    "file_name = \"DataFileImpar.bin\"\n",
    "with open(file_name, 'rb') as f:\n",
    "    x = f.read()\n",
    "    valores = np.double(struct.unpack(\"h\"*int(len(x)/2), x)) # size double => 8B\n",
    "    print(\"Promedio esperado: \", f'{np.mean(valores):0.7f}' == '32.3238636', f'{np.mean(valores):0.7f}' )\n",
    "    print(\"Size: \", len(valores))\n",
    "    print(\"Min: \", np.min(valores))\n",
    "    print(\"Max: \", np.max(valores))\n",
    "    print(\"Multiples de 7: \", len([ x for x in valores if x % 7 == 0 ]))\n",
    "    print(\"Valores entre -3 y 16: \", len([ x for x in valores if x >= -3 and x <= 16 ]))\n",
    "    print(\"Media de Valores entre -3 y 16: \", np.mean([ x for x in valores if x >= -3 and x <= 16 ]))"
   ]
  },
  {
   "cell_type": "code",
   "execution_count": 24,
   "metadata": {},
   "outputs": [
    {
     "data": {
      "text/plain": [
       "1200.0"
      ]
     },
     "execution_count": 24,
     "metadata": {},
     "output_type": "execute_result"
    }
   ],
   "source": [
    "2400 / 2"
   ]
  },
  {
   "cell_type": "code",
   "execution_count": 25,
   "metadata": {},
   "outputs": [
    {
     "data": {
      "text/plain": [
       "300.0"
      ]
     },
     "execution_count": 25,
     "metadata": {},
     "output_type": "execute_result"
    }
   ],
   "source": [
    "2400 / 8"
   ]
  },
  {
   "cell_type": "code",
   "execution_count": 26,
   "metadata": {},
   "outputs": [
    {
     "data": {
      "text/plain": [
       "600.0"
      ]
     },
     "execution_count": 26,
     "metadata": {},
     "output_type": "execute_result"
    }
   ],
   "source": [
    "2400 / 4"
   ]
  },
  {
   "cell_type": "markdown",
   "metadata": {},
   "source": [
    "### Punto 6"
   ]
  },
  {
   "cell_type": "code",
   "execution_count": 36,
   "metadata": {},
   "outputs": [
    {
     "name": "stdout",
     "output_type": "stream",
     "text": [
      "N: 0 ==> 2.0100\n",
      "N: 5 ==> 5.5319\n",
      "N: 16 ==> 8.2981\n",
      "N: 55 ==> 11.7256\n",
      "N: 103 ==> 13.5518\n",
      "N: 156 ==> 14.7751\n"
     ]
    }
   ],
   "source": [
    "\n",
    "def punto(N, x=0.34):\n",
    "    # condicion de parada\n",
    "    if N < 0: return 0\n",
    "    arriba = ((3 + ((2 * x)/(N + 1)) ) + (x ** ((5 * N) + 1)))\n",
    "    abajo = (N + 2)\n",
    "    return ( arriba / abajo ) + punto(N=N-1)\n",
    "\n",
    "for n in [0, 5, 16, 55, 103, 156]:\n",
    "    val = punto(N=n)\n",
    "    print(f'N: {n} ==> {val:0.4f}')"
   ]
  },
  {
   "cell_type": "code",
   "execution_count": 38,
   "metadata": {},
   "outputs": [
    {
     "name": "stdout",
     "output_type": "stream",
     "text": [
      "4.676210981355121\n"
     ]
    }
   ],
   "source": [
    "import math\n",
    "print(math.log2(25.567))"
   ]
  },
  {
   "cell_type": "code",
   "execution_count": null,
   "metadata": {},
   "outputs": [],
   "source": []
  },
  {
   "cell_type": "code",
   "execution_count": null,
   "metadata": {},
   "outputs": [],
   "source": []
  },
  {
   "cell_type": "code",
   "execution_count": null,
   "metadata": {},
   "outputs": [],
   "source": []
  },
  {
   "cell_type": "code",
   "execution_count": null,
   "metadata": {},
   "outputs": [],
   "source": []
  },
  {
   "cell_type": "code",
   "execution_count": null,
   "metadata": {},
   "outputs": [],
   "source": []
  }
 ],
 "metadata": {
  "kernelspec": {
   "display_name": "Python 3",
   "language": "python",
   "name": "python3"
  },
  "language_info": {
   "codemirror_mode": {
    "name": "ipython",
    "version": 3
   },
   "file_extension": ".py",
   "mimetype": "text/x-python",
   "name": "python",
   "nbconvert_exporter": "python",
   "pygments_lexer": "ipython3",
   "version": "3.7.4"
  }
 },
 "nbformat": 4,
 "nbformat_minor": 4
}
