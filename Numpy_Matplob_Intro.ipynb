{
 "cells": [
  {
   "cell_type": "markdown",
   "metadata": {},
   "source": [
    "# Numpy"
   ]
  },
  {
   "cell_type": "code",
   "execution_count": 2,
   "metadata": {},
   "outputs": [
    {
     "name": "stdout",
     "output_type": "stream",
     "text": [
      "2.0\n",
      "[4. 5. 6.]\n",
      "[3. 6.]\n",
      "[[5. 6.]]\n"
     ]
    }
   ],
   "source": [
    "import numpy as np\n",
    "from numpy import pi\n",
    "\n",
    "a = np.array([[1, 2, 3], [4, 5, 6]], float)\n",
    "\n",
    "print(a[0,1])\n",
    "print(a[1, :])\n",
    "print(a[:,2])\n",
    "print(a[-1:,-2:])"
   ]
  },
  {
   "cell_type": "code",
   "execution_count": 3,
   "metadata": {},
   "outputs": [
    {
     "name": "stdout",
     "output_type": "stream",
     "text": [
      "[0. 1. 2. 3. 4. 5. 6. 7. 8. 9.]\n",
      "[[0. 1.]\n",
      " [2. 3.]\n",
      " [4. 5.]\n",
      " [6. 7.]\n",
      " [8. 9.]]\n",
      "(5, 2)\n"
     ]
    }
   ],
   "source": [
    "b = np.array(range(10), float)\n",
    "print(b)\n",
    "\n",
    "c = b.reshape((5,2))\n",
    "print(c)\n",
    "print(c.shape)"
   ]
  },
  {
   "cell_type": "code",
   "execution_count": 4,
   "metadata": {},
   "outputs": [
    {
     "name": "stdout",
     "output_type": "stream",
     "text": [
      "[[0. 1. 2.]\n",
      " [3. 4. 5.]]\n",
      "[[0. 3.]\n",
      " [1. 4.]\n",
      " [2. 5.]]\n"
     ]
    }
   ],
   "source": [
    "a = np.array(range(6), float).reshape((2, 3))\n",
    "print(a)\n",
    "print(a.transpose())"
   ]
  },
  {
   "cell_type": "code",
   "execution_count": 5,
   "metadata": {},
   "outputs": [
    {
     "name": "stdout",
     "output_type": "stream",
     "text": [
      "[[1. 2.]\n",
      " [3. 4.]\n",
      " [5. 6.]\n",
      " [7. 8.]]\n",
      "\n",
      "[[1. 2.]\n",
      " [3. 4.]\n",
      " [5. 6.]\n",
      " [7. 8.]]\n",
      "\n",
      "[[1. 2. 5. 6.]\n",
      " [3. 4. 7. 8.]]\n"
     ]
    }
   ],
   "source": [
    "a = np.array([[1, 2], [3, 4]], float)\n",
    "b = np.array([[5, 6], [7,8]], float)\n",
    "\n",
    "print(np.concatenate((a,b)))\n",
    "print()\n",
    "print(np.concatenate((a,b), axis=0))\n",
    "print()\n",
    "print(np.concatenate((a,b), axis=1))\n"
   ]
  },
  {
   "cell_type": "code",
   "execution_count": 6,
   "metadata": {},
   "outputs": [
    {
     "name": "stdout",
     "output_type": "stream",
     "text": [
      "[[1. 0. 0. 0.]\n",
      " [0. 1. 0. 0.]\n",
      " [0. 0. 1. 0.]\n",
      " [0. 0. 0. 1.]]\n"
     ]
    }
   ],
   "source": [
    "ide = np.identity(4, dtype=float)\n",
    "print(ide)"
   ]
  },
  {
   "cell_type": "code",
   "execution_count": 7,
   "metadata": {},
   "outputs": [
    {
     "name": "stdout",
     "output_type": "stream",
     "text": [
      "[[0. 1. 0. 0.]\n",
      " [0. 0. 1. 0.]\n",
      " [0. 0. 0. 1.]\n",
      " [0. 0. 0. 0.]]\n"
     ]
    }
   ],
   "source": [
    "one_in_k = np.eye(4, k=1, dtype=float)\n",
    "print(one_in_k)"
   ]
  },
  {
   "cell_type": "code",
   "execution_count": 8,
   "metadata": {},
   "outputs": [
    {
     "name": "stdout",
     "output_type": "stream",
     "text": [
      "45.0\n",
      "362880.0\n",
      "5.0\n",
      "6.666666666666667\n",
      "2.581988897471611\n",
      "1.0\n",
      "9.0\n",
      "0\n",
      "8\n"
     ]
    }
   ],
   "source": [
    "z = np.array([1,2,3,4,5,6,7,8,9], float)\n",
    "\n",
    "print(z.sum())\n",
    "print(z.prod())\n",
    "print(z.mean())\n",
    "print(z.var())\n",
    "print(z.std())\n",
    "print(z.min())\n",
    "print(z.max())\n",
    "print(z.argmin())\n",
    "print(z.argmax())"
   ]
  },
  {
   "cell_type": "code",
   "execution_count": 9,
   "metadata": {},
   "outputs": [
    {
     "name": "stdout",
     "output_type": "stream",
     "text": [
      "180.0\n",
      "84.0\n",
      "60.0\n",
      "224.0\n",
      "\n",
      "Suma axis 0:  [21. 25. 18.]\n",
      "Suma axis 1:  [18. 14. 13. 19.]\n",
      "Producto:  203212800.0\n",
      "Promedio axis 0: [5.25 6.25 4.5 ]\n",
      "Promedio axis 1: [6.         4.66666667 4.33333333 6.33333333]\n",
      "Mediana:  5.0\n",
      "Varianza:  4.055555555555556\n",
      "Desciacion estadnar:  2.0138409955990957\n",
      "2.0\n",
      "9.0\n",
      "8\n",
      "0\n",
      "\n",
      "Coeficiente de correlacion:  [[ 1.         -0.54470478  0.45392065 -0.99862543]\n",
      " [-0.54470478  1.          0.5         0.5       ]\n",
      " [ 0.45392065  0.5         1.         -0.5       ]\n",
      " [-0.99862543  0.5        -0.5         1.        ]]\n",
      "Covarianza:  [[ 7.         -3.          2.5        -5.5       ]\n",
      " [-3.          4.33333333  2.16666667  2.16666667]\n",
      " [ 2.5         2.16666667  4.33333333 -2.16666667]\n",
      " [-5.5         2.16666667 -2.16666667  4.33333333]]\n"
     ]
    }
   ],
   "source": [
    "z = np.array([[9,5,4], [3,7,4], [5,6,2], [4,7,8]], float)\n",
    "for (i, j, k) in z:\n",
    "    print(i * j * k)\n",
    "print()\n",
    "\n",
    "print(\"Suma axis 0: \", z.sum(axis=0))\n",
    "print(\"Suma axis 1: \", z.sum(axis=1))\n",
    "\n",
    "print(\"Producto: \", z.prod())\n",
    "print(\"Promedio axis 0:\", z.mean(axis=0))\n",
    "print(\"Promedio axis 1:\", z.mean(axis=1))\n",
    "\n",
    "print(\"Mediana: \", np.median(z))\n",
    "print(\"Varianza: \", z.var())\n",
    "print(\"Desciacion estadnar: \", z.std())\n",
    "\n",
    "print(z.min())\n",
    "print(z.max())\n",
    "print(z.argmin()) # index\n",
    "print(z.argmax())\n",
    "\n",
    "print()\n",
    "print(\"Coeficiente de correlacion: \", np.corrcoef(z))\n",
    "print(\"Covarianza: \", np.cov(z))"
   ]
  },
  {
   "cell_type": "markdown",
   "metadata": {},
   "source": [
    "# Random\n",
    "Mersenne Twister algorithm"
   ]
  },
  {
   "cell_type": "code",
   "execution_count": 10,
   "metadata": {},
   "outputs": [
    {
     "name": "stdout",
     "output_type": "stream",
     "text": [
      "[[0.33677247 0.52693437]\n",
      " [0.79529578 0.78867702]\n",
      " [0.02147624 0.84612516]]\n",
      "14\n",
      "0.1526965000529379\n"
     ]
    }
   ],
   "source": [
    "# set the seed\n",
    "np.random.seed(293423)\n",
    "\n",
    "x = np.random.rand(6).reshape((3,2))\n",
    "print(x)\n",
    "\n",
    "y = np.random.randint(5, 15)\n",
    "print(y)\n",
    "\n",
    "w = np.random.random()\n",
    "print(w)"
   ]
  },
  {
   "cell_type": "markdown",
   "metadata": {},
   "source": [
    "# Ones & Zeros"
   ]
  },
  {
   "cell_type": "code",
   "execution_count": 11,
   "metadata": {},
   "outputs": [
    {
     "name": "stdout",
     "output_type": "stream",
     "text": [
      "[0 0 0 0 0 0 0 0 0 0]\n"
     ]
    }
   ],
   "source": [
    "zeros = np.zeros(10, dtype=int)\n",
    "print(zeros)"
   ]
  },
  {
   "cell_type": "code",
   "execution_count": 13,
   "metadata": {},
   "outputs": [
    {
     "name": "stdout",
     "output_type": "stream",
     "text": [
      "[[1 1 1 1 1]\n",
      " [1 1 1 1 1]\n",
      " [1 1 1 1 1]]\n"
     ]
    }
   ],
   "source": [
    "ones = np.ones((3, 5), dtype=int) # rows, cols\n",
    "print(ones)"
   ]
  },
  {
   "cell_type": "code",
   "execution_count": null,
   "metadata": {},
   "outputs": [],
   "source": []
  }
 ],
 "metadata": {
  "kernelspec": {
   "display_name": "Python 3",
   "language": "python",
   "name": "python3"
  },
  "language_info": {
   "codemirror_mode": {
    "name": "ipython",
    "version": 3
   },
   "file_extension": ".py",
   "mimetype": "text/x-python",
   "name": "python",
   "nbconvert_exporter": "python",
   "pygments_lexer": "ipython3",
   "version": "3.7.4"
  }
 },
 "nbformat": 4,
 "nbformat_minor": 4
}
