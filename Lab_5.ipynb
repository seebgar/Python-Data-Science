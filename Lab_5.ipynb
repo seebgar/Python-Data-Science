{
 "cells": [
  {
   "cell_type": "markdown",
   "metadata": {},
   "source": [
    "# Laboratorio 5\n",
    "Sebastian Garcia 201630047"
   ]
  },
  {
   "cell_type": "markdown",
   "metadata": {},
   "source": [
    "### Ejercicio 1\n",
    "Gauss\n",
    " Para un sistema matricial de la forma Ax=b, donde A es una matriz de coeficientes constantes de\n",
    "NxN, x un vector de incógnitas de Nx1 y b un vector de contantes de Nx1, realice una función en\n",
    "Python que devuelva el vector de solución x usando el método de Gauss. Pruebe la función con una\n",
    "matriz A aleatoria (rand) de 3x3 y un vector b aleatorio de 3x1. Compare la solución encontrada con las\n",
    "funciones de la librería numpy del paquete linalg."
   ]
  },
  {
   "cell_type": "code",
   "execution_count": 14,
   "metadata": {},
   "outputs": [
    {
     "name": "stdout",
     "output_type": "stream",
     "text": [
      "\n",
      "    Python linalg solver:\n",
      "    [0.03076923 0.78461538 1.01538462 0.15384615 0.06153846]\n",
      "\n",
      "\n",
      "    Metodo Gauss:\n",
      "    [0.03076923 0.78461538 1.01538462 0.15384615 0.06153846]\n",
      "\n"
     ]
    }
   ],
   "source": [
    "##\n",
    "import numpy as np\n",
    "\n",
    "A = np.array(\n",
    "    [[0, 7, -1, 3, 1],\n",
    "    [0, 3, 4, 1, 7],\n",
    "    [6, 2, 0, 2, -1],\n",
    "    [2, 1, 2, 0, 2],\n",
    "    [3, 4, 1, -2, 1]], float\n",
    ")\n",
    "b = np.array([5, 7, 2, 3, 4], float)\n",
    "\n",
    "print(f'''\n",
    "    Python linalg solver:\n",
    "    {np.linalg.solve(A, b)}\n",
    "''')\n",
    "\n",
    "def gauss(A, b):\n",
    "    n = len(b)\n",
    "    x = np.zeros(n, float)\n",
    "    # eliminacion\n",
    "    for k in range(n - 1):\n",
    "        if np.fabs(A[k,k]) < 1.0e-12:\n",
    "            for i in range(k+1, n):\n",
    "                if np.fabs(A[i, k]) > np.fabs(A[k,k]):\n",
    "                    A[[k, i]] = A[[i, k]]\n",
    "                    b[[k, i]] = b[[i, k]]\n",
    "                    break\n",
    "        for i in range(k+1, n):\n",
    "            if A[i, k] == 0: continue\n",
    "            factor = A[k, k] / A[i, k]\n",
    "            for j in range(k, n):\n",
    "                A[i, j] = A[k, j] - A[i, j] * factor\n",
    "            b[i] = b[k] - b[i] * factor\n",
    "    \n",
    "    # sustitucion\n",
    "    x[n-1] = b[n-1] / A[n-1, n-1]\n",
    "    for i in range(n-2, -1, -1):\n",
    "        sum_ax = 0\n",
    "        for j in range(i + 1, n):\n",
    "            sum_ax += A[i, j] * x[j]\n",
    "        x[i] = (b[i] - sum_ax) / A[i, i]\n",
    "        \n",
    "    return x\n",
    "\n",
    "print(f'''\n",
    "    Metodo Gauss:\n",
    "    {gauss(A, b)}\n",
    "''')\n",
    "\n",
    "\n",
    "#linalg\n",
    "# Ax = b\n",
    "# A = np.array([[1,1,1], [3,2,1], [4,3,1]])\n",
    "# b = np.array([[60], [95], [125]])\n",
    "# print(np.linalg.solve(A, b))\n",
    "# print(np.linalg.inv(A))\n",
    "# print(np.linalg.det(A))\n",
    "# print(np.linalg.matrix_power(A, 3))\n",
    "# print(np.identity(3))"
   ]
  },
  {
   "cell_type": "markdown",
   "metadata": {},
   "source": [
    "### Ejercicio 2\n",
    "Gauss Jordan\n",
    " Para un sistema matricial de la forma Ax=b, donde A es una matriz de coeficientes constantes de\n",
    "NxN, x un vector de incógnitas de Nx1 y b un vector contantes de Nx1, realice una función en Python\n",
    "que devuelva el vector de solución x usando el método de Gauss-Jordan. La función debe devolver\n",
    "igualmente la matriz inversa A-1. Pruebe la función con una matriz A aleatoria (rand) de 3x3 y un vector\n",
    "b aleatorio de 3x1. Compare la solución encontrada con las funciones de la librería numpy del paquete\n",
    "linalg"
   ]
  },
  {
   "cell_type": "code",
   "execution_count": 27,
   "metadata": {},
   "outputs": [
    {
     "name": "stdout",
     "output_type": "stream",
     "text": [
      "\n",
      "    Python linalg solver:\n",
      "    [-0.5         1.          0.33333333 -2.        ]\n",
      "\n",
      "\n",
      "    Metodo Gauss Jordan:\n",
      "    [-0.5         1.          0.33333333 -2.        ]\n",
      "    \n",
      "    Matriz inversa A^-1:\n",
      "[[-0.02564103  0.12820513  0.08974359  0.06410256]\n",
      " [ 0.17948718  0.1025641  -0.12820513  0.05128205]\n",
      " [-0.52991453  0.31623932 -0.14529915 -0.00854701]\n",
      " [ 0.64102564 -0.20512821  0.25641026 -0.1025641 ]]\n",
      "\n"
     ]
    }
   ],
   "source": [
    "##\n",
    "import numpy as np\n",
    "\n",
    "A = np.array(\n",
    "    [[0, 2, 0, 1],\n",
    "    [2, 2, 3, 2],\n",
    "    [4, -3, 0, 1],\n",
    "    [6, 1, -6, -5],\n",
    "    ], float\n",
    ")\n",
    "b = np.array([0, -2, -7, 6], float)\n",
    "\n",
    "print(f'''\n",
    "    Python linalg solver:\n",
    "    {np.linalg.solve(A, b)}\n",
    "''')\n",
    "\n",
    "def gaussJordan(A, b):\n",
    "    n = len(b)\n",
    "    inv = np.linalg.inv(A)\n",
    "    # main\n",
    "    for k in range(n):\n",
    "        # partial piv\n",
    "        if np.fabs(A[k, k]) < 1.0e-12:\n",
    "            for i in range(k+1, n):\n",
    "                if np.fabs(A[i, k]) > np.fabs(A[k, k]):\n",
    "                    for j in range(k, n):\n",
    "                        A[k, j] , A[i, j] = A[i, j], A[k, j]\n",
    "                    b[k] , b[i] = b[i], b[k]\n",
    "                    break\n",
    "        # division\n",
    "        pivot = A[k, k]\n",
    "        for j in range(k, n):\n",
    "            A[k, j] /= pivot\n",
    "        b[k] /= pivot\n",
    "        # eliminacion\n",
    "        for i in range(n):\n",
    "            if i == k or A[i, k] == 0: continue\n",
    "            factor = A[i, k]\n",
    "            for j in range(k, n):\n",
    "                A[i, j] -= factor * A[k, j]\n",
    "            b[i] -= factor * b[k]\n",
    "            \n",
    "    return b, inv\n",
    "\n",
    "x, A = gaussJordan(A, b)\n",
    "print(f'''\n",
    "    Metodo Gauss Jordan:\n",
    "    {x}\n",
    "    \n",
    "    Matriz inversa A^-1:\n",
    "{A}\n",
    "''')\n"
   ]
  },
  {
   "cell_type": "markdown",
   "metadata": {},
   "source": [
    "### Ejercicio 3\n",
    " Para el sistema matricial de la forma Ax=b, explique cada uno de los casos en los cuales el sistema\n",
    "tiene una única solución, infinitas soluciones o no tiene solución. Refiérase a la matriz aumentada para\n",
    "explicar cada caso. [EXPLICACION EN PALABRAS]"
   ]
  },
  {
   "cell_type": "code",
   "execution_count": null,
   "metadata": {},
   "outputs": [],
   "source": []
  },
  {
   "cell_type": "markdown",
   "metadata": {},
   "source": [
    "### Ejercicio 4\n",
    " El círculo que pasa por los puntos (-2, 0), (-7, 1) y (5, -1) está dado por la ecuación\n",
    "x\n",
    "2+y\n",
    "2+ax+by+c=0. Utilice las funciones desarrolladas en los puntos 1 y 2 para hallar los coeficientes a,\n",
    "b y c. Compare la solución encontrada con las funciones de la librería numpy del paquete linalg.\n",
    "Realice una gráfica del círculo encontrado para 50 valores (x, y) equidistantes alrededor del círculo."
   ]
  },
  {
   "cell_type": "code",
   "execution_count": 3,
   "metadata": {},
   "outputs": [
    {
     "data": {
      "text/plain": [
       "'\\nx = D + rcos(0)\\ny = E + rsen(0)\\n'"
      ]
     },
     "execution_count": 3,
     "metadata": {},
     "output_type": "execute_result"
    }
   ],
   "source": [
    "##\n",
    "\n",
    "# x^2 + y^2 + ax + by + c = 0   (1)\n",
    "# (x - D)^2 + (y - E)^2 = r^2   (2)\n",
    "\n",
    "# Reemplazar en (1) cada punto\n",
    "\n",
    "# punto (-2, 0)\n",
    "# (-2)^2 + 0 -2a + 0 + c = 0\n",
    "\n",
    "# punto (-7, 1)\n",
    "# (-7)^2 + 1 - 7a + b + c = 0\n",
    "\n",
    "# punto (5, -1)\n",
    "# (5)^2 + (-1)^2 + 5a -b + c = 0\n",
    "\n",
    "# matriz aumentada\n",
    "'''\n",
    "| -2 0 1 | | a |  = -4\n",
    "| -7 1 1 | | b |  = 50\n",
    "| 5 -1 1 | | c |  = 26\n",
    "'''\n",
    "\n",
    "# Graficar\n",
    "# a = -2D ; b = -2E ; r^2 = D^2 + E^2 - C\n",
    "# en polares = \n",
    "'''\n",
    "x = D + rcos(0)\n",
    "y = E + rsen(0)\n",
    "'''\n",
    "##"
   ]
  },
  {
   "cell_type": "markdown",
   "metadata": {},
   "source": [
    "### Ejercicio 5\n",
    " Un polinomio de orden 4 está dado por la ecuación P(x)=c4 x\n",
    "4\n",
    "+c3 x\n",
    "3\n",
    "+c2 x\n",
    "2\n",
    "+c1 x+c0\n",
    ", donde\n",
    "c4, c3,c2,c1 yc0\n",
    "corresponden a coeficientes constantes. Encuentre la ecuación P(x) del polinomio\n",
    "de orden 4 que pasa por los puntos (-2.68, 0), (-3.25, 1.15), (-4.45, -1.56), (-6.25, -2.84) y (-8.15, 0.23).\n",
    "Utilice las funciones desarrolladas en los puntos 1 y 2 para hallar los coeficientes requeridos. Compare\n",
    "la solución encontrada con las funciones de la librería numpy del paquete linalg. Realice una gráfica\n",
    "del polinomio encontrado para x=−8.15 :0.1:−2.68 ."
   ]
  },
  {
   "cell_type": "code",
   "execution_count": null,
   "metadata": {},
   "outputs": [],
   "source": []
  }
 ],
 "metadata": {
  "kernelspec": {
   "display_name": "Python 3",
   "language": "python",
   "name": "python3"
  },
  "language_info": {
   "codemirror_mode": {
    "name": "ipython",
    "version": 3
   },
   "file_extension": ".py",
   "mimetype": "text/x-python",
   "name": "python",
   "nbconvert_exporter": "python",
   "pygments_lexer": "ipython3",
   "version": "3.7.4"
  }
 },
 "nbformat": 4,
 "nbformat_minor": 4
}
