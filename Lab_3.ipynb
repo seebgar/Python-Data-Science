{
 "cells": [
  {
   "cell_type": "markdown",
   "metadata": {},
   "source": [
    "# Laboratorio 3\n",
    "Sebastian Garcia 201630047"
   ]
  },
  {
   "cell_type": "markdown",
   "metadata": {},
   "source": [
    "### Ejercicio 1\n",
    "Escriba una función que multiplique todos los número de un arreglo"
   ]
  },
  {
   "cell_type": "code",
   "execution_count": 1,
   "metadata": {},
   "outputs": [
    {
     "name": "stdout",
     "output_type": "stream",
     "text": [
      "Arreglo: [1 2 3 4]\n",
      "Producto de los numeros: 24\n"
     ]
    }
   ],
   "source": [
    "import numpy as np\n",
    "\n",
    "##\n",
    "def producto(arr):\n",
    "    if len(arr) == 0: return 0\n",
    "    return np.prod(arr)\n",
    "\n",
    "def _producto(arr):\n",
    "    if len(arr) == 0: return 0\n",
    "    prod = 1\n",
    "    for x in arr:\n",
    "        prod *= x\n",
    "    return prod\n",
    "\n",
    "arr = np.arange(1, 5)\n",
    "print(f'Arreglo: {arr}')\n",
    "print(f'Producto de los numeros: {_producto(arr)}')\n"
   ]
  },
  {
   "cell_type": "markdown",
   "metadata": {},
   "source": [
    "### Ejercicio 2\n",
    "Factorial de un numero entero positivo"
   ]
  },
  {
   "cell_type": "code",
   "execution_count": 2,
   "metadata": {},
   "outputs": [
    {
     "name": "stdout",
     "output_type": "stream",
     "text": [
      "24\n"
     ]
    }
   ],
   "source": [
    "##\n",
    "def factorial(num):\n",
    "    if num < 0: return 0\n",
    "    if num == 0: return 1\n",
    "    return np.math.factorial(num)\n",
    "\n",
    "def _factorial(num):\n",
    "    if num < 0: return 0\n",
    "    if num == 0: return 1\n",
    "    res = 1\n",
    "    for x in range(1, num + 1): \n",
    "        res *= x \n",
    "    return res\n",
    "\n",
    "print(_factorial(4))\n",
    "    "
   ]
  },
  {
   "cell_type": "markdown",
   "metadata": {},
   "source": [
    "### Ejercicio 3\n",
    "Numero entero positivo es primo o no"
   ]
  },
  {
   "cell_type": "code",
   "execution_count": 3,
   "metadata": {},
   "outputs": [
    {
     "name": "stdout",
     "output_type": "stream",
     "text": [
      "True\n"
     ]
    }
   ],
   "source": [
    "##\n",
    "def _es_primo(num):\n",
    "    if num <= 1: return False\n",
    "    return all(num % i for i in range(2, num))\n",
    "\n",
    "print(_es_primo(11))"
   ]
  },
  {
   "cell_type": "markdown",
   "metadata": {},
   "source": [
    "### Ejercicio 4\n",
    "Es palindrome o no"
   ]
  },
  {
   "cell_type": "code",
   "execution_count": 4,
   "metadata": {},
   "outputs": [
    {
     "name": "stdout",
     "output_type": "stream",
     "text": [
      "True\n"
     ]
    }
   ],
   "source": [
    "##\n",
    "def _es_palindrome(cad):\n",
    "    return cad == cad[::-1]\n",
    "\n",
    "print(_es_palindrome(\"radar\"))"
   ]
  },
  {
   "cell_type": "markdown",
   "metadata": {},
   "source": [
    "### Ejercicio 5\n",
    "Numero entero positivo pertence a la serie de fibonacci"
   ]
  },
  {
   "cell_type": "code",
   "execution_count": 17,
   "metadata": {},
   "outputs": [
    {
     "name": "stdout",
     "output_type": "stream",
     "text": [
      "True\n"
     ]
    }
   ],
   "source": [
    "##\n",
    "def en_fibonacci(num):\n",
    "    if num < 0: return False\n",
    "    if num in [0,1]: return True\n",
    "    def seq(num): return (np.matrix([[2,1], [1,1]]) ** (num//2))[0, (num+1) % 2]\n",
    "    return num in [seq(i) for i in range(num)]\n",
    "\n",
    "def _en_fibonacci(num):\n",
    "    if num < 0: return False\n",
    "    if num in [0,1]: return True\n",
    "    secuencia = []\n",
    "    def seq(num):\n",
    "        secuencia.append(num)\n",
    "        return num if num <= 1 else seq(num-1) + seq(num-2)\n",
    "    seq(num)\n",
    "    return num in secuencia\n",
    "\n",
    "n = 21\n",
    "print(_en_fibonacci(n))\n"
   ]
  },
  {
   "cell_type": "markdown",
   "metadata": {},
   "source": [
    "### Ejercicio 6\n",
    "Funcion que calcula la media de cada fila o cada columna de una matriz"
   ]
  },
  {
   "cell_type": "code",
   "execution_count": 24,
   "metadata": {},
   "outputs": [
    {
     "name": "stdout",
     "output_type": "stream",
     "text": [
      "[3.5, 4.5, 5.5, 6.5, 7.5]\n"
     ]
    }
   ],
   "source": [
    "##\n",
    "def media(porFilas, mat):\n",
    "    axis = 1 if porFilas else 0\n",
    "    return np.mean(mat, axis=axis)\n",
    "\n",
    "def _media(porFilas, mat):\n",
    "    promedios = []\n",
    "    if porFilas:\n",
    "        for fila in mat:\n",
    "            suma = 0\n",
    "            for col in fila:\n",
    "                suma += col\n",
    "            prom = suma / len(fila)\n",
    "            promedios.append(prom)\n",
    "        return promedios\n",
    "    else:\n",
    "        cols = []\n",
    "        for i in range(len(mat[0])):\n",
    "            cols.append(mat[:,i])\n",
    "        for fila in cols:\n",
    "            suma = 0\n",
    "            for col in fila:\n",
    "                suma += col\n",
    "            prom = suma / len(fila)\n",
    "            promedios.append(prom)\n",
    "        return promedios\n",
    "                \n",
    "\n",
    "arr = np.arange(1, 11).reshape(2,5)\n",
    "print(_media(False, arr))"
   ]
  },
  {
   "cell_type": "markdown",
   "metadata": {},
   "source": [
    "### Ejercicio 7\n",
    "Maximo de cada fila o columnas de una matriz"
   ]
  },
  {
   "cell_type": "code",
   "execution_count": 30,
   "metadata": {},
   "outputs": [
    {
     "name": "stdout",
     "output_type": "stream",
     "text": [
      "[6, 7, 8, 9, 10]\n",
      "[ 6  7  8  9 10]\n"
     ]
    }
   ],
   "source": [
    "##\n",
    "def maximo(porFilas, mat):\n",
    "    axis = 1 if porFilas else 0\n",
    "    return np.max(mat, axis=axis)\n",
    "\n",
    "def _maximo(porFilas, mat):\n",
    "    maximos = []\n",
    "    if porFilas:\n",
    "        for fila in mat:\n",
    "            maximo = float('-inf')\n",
    "            for col in fila:\n",
    "                if col > maximo:\n",
    "                    maximo = col\n",
    "            maximos.append(maximo)\n",
    "        return maximos\n",
    "    else:\n",
    "        cols = []\n",
    "        for i in range(len(mat[0])):\n",
    "            cols.append(mat[:,i])\n",
    "        for fila in cols:\n",
    "            maximo = float('-inf')\n",
    "            for col in fila:\n",
    "                if col > maximo:\n",
    "                    maximo = col\n",
    "            maximos.append(maximo)\n",
    "        return maximos\n",
    "        \n",
    "\n",
    "arr = np.arange(1, 11).reshape(2,5)\n",
    "print(_maximo(False, arr))"
   ]
  },
  {
   "cell_type": "markdown",
   "metadata": {},
   "source": [
    "### Ejercicio 8\n",
    "Minimo"
   ]
  },
  {
   "cell_type": "code",
   "execution_count": 49,
   "metadata": {},
   "outputs": [
    {
     "name": "stdout",
     "output_type": "stream",
     "text": [
      "[1, 2, 3, 4, 5]\n"
     ]
    }
   ],
   "source": [
    "##\n",
    "def minimo(porFilas, mat):\n",
    "    axis = 1 if porFilas else 0\n",
    "    return np.min(mat, axis=axis)\n",
    "\n",
    "def _minimo(porFilas, mat):\n",
    "    minimos = []\n",
    "    if porFilas:\n",
    "        for fila in mat:\n",
    "            minimo = float('inf')\n",
    "            for col in fila:\n",
    "                if col < minimo:\n",
    "                    minimo = col\n",
    "            minimos.append(minimo)\n",
    "        return minimos\n",
    "    else:\n",
    "        cols = []\n",
    "        for i in range(len(mat[0])):\n",
    "            cols.append(mat[:,i])\n",
    "        for fila in cols:\n",
    "            minimo = float('inf')\n",
    "            for col in fila:\n",
    "                if col < minimo:\n",
    "                    minimo = col\n",
    "            minimos.append(minimo)\n",
    "        return minimos\n",
    "\n",
    "arr = np.arange(1, 11).reshape(2,5)\n",
    "print(_minimo(False, arr))"
   ]
  },
  {
   "cell_type": "markdown",
   "metadata": {},
   "source": [
    "### Ejercicio 9\n",
    "Matriz resultante de la suma de dos matrices de igual tamaño"
   ]
  },
  {
   "cell_type": "code",
   "execution_count": 60,
   "metadata": {},
   "outputs": [
    {
     "name": "stdout",
     "output_type": "stream",
     "text": [
      "[[ 0  2  4]\n",
      " [ 6  8 10]]\n"
     ]
    }
   ],
   "source": [
    "##\n",
    "def sumatoria(matA, matB): \n",
    "    res = matA\n",
    "    for x in range(len(matA)):\n",
    "        for y in range(len(matA[x])):\n",
    "            res[x][y] = (matA[x][y] + matB[x][y])\n",
    "    return res\n",
    "\n",
    "def _sumatoria(matA, matB): \n",
    "    return matA + matB\n",
    "\n",
    "arr =  np.arange(6).reshape(2,3)\n",
    "brr = np.arange(6).reshape(2,3)\n",
    "print(sumatoria(arr, brr))"
   ]
  },
  {
   "cell_type": "markdown",
   "metadata": {},
   "source": [
    "### Ejercicio 10\n",
    "Matriz resultante de la multiplicacion por elemento de dos matrices de igual tamaño"
   ]
  },
  {
   "cell_type": "code",
   "execution_count": 61,
   "metadata": {},
   "outputs": [
    {
     "name": "stdout",
     "output_type": "stream",
     "text": [
      "[[ 0  1  4]\n",
      " [ 9 16 25]]\n"
     ]
    }
   ],
   "source": [
    "##\n",
    "def multiplicados(matA, matB):\n",
    "    res = matA\n",
    "    for x in range(len(matA)):\n",
    "        for y in range(len(matA[x])):\n",
    "            res[x][y] = (matA[x][y] * matB[x][y])\n",
    "    return res\n",
    "\n",
    "def _multiplicados(matA, matB):\n",
    "    return matA * matB\n",
    "\n",
    "arr =  np.arange(6).reshape(2,3)\n",
    "brr = np.arange(6).reshape(2,3)\n",
    "print(multiplicados(arr, brr))"
   ]
  },
  {
   "cell_type": "markdown",
   "metadata": {},
   "source": [
    "### Ejercicio 11\n",
    "Ejercicos del 1 al 6 usando numpy"
   ]
  },
  {
   "cell_type": "code",
   "execution_count": 62,
   "metadata": {},
   "outputs": [],
   "source": [
    "## los de arriba sin el \"_\""
   ]
  },
  {
   "cell_type": "markdown",
   "metadata": {},
   "source": [
    "### Ejercicio 12\n",
    " Usando funciones de las librerías numpy y matplotlib para Python, grafique funciones seno entre 0\n",
    "y 10 segundos, que oscilen a frecuencias de 1 a 10 Hz con pasos de 1 Hz. Grafique la función\n",
    "sinusoidal vs. tiempo"
   ]
  },
  {
   "cell_type": "code",
   "execution_count": 79,
   "metadata": {},
   "outputs": [
    {
     "data": {
      "image/png": "[encoded data removed]",
      "text/plain": [
       "<Figure size 432x288 with 1 Axes>"
      ]
     },
     "metadata": {
      "needs_background": "light"
     },
     "output_type": "display_data"
    }
   ],
   "source": [
    "##\n",
    "import numpy as np\n",
    "import matplotlib.pyplot as plt\n",
    "\n",
    "tiempo = np.arange(0, 10, 0.1);\n",
    "seno = np.sin(tiempo)\n",
    "plt.plot(time, seno)\n",
    "plt.title('Seno V. Tiempo')\n",
    "plt.xlabel('Tiempo')\n",
    "plt.ylabel('Seno')\n",
    "plt.grid(True, which='both')\n",
    "plt.xticks(range(0, 11))\n",
    "plt.axhline(y=0, color='k')\n",
    "plt.show()"
   ]
  },
  {
   "cell_type": "markdown",
   "metadata": {},
   "source": [
    "### Ejercicio 13\n",
    " Usando funciones de las librerías numpy y matplotlib para Python, obtenga 10000 valores\n",
    "aleatorios con distribución uniforme y grafique el correspondiente histograma para un número de\n",
    "divisiones de 10, 20, 30 y 50 particiones."
   ]
  },
  {
   "cell_type": "code",
   "execution_count": 84,
   "metadata": {},
   "outputs": [
    {
     "data": {
      "image/png": "[encoded data removed]",
      "text/plain": [
       "<Figure size 432x288 with 1 Axes>"
      ]
     },
     "metadata": {
      "needs_background": "light"
     },
     "output_type": "display_data"
    }
   ],
   "source": [
    "##\n",
    "import numpy as np\n",
    "import matplotlib.pyplot as plt\n",
    "\n",
    "s = np.random.uniform(size=10000)\n",
    "plt.hist(s, 30, density=True)\n",
    "plt.show()\n",
    "\n",
    "## TODO - PARTICIONES"
   ]
  },
  {
   "cell_type": "markdown",
   "metadata": {},
   "source": [
    "Ejercicio 14\n",
    "Usando funciones de las librerías numpy y matplotlib para Python, obtenga 10000 valores\n",
    "aleatorios con distribución normal y grafique el correspondiente histograma para un número de\n",
    "divisiones de 10, 20, 30 y 50 particiones."
   ]
  },
  {
   "cell_type": "code",
   "execution_count": 81,
   "metadata": {},
   "outputs": [
    {
     "data": {
      "image/png": "[encoded data removed]",
      "text/plain": [
       "<Figure size 432x288 with 1 Axes>"
      ]
     },
     "metadata": {
      "needs_background": "light"
     },
     "output_type": "display_data"
    }
   ],
   "source": [
    "##\n",
    "import numpy as np\n",
    "import matplotlib.pyplot as plt\n",
    "\n",
    "mu, sigma = 0, 0.1 # mean and standard deviation\n",
    "s = np.random.normal(mu, sigma, 10000)\n",
    "plt.hist(s, 30, density=True)\n",
    "plt.show()\n",
    "\n",
    "## TODO - PARTICIONES"
   ]
  },
  {
   "cell_type": "code",
   "execution_count": null,
   "metadata": {},
   "outputs": [],
   "source": []
  }
 ],
 "metadata": {
  "kernelspec": {
   "display_name": "Python 3",
   "language": "python",
   "name": "python3"
  },
  "language_info": {
   "codemirror_mode": {
    "name": "ipython",
    "version": 3
   },
   "file_extension": ".py",
   "mimetype": "text/x-python",
   "name": "python",
   "nbconvert_exporter": "python",
   "pygments_lexer": "ipython3",
   "version": "3.7.4"
  }
 },
 "nbformat": 4,
 "nbformat_minor": 4
}
